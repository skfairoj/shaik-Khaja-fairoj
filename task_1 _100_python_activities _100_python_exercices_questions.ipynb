{
  "cells": [
    {
      "cell_type": "markdown",
      "metadata": {
        "id": "view-in-github",
        "colab_type": "text"
      },
      "source": [
        "<a href=\"https://colab.research.google.com/github/skfairoj/shaik-Khaja-fairoj/blob/main/task_1%20_100_python_activities%20_100_python_exercices_questions.ipynb\" target=\"_parent\"><img src=\"https://colab.research.google.com/assets/colab-badge.svg\" alt=\"Open In Colab\"/></a>"
      ]
    },
    {
      "cell_type": "markdown",
      "source": [
        "##Let’s tackle 100 coding problems from basics to advanced. Here you go:"
      ],
      "metadata": {
        "id": "vzCLvstxn82R"
      },
      "id": "vzCLvstxn82R"
    },
    {
      "cell_type": "markdown",
      "source": [
        "##Basic Coding Questions (1-30)"
      ],
      "metadata": {
        "id": "VaTmFUUon-bw"
      },
      "id": "VaTmFUUon-bw"
    },
    {
      "cell_type": "markdown",
      "id": "c4895b61",
      "metadata": {
        "id": "c4895b61"
      },
      "source": [
        "1. Write a Python program to print \"Hello, World!\""
      ]
    },
    {
      "cell_type": "code",
      "execution_count": null,
      "id": "80c3e7b2",
      "metadata": {
        "id": "80c3e7b2",
        "colab": {
          "base_uri": "https://localhost:8080/"
        },
        "outputId": "fa59ff84-7895-43a2-efe8-485a0d444f73"
      },
      "outputs": [
        {
          "output_type": "stream",
          "name": "stdout",
          "text": [
            "Hello, World\n"
          ]
        }
      ],
      "source": [
        "print('Hello, World')"
      ]
    },
    {
      "cell_type": "markdown",
      "id": "2ebb77f5",
      "metadata": {
        "id": "2ebb77f5"
      },
      "source": [
        "2. Write a Python program to add two numbers."
      ]
    },
    {
      "cell_type": "code",
      "execution_count": null,
      "id": "7aadb870",
      "metadata": {
        "id": "7aadb870",
        "colab": {
          "base_uri": "https://localhost:8080/"
        },
        "outputId": "655907d5-188c-45ce-f10c-1a67ad826ab3"
      },
      "outputs": [
        {
          "output_type": "stream",
          "name": "stdout",
          "text": [
            "20\n",
            "30\n",
            "50\n"
          ]
        }
      ],
      "source": [
        "print(int(input())+int(input()))\n"
      ]
    },
    {
      "cell_type": "markdown",
      "id": "8f32c010",
      "metadata": {
        "id": "8f32c010"
      },
      "source": [
        "3. Write a Python program to find the square root of a number."
      ]
    },
    {
      "cell_type": "code",
      "execution_count": null,
      "id": "1076d3b0",
      "metadata": {
        "id": "1076d3b0",
        "colab": {
          "base_uri": "https://localhost:8080/"
        },
        "outputId": "fd362389-09f4-4dd7-db20-ffee6c651060"
      },
      "outputs": [
        {
          "name": "stdout",
          "output_type": "stream",
          "text": [
            "625\n"
          ]
        },
        {
          "output_type": "execute_result",
          "data": {
            "text/plain": [
              "25.0"
            ]
          },
          "metadata": {},
          "execution_count": 6
        }
      ],
      "source": [
        "import math\n",
        "math.sqrt(int(input()))"
      ]
    },
    {
      "cell_type": "markdown",
      "id": "7f725f42",
      "metadata": {
        "id": "7f725f42"
      },
      "source": [
        "4. Write a Python program to swap two variables."
      ]
    },
    {
      "cell_type": "code",
      "execution_count": null,
      "id": "a230bb73",
      "metadata": {
        "id": "a230bb73",
        "colab": {
          "base_uri": "https://localhost:8080/"
        },
        "outputId": "25c3d887-ea7c-4f7b-a7a7-7367ac95ca70"
      },
      "outputs": [
        {
          "output_type": "stream",
          "name": "stdout",
          "text": [
            "10\n",
            "02\n",
            "02 10\n"
          ]
        }
      ],
      "source": [
        "x=input()\n",
        "y=input()\n",
        "x,y=y,x\n",
        "print(x,y)"
      ]
    },
    {
      "cell_type": "markdown",
      "id": "f6ea5b17",
      "metadata": {
        "id": "f6ea5b17"
      },
      "source": [
        "5. Write a Python program to find the area of a triangle."
      ]
    },
    {
      "cell_type": "code",
      "execution_count": null,
      "id": "a769af6b",
      "metadata": {
        "id": "a769af6b",
        "colab": {
          "base_uri": "https://localhost:8080/"
        },
        "outputId": "31a67fad-6c55-4df0-a1a2-0b10ac5d87f4"
      },
      "outputs": [
        {
          "output_type": "stream",
          "name": "stdout",
          "text": [
            "3\n",
            "4\n",
            "5\n",
            "6.0\n"
          ]
        }
      ],
      "source": [
        "import math\n",
        "a=int(input())\n",
        "b=int(input())\n",
        "c=int(input())\n",
        "s=(a+b+c)/2\n",
        "area=math.sqrt(s*(s-a)*(s-b)*(s-c))\n",
        "print(area)"
      ]
    },
    {
      "cell_type": "markdown",
      "id": "d6c7f59f",
      "metadata": {
        "id": "d6c7f59f"
      },
      "source": [
        "6. Write a Python program to solve quadratic equations."
      ]
    },
    {
      "cell_type": "code",
      "execution_count": null,
      "id": "c6b908c9",
      "metadata": {
        "id": "c6b908c9",
        "outputId": "7a6d61f9-ef0d-4724-8483-799fa6c8e4dd",
        "colab": {
          "base_uri": "https://localhost:8080/"
        }
      },
      "outputs": [
        {
          "output_type": "stream",
          "name": "stdout",
          "text": [
            "2\n",
            "-5\n",
            "2\n",
            "2.0 0.5\n"
          ]
        }
      ],
      "source": [
        "a=float(input())\n",
        "b=float(input())\n",
        "c=float(input())\n",
        "d=(b**2)-(4*a*c)\n",
        "sol1=(-b+d**0.5)/(2*a)\n",
        "sol2=(-b-d**0.5)/(2*a)\n",
        "print(sol1,sol2)\n"
      ]
    },
    {
      "cell_type": "markdown",
      "id": "84d19ebd",
      "metadata": {
        "id": "84d19ebd"
      },
      "source": [
        "7. Write a Python program to generate a random number."
      ]
    },
    {
      "cell_type": "code",
      "execution_count": null,
      "id": "881853ce",
      "metadata": {
        "id": "881853ce",
        "colab": {
          "base_uri": "https://localhost:8080/"
        },
        "outputId": "3260b08b-9d97-4aff-fc4c-d2054d14f504"
      },
      "outputs": [
        {
          "output_type": "stream",
          "name": "stdout",
          "text": [
            "3\n"
          ]
        }
      ],
      "source": [
        "import random\n",
        "print(random.randint(0,9))"
      ]
    },
    {
      "cell_type": "markdown",
      "id": "db927aaf",
      "metadata": {
        "id": "db927aaf"
      },
      "source": [
        "8. Write a Python program to convert kilometers to miles."
      ]
    },
    {
      "cell_type": "code",
      "execution_count": null,
      "id": "e321f860",
      "metadata": {
        "id": "e321f860",
        "colab": {
          "base_uri": "https://localhost:8080/"
        },
        "outputId": "92919937-e550-4ad5-b7c3-232acd39f5aa"
      },
      "outputs": [
        {
          "output_type": "stream",
          "name": "stdout",
          "text": [
            "8.900\n",
            "5.530201900000001\n"
          ]
        }
      ],
      "source": [
        "kilometers=float(input())\n",
        "miles=kilometers*0.621371\n",
        "print(miles)"
      ]
    },
    {
      "cell_type": "markdown",
      "id": "17312243",
      "metadata": {
        "id": "17312243"
      },
      "source": [
        "9. Write a Python program to convert Celsius to Fahrenheit."
      ]
    },
    {
      "cell_type": "code",
      "execution_count": null,
      "id": "69e7f3f6",
      "metadata": {
        "id": "69e7f3f6",
        "colab": {
          "base_uri": "https://localhost:8080/"
        },
        "outputId": "2698e3f8-28f1-405b-a46f-10e1f880150d"
      },
      "outputs": [
        {
          "output_type": "stream",
          "name": "stdout",
          "text": [
            "57.3\n",
            "135.14\n"
          ]
        }
      ],
      "source": [
        "celsius=float(input())\n",
        "fahrenheit=(celsius*1.8)+32\n",
        "print(fahrenheit)"
      ]
    },
    {
      "cell_type": "markdown",
      "id": "fc8070c1",
      "metadata": {
        "id": "fc8070c1"
      },
      "source": [
        "10. Write a Python program to check if a number is positive, negative, or zero."
      ]
    },
    {
      "cell_type": "code",
      "execution_count": null,
      "id": "6cb704ea",
      "metadata": {
        "id": "6cb704ea",
        "colab": {
          "base_uri": "https://localhost:8080/"
        },
        "outputId": "a56d8bd9-8e1f-42a0-899c-54a38d3fc31a"
      },
      "outputs": [
        {
          "output_type": "stream",
          "name": "stdout",
          "text": [
            "3\n",
            "positive\n"
          ]
        }
      ],
      "source": [
        "number=int(input())\n",
        "if number>0:\n",
        "  print('positive')\n",
        "elif number<0:\n",
        "  print('negative')\n",
        "else:\n",
        "  print('zero')"
      ]
    },
    {
      "cell_type": "markdown",
      "id": "5f6bf02f",
      "metadata": {
        "id": "5f6bf02f"
      },
      "source": [
        "11. Write a Python program to check if a number is odd or even."
      ]
    },
    {
      "cell_type": "code",
      "execution_count": null,
      "id": "f2212b4c",
      "metadata": {
        "id": "f2212b4c",
        "colab": {
          "base_uri": "https://localhost:8080/"
        },
        "outputId": "43319e8e-4b68-496f-e2ea-cafe1e87c8f0"
      },
      "outputs": [
        {
          "output_type": "stream",
          "name": "stdout",
          "text": [
            "9\n",
            "odd\n"
          ]
        }
      ],
      "source": [
        "number=int(input())\n",
        "if number%2==0:\n",
        "  print('even')\n",
        "else:\n",
        "  print('odd')"
      ]
    },
    {
      "cell_type": "markdown",
      "id": "b83b3020",
      "metadata": {
        "id": "b83b3020"
      },
      "source": [
        "12. Write a Python program to check leap year."
      ]
    },
    {
      "cell_type": "code",
      "execution_count": null,
      "id": "a103a8b0",
      "metadata": {
        "id": "a103a8b0",
        "colab": {
          "base_uri": "https://localhost:8080/"
        },
        "outputId": "b0e48a00-7fcd-4c8c-896c-7cc86c3b1cec"
      },
      "outputs": [
        {
          "output_type": "stream",
          "name": "stdout",
          "text": [
            "2024\n",
            "leap year\n"
          ]
        }
      ],
      "source": [
        "year=int(input())\n",
        "if year%4==0:\n",
        "  print('leap year')\n",
        "else:\n",
        "  print('not a leap year')"
      ]
    },
    {
      "cell_type": "markdown",
      "id": "d265039e",
      "metadata": {
        "id": "d265039e"
      },
      "source": [
        "13. Write a Python program to find the largest among three numbers."
      ]
    },
    {
      "cell_type": "code",
      "execution_count": null,
      "id": "af8eed02",
      "metadata": {
        "id": "af8eed02",
        "colab": {
          "base_uri": "https://localhost:8080/"
        },
        "outputId": "2912abfb-6368-4832-a3fe-30ee10924526"
      },
      "outputs": [
        {
          "output_type": "stream",
          "name": "stdout",
          "text": [
            "55\n",
            "88\n",
            "11\n",
            "88\n"
          ]
        }
      ],
      "source": [
        "number1=int(input())\n",
        "number2=int(input())\n",
        "number3=int(input())\n",
        "if number1>number2 and number1>number3:\n",
        "  print(number1)\n",
        "elif number2>number1 and number2>number3:\n",
        "  print(number2)\n",
        "else:\n",
        "  print(number3)"
      ]
    },
    {
      "cell_type": "markdown",
      "id": "d1de0bf4",
      "metadata": {
        "id": "d1de0bf4"
      },
      "source": [
        "14. Write a Python program to check prime number."
      ]
    },
    {
      "cell_type": "code",
      "execution_count": null,
      "id": "b9f439c5",
      "metadata": {
        "id": "b9f439c5",
        "colab": {
          "base_uri": "https://localhost:8080/"
        },
        "outputId": "aee1b871-6f6a-4678-fd82-41f616aa3e22"
      },
      "outputs": [
        {
          "output_type": "stream",
          "name": "stdout",
          "text": [
            "3\n",
            "prime number\n"
          ]
        }
      ],
      "source": [
        "number=int(input())\n",
        "for i in range(2,number):\n",
        "  if number%i==0:\n",
        "    print('not a prime number')\n",
        "    break\n",
        "else:\n",
        "  print('prime number')"
      ]
    },
    {
      "cell_type": "markdown",
      "id": "fab44f8b",
      "metadata": {
        "id": "fab44f8b"
      },
      "source": [
        "15. Write a Python program to print all prime numbers in an interval."
      ]
    },
    {
      "cell_type": "code",
      "execution_count": null,
      "id": "1c20611d",
      "metadata": {
        "id": "1c20611d",
        "colab": {
          "base_uri": "https://localhost:8080/"
        },
        "outputId": "3f5400e2-e2e2-4779-d5b1-57b87ad01979"
      },
      "outputs": [
        {
          "output_type": "stream",
          "name": "stdout",
          "text": [
            "1\n",
            "10\n",
            "1\n",
            "2\n",
            "3\n",
            "5\n",
            "7\n"
          ]
        }
      ],
      "source": [
        "number1=int(input())\n",
        "number2=int(input())\n",
        "for i in range(number1,number2+1):\n",
        "  for j in range(2,i):\n",
        "    if i%j==0:\n",
        "      break\n",
        "  else:\n",
        "    print(i)"
      ]
    },
    {
      "cell_type": "markdown",
      "id": "5cd434ea",
      "metadata": {
        "id": "5cd434ea"
      },
      "source": [
        "16. Write a Python program to find the factorial of a number."
      ]
    },
    {
      "cell_type": "code",
      "execution_count": null,
      "id": "78fdb1c2",
      "metadata": {
        "id": "78fdb1c2",
        "colab": {
          "base_uri": "https://localhost:8080/"
        },
        "outputId": "337ac4ee-e897-4738-d7b7-3468e6f2dcaa"
      },
      "outputs": [
        {
          "output_type": "stream",
          "name": "stdout",
          "text": [
            "10\n",
            "3628800\n"
          ]
        }
      ],
      "source": [
        "import math\n",
        "number=int(input())\n",
        "print(math.factorial(number))"
      ]
    },
    {
      "cell_type": "code",
      "source": [
        "n=int(input())\n",
        "factorial=1\n",
        "for i in range(1,n+1):\n",
        "  factorial*=i\n",
        "print(factorial)\n"
      ],
      "metadata": {
        "colab": {
          "base_uri": "https://localhost:8080/"
        },
        "id": "2jhIl-Ez_u4V",
        "outputId": "63bf0491-78eb-4401-936d-cc6c78b7ba15"
      },
      "id": "2jhIl-Ez_u4V",
      "execution_count": null,
      "outputs": [
        {
          "output_type": "stream",
          "name": "stdout",
          "text": [
            "10\n",
            "3628800\n"
          ]
        }
      ]
    },
    {
      "cell_type": "markdown",
      "id": "2adb819c",
      "metadata": {
        "id": "2adb819c"
      },
      "source": [
        "17. Write a Python program to display the multiplication table."
      ]
    },
    {
      "cell_type": "code",
      "execution_count": null,
      "id": "86f3c8f2",
      "metadata": {
        "id": "86f3c8f2",
        "colab": {
          "base_uri": "https://localhost:8080/"
        },
        "outputId": "7fc21eca-2244-429d-c3f3-f83bd1f12894"
      },
      "outputs": [
        {
          "output_type": "stream",
          "name": "stdout",
          "text": [
            "20\n",
            "20 * 1 = 20\n",
            "20 * 2 = 40\n",
            "20 * 3 = 60\n",
            "20 * 4 = 80\n",
            "20 * 5 = 100\n",
            "20 * 6 = 120\n",
            "20 * 7 = 140\n",
            "20 * 8 = 160\n",
            "20 * 9 = 180\n",
            "20 * 10 = 200\n"
          ]
        }
      ],
      "source": [
        "number=int(input())\n",
        "for i in range(1,11):\n",
        "  print(number,'*',i,'=',number*i)"
      ]
    },
    {
      "cell_type": "markdown",
      "id": "00b1803e",
      "metadata": {
        "id": "00b1803e"
      },
      "source": [
        "18. Write a Python program to print the Fibonacci sequence."
      ]
    },
    {
      "cell_type": "code",
      "execution_count": null,
      "id": "0985ca23",
      "metadata": {
        "id": "0985ca23",
        "colab": {
          "base_uri": "https://localhost:8080/"
        },
        "outputId": "ae45c36d-64d6-427f-b87e-0247b45631f3"
      },
      "outputs": [
        {
          "output_type": "stream",
          "name": "stdout",
          "text": [
            "10\n",
            "0\n",
            "1\n",
            "1\n",
            "2\n",
            "3\n",
            "5\n",
            "8\n",
            "13\n",
            "21\n",
            "34\n"
          ]
        }
      ],
      "source": [
        "number=int(input())\n",
        "a=0\n",
        "b=1\n",
        "print(a)\n",
        "print(b)\n",
        "for i in range(2,number):\n",
        "  c=a+b\n",
        "  a=b\n",
        "  b=c\n",
        "  print(c)"
      ]
    },
    {
      "cell_type": "markdown",
      "id": "189ea50f",
      "metadata": {
        "id": "189ea50f"
      },
      "source": [
        "19. Write a Python program to check Armstrong number."
      ]
    },
    {
      "cell_type": "code",
      "execution_count": null,
      "id": "31314453",
      "metadata": {
        "id": "31314453",
        "colab": {
          "base_uri": "https://localhost:8080/"
        },
        "outputId": "8c534537-9451-4f08-a456-6307483f9107"
      },
      "outputs": [
        {
          "output_type": "stream",
          "name": "stdout",
          "text": [
            "153\n",
            "armstrong number 153\n"
          ]
        }
      ],
      "source": [
        "number=int(input())\n",
        "sum=0\n",
        "temp=number\n",
        "while temp>0:\n",
        "  digit=temp%10\n",
        "  sum+=digit**3\n",
        "  temp//=10\n",
        "if number==sum:\n",
        "  print('armstrong number',sum)\n",
        "else:\n",
        "  print('not an armstrong number',sum)"
      ]
    },
    {
      "cell_type": "code",
      "source": [
        "n=input()\n",
        "sum=0\n",
        "for i in n:\n",
        "  sum+=int(i)**3\n",
        "if sum==int(n):\n",
        "  print('armstrong number',sum)\n",
        "else:\n",
        "  print('not an arm stong number',sum)\n"
      ],
      "metadata": {
        "id": "SZA5RNAeBud7",
        "outputId": "bb8783f1-f1d5-47cd-d7e3-0e5e70e5ccec",
        "colab": {
          "base_uri": "https://localhost:8080/"
        }
      },
      "id": "SZA5RNAeBud7",
      "execution_count": null,
      "outputs": [
        {
          "output_type": "stream",
          "name": "stdout",
          "text": [
            "153\n",
            "armstrong number 153\n"
          ]
        }
      ]
    },
    {
      "cell_type": "markdown",
      "id": "aaa5e50e",
      "metadata": {
        "id": "aaa5e50e"
      },
      "source": [
        "20. Write a Python program to find the sum of natural numbers."
      ]
    },
    {
      "cell_type": "code",
      "execution_count": null,
      "id": "3e8dfe88",
      "metadata": {
        "id": "3e8dfe88",
        "colab": {
          "base_uri": "https://localhost:8080/"
        },
        "outputId": "16799b17-cd35-4ed3-d286-00303e6d737f"
      },
      "outputs": [
        {
          "output_type": "stream",
          "name": "stdout",
          "text": [
            "10\n",
            "55\n"
          ]
        }
      ],
      "source": [
        "number=int(input())\n",
        "sum=0\n",
        "for i in range(1,number+1):\n",
        "  sum+=i\n",
        "print(sum)"
      ]
    },
    {
      "cell_type": "markdown",
      "id": "40765ef8",
      "metadata": {
        "id": "40765ef8"
      },
      "source": [
        "21. Write a Python program to find the factors of a number."
      ]
    },
    {
      "cell_type": "code",
      "execution_count": null,
      "id": "c47e05a4",
      "metadata": {
        "id": "c47e05a4",
        "colab": {
          "base_uri": "https://localhost:8080/"
        },
        "outputId": "48ecde3b-93e2-4016-8dea-2ed7adb47a7f"
      },
      "outputs": [
        {
          "output_type": "stream",
          "name": "stdout",
          "text": [
            "Enter a number: 12\n",
            "The factors of 12 are:\n",
            "1\n",
            "2\n",
            "3\n",
            "4\n",
            "6\n",
            "12\n"
          ]
        }
      ],
      "source": [
        "num = int(input(\"Enter a number: \"))\n",
        "print(\"The factors of\", num, \"are:\")\n",
        "for i in range(1, num + 1):\n",
        "    if num % i == 0:\n",
        "        print(i)"
      ]
    },
    {
      "cell_type": "markdown",
      "id": "aeeb0164",
      "metadata": {
        "id": "aeeb0164"
      },
      "source": [
        "22. Write a Python program to convert decimal to binary, octal, and hexadecimal."
      ]
    },
    {
      "cell_type": "code",
      "execution_count": null,
      "id": "e9886bee",
      "metadata": {
        "id": "e9886bee",
        "colab": {
          "base_uri": "https://localhost:8080/"
        },
        "outputId": "21c41ca4-f5fb-4aed-b094-9c02abba344b"
      },
      "outputs": [
        {
          "output_type": "stream",
          "name": "stdout",
          "text": [
            "1235\n",
            "0b10011010011\n",
            "0o2323\n",
            "0x4d3\n"
          ]
        }
      ],
      "source": [
        "number=int(input())\n",
        "print(bin(number))\n",
        "print(oct(number))\n",
        "print(hex(number))"
      ]
    },
    {
      "cell_type": "markdown",
      "id": "3c87a213",
      "metadata": {
        "id": "3c87a213"
      },
      "source": [
        "23. Write a Python program to find ASCII value of a character."
      ]
    },
    {
      "cell_type": "code",
      "execution_count": null,
      "id": "14f60824",
      "metadata": {
        "id": "14f60824",
        "colab": {
          "base_uri": "https://localhost:8080/"
        },
        "outputId": "21f251b8-9c49-4dfe-aed9-bdc8426f6255"
      },
      "outputs": [
        {
          "output_type": "stream",
          "name": "stdout",
          "text": [
            "k\n",
            "107\n"
          ]
        }
      ],
      "source": [
        "character=input()\n",
        "print(ord(character))"
      ]
    },
    {
      "cell_type": "markdown",
      "id": "892d77a4",
      "metadata": {
        "id": "892d77a4"
      },
      "source": [
        "24. Write a Python program to find HCF or GCD."
      ]
    },
    {
      "cell_type": "code",
      "execution_count": null,
      "id": "5c2e3c92",
      "metadata": {
        "id": "5c2e3c92",
        "colab": {
          "base_uri": "https://localhost:8080/"
        },
        "outputId": "a592026e-6c2d-402a-d676-d246527d019a"
      },
      "outputs": [
        {
          "output_type": "stream",
          "name": "stdout",
          "text": [
            "12\n",
            "28\n",
            "4\n"
          ]
        }
      ],
      "source": [
        "num1=int(input())\n",
        "num2=int(input())\n",
        "if num1>num2:\n",
        "  smaller=num2\n",
        "else:\n",
        "  smaller=num1\n",
        "for i in range(1,smaller+1):\n",
        "  if num1%i==0 and num2%i==0:\n",
        "    hcf=i\n",
        "print(hcf)\n"
      ]
    },
    {
      "cell_type": "markdown",
      "id": "45e7c7ec",
      "metadata": {
        "id": "45e7c7ec"
      },
      "source": [
        "25. Write a Python program to find LCM."
      ]
    },
    {
      "cell_type": "code",
      "execution_count": null,
      "id": "4272f7a6",
      "metadata": {
        "id": "4272f7a6",
        "colab": {
          "base_uri": "https://localhost:8080/"
        },
        "outputId": "9478e407-7d69-4b34-e4cc-fbfad46abe71"
      },
      "outputs": [
        {
          "output_type": "stream",
          "name": "stdout",
          "text": [
            "2\n",
            "10\n",
            "10\n"
          ]
        }
      ],
      "source": [
        "num1=int(input())\n",
        "num2=int(input())\n",
        "if num1>num2:\n",
        "  greater=num1\n",
        "else:\n",
        "  greater=num2\n",
        "while True:\n",
        "  if greater%num1==0 and greater%num2==0:\n",
        "    lcm=greater\n",
        "    break\n",
        "  greater+=1\n",
        "print(lcm)"
      ]
    },
    {
      "cell_type": "markdown",
      "id": "d1ca75c0",
      "metadata": {
        "id": "d1ca75c0"
      },
      "source": [
        "26. Write a Python program to count the number of each vowel."
      ]
    },
    {
      "cell_type": "code",
      "execution_count": null,
      "id": "14a94e61",
      "metadata": {
        "id": "14a94e61",
        "colab": {
          "base_uri": "https://localhost:8080/"
        },
        "outputId": "03b8c712-4ee2-462d-b537-7c193ad281e1"
      },
      "outputs": [
        {
          "output_type": "stream",
          "name": "stdout",
          "text": [
            "adithyavardhan\n",
            "5\n"
          ]
        }
      ],
      "source": [
        "s=input()\n",
        "vowels='aeiouAEIOU'\n",
        "count=0\n",
        "for i in s:\n",
        "  if i in vowels:\n",
        "    count+=1\n",
        "print(count)\n"
      ]
    },
    {
      "cell_type": "code",
      "source": [
        "s=input()\n",
        "vowels='aeiouAEIOU'\n",
        "count=0\n",
        "for i in vowels:\n",
        "  if i in s:\n",
        "    print(i,s.count(i))"
      ],
      "metadata": {
        "id": "1WQIFFeVELlJ",
        "outputId": "436c218d-330c-4933-e841-60ce62404812",
        "colab": {
          "base_uri": "https://localhost:8080/"
        }
      },
      "id": "1WQIFFeVELlJ",
      "execution_count": null,
      "outputs": [
        {
          "output_type": "stream",
          "name": "stdout",
          "text": [
            "Adithyavardhan\n",
            "a 3\n",
            "i 1\n",
            "A 1\n"
          ]
        }
      ]
    },
    {
      "cell_type": "markdown",
      "id": "16b5cc09",
      "metadata": {
        "id": "16b5cc09"
      },
      "source": [
        "27. Write a Python program to find the sum of digits of a number."
      ]
    },
    {
      "cell_type": "code",
      "execution_count": null,
      "id": "791b2365",
      "metadata": {
        "id": "791b2365",
        "colab": {
          "base_uri": "https://localhost:8080/"
        },
        "outputId": "52da5c0f-1735-4b9b-b522-d9cd9d3f3044"
      },
      "outputs": [
        {
          "output_type": "stream",
          "name": "stdout",
          "text": [
            "123456789\n",
            "45\n"
          ]
        }
      ],
      "source": [
        "n=input()\n",
        "sum=0\n",
        "for i in n:\n",
        "  sum+=int(i)\n",
        "print(sum)"
      ]
    },
    {
      "cell_type": "markdown",
      "id": "848a05ed",
      "metadata": {
        "id": "848a05ed"
      },
      "source": [
        "28. Write a Python program to find the reverse of a number."
      ]
    },
    {
      "cell_type": "code",
      "execution_count": null,
      "id": "bb88ed2c",
      "metadata": {
        "id": "bb88ed2c",
        "colab": {
          "base_uri": "https://localhost:8080/"
        },
        "outputId": "fda748a1-c765-4395-dfe2-d33386264b3d"
      },
      "outputs": [
        {
          "output_type": "stream",
          "name": "stdout",
          "text": [
            "23456\n",
            "65432\n"
          ]
        }
      ],
      "source": [
        "n=input()\n",
        "print(int(n[::-1]))"
      ]
    },
    {
      "cell_type": "markdown",
      "id": "33b01807",
      "metadata": {
        "id": "33b01807"
      },
      "source": [
        "29. Write a Python program to check if a number is palindrome or not."
      ]
    },
    {
      "cell_type": "code",
      "execution_count": null,
      "id": "dbc7b695",
      "metadata": {
        "id": "dbc7b695",
        "colab": {
          "base_uri": "https://localhost:8080/"
        },
        "outputId": "8fe3c7d4-73d0-4adf-bf40-abd391cc6b10"
      },
      "outputs": [
        {
          "output_type": "stream",
          "name": "stdout",
          "text": [
            "121\n",
            "Palindrome\n"
          ]
        }
      ],
      "source": [
        "n=input()\n",
        "print('Palindrome' if n==n[::-1] else 'Not a Palindrome')\n"
      ]
    },
    {
      "cell_type": "markdown",
      "id": "eb1bc881",
      "metadata": {
        "id": "eb1bc881"
      },
      "source": [
        "30. Write a Python program to print Pascal’s triangle.\n",
        "\n",
        "---\n",
        "\n"
      ]
    },
    {
      "cell_type": "code",
      "execution_count": null,
      "id": "7a624c89",
      "metadata": {
        "id": "7a624c89",
        "outputId": "19589018-d5c4-401b-e180-dc6479f9eb30",
        "colab": {
          "base_uri": "https://localhost:8080/"
        }
      },
      "outputs": [
        {
          "output_type": "stream",
          "name": "stdout",
          "text": [
            "Enter the number of rows: 5\n",
            "1 1\n",
            "1 2 1\n",
            "1 3 3 1\n",
            "1 4 6 4 1\n",
            "1 5 10 10 5 1\n"
          ]
        }
      ],
      "source": [
        "def print_pascals_triangle(num_rows):\n",
        "\n",
        "  triangle = []\n",
        "  for i in range(num_rows):\n",
        "    row = [1]\n",
        "    if triangle:\n",
        "      last_row = triangle[-1]\n",
        "      for j in range(len(last_row) - 1):\n",
        "        row.append(last_row[j] + last_row[j + 1])\n",
        "    row.append(1)\n",
        "    triangle.append(row)\n",
        "\n",
        "\n",
        "  for row in triangle:\n",
        "    print(\" \".join(map(str, row)))\n",
        "\n",
        "num_rows = int(input(\"Enter the number of rows: \"))\n",
        "\n",
        "\n",
        "print_pascals_triangle(num_rows)"
      ]
    },
    {
      "cell_type": "markdown",
      "source": [
        "##Intermediate Coding Questions (31-60)"
      ],
      "metadata": {
        "id": "1wQiXVZaoV-9"
      },
      "id": "1wQiXVZaoV-9"
    },
    {
      "cell_type": "markdown",
      "id": "2071b16f",
      "metadata": {
        "id": "2071b16f"
      },
      "source": [
        "31. Write a Python program to sort a list in ascending order."
      ]
    },
    {
      "cell_type": "code",
      "execution_count": null,
      "id": "e0becc93",
      "metadata": {
        "id": "e0becc93",
        "colab": {
          "base_uri": "https://localhost:8080/"
        },
        "outputId": "f8cd65b2-c5bc-4b77-9b29-5933eb1de46d"
      },
      "outputs": [
        {
          "output_type": "stream",
          "name": "stdout",
          "text": [
            "[1, 2, 3, 4, 5, 6, 7, 8, 9]\n"
          ]
        }
      ],
      "source": [
        "list=[1,2,3,4,5,6,7,8,9]\n",
        "list.sort()\n",
        "print(list)"
      ]
    },
    {
      "cell_type": "code",
      "source": [
        "list=[1,2,3,4,5,6,7,8]\n",
        "print(sorted(list))"
      ],
      "metadata": {
        "id": "0v6_ChtXJpVM",
        "outputId": "4932b355-1fa1-4951-f8db-40b52ff91d03",
        "colab": {
          "base_uri": "https://localhost:8080/"
        }
      },
      "id": "0v6_ChtXJpVM",
      "execution_count": null,
      "outputs": [
        {
          "output_type": "stream",
          "name": "stdout",
          "text": [
            "[1, 2, 3, 4, 5, 6, 7, 8]\n"
          ]
        }
      ]
    },
    {
      "cell_type": "markdown",
      "id": "05f5ce04",
      "metadata": {
        "id": "05f5ce04"
      },
      "source": [
        "32. Write a Python program to sort a list in descending order."
      ]
    },
    {
      "cell_type": "code",
      "execution_count": null,
      "id": "3da284ea",
      "metadata": {
        "id": "3da284ea",
        "colab": {
          "base_uri": "https://localhost:8080/"
        },
        "outputId": "32cf15e8-fe5a-4071-db43-e98604b555a0"
      },
      "outputs": [
        {
          "output_type": "stream",
          "name": "stdout",
          "text": [
            "[9, 8, 7, 6, 5, 3, 2, 1, 0]\n"
          ]
        }
      ],
      "source": [
        "list=[1,2,3,0,5,6,7,8,9]\n",
        "list.sort(reverse=True)\n",
        "print(list)"
      ]
    },
    {
      "cell_type": "markdown",
      "id": "8fce7d72",
      "metadata": {
        "id": "8fce7d72"
      },
      "source": [
        "33. Write a Python program to remove duplicates from a list."
      ]
    },
    {
      "cell_type": "code",
      "execution_count": null,
      "id": "50c03983",
      "metadata": {
        "id": "50c03983",
        "colab": {
          "base_uri": "https://localhost:8080/"
        },
        "outputId": "8733752c-c816-4cbb-cab4-b7538bf6d919"
      },
      "outputs": [
        {
          "output_type": "stream",
          "name": "stdout",
          "text": [
            "[1, 2, 3, 4, 5]\n"
          ]
        }
      ],
      "source": [
        "def remove_duplicates(list):\n",
        "  new_list=[]\n",
        "  for i in list:\n",
        "    if i not in new_list:\n",
        "      new_list.append(i)\n",
        "  return new_list\n",
        "list=[1, 2, 2, 3, 4, 4, 5]\n",
        "print(remove_duplicates(list))"
      ]
    },
    {
      "cell_type": "markdown",
      "id": "278f619d",
      "metadata": {
        "id": "278f619d"
      },
      "source": [
        "34. Write a Python program to merge two lists."
      ]
    },
    {
      "cell_type": "code",
      "execution_count": 1,
      "id": "7cd4ebd5",
      "metadata": {
        "id": "7cd4ebd5",
        "colab": {
          "base_uri": "https://localhost:8080/"
        },
        "outputId": "c2328084-2ec1-464d-fe59-4f9c6001c0c2"
      },
      "outputs": [
        {
          "output_type": "stream",
          "name": "stdout",
          "text": [
            "[1, 2, 3, 4, 5, 6]\n"
          ]
        }
      ],
      "source": [
        "list = [1, 2, 3]\n",
        "list2 = [4, 5, 6]\n",
        "print(list+list2)"
      ]
    },
    {
      "cell_type": "markdown",
      "id": "626557f9",
      "metadata": {
        "id": "626557f9"
      },
      "source": [
        "35. Write a Python program to find the second largest number in a list."
      ]
    },
    {
      "cell_type": "code",
      "execution_count": 2,
      "id": "b6e8c5ce",
      "metadata": {
        "id": "b6e8c5ce",
        "colab": {
          "base_uri": "https://localhost:8080/"
        },
        "outputId": "35af0a49-a028-4223-c7c0-fcb37f67cd09"
      },
      "outputs": [
        {
          "output_type": "stream",
          "name": "stdout",
          "text": [
            "8\n"
          ]
        }
      ],
      "source": [
        "list = [1, 2, 3, 4, 5, 6, 7, 8, 9]\n",
        "list.sort()\n",
        "print(list[-2])"
      ]
    },
    {
      "cell_type": "markdown",
      "id": "879eefd9",
      "metadata": {
        "id": "879eefd9"
      },
      "source": [
        "36. Write a Python program to find the second smallest number in a list."
      ]
    },
    {
      "cell_type": "code",
      "execution_count": 3,
      "id": "5ebf0dcd",
      "metadata": {
        "id": "5ebf0dcd",
        "colab": {
          "base_uri": "https://localhost:8080/"
        },
        "outputId": "5aea6f73-b1f9-4bb8-cf5f-f69f9eb8ae0c"
      },
      "outputs": [
        {
          "output_type": "stream",
          "name": "stdout",
          "text": [
            "2\n"
          ]
        }
      ],
      "source": [
        "list = [1, 2, 3, 4, 5, 6, 7, 8, 9]\n",
        "list.sort()\n",
        "print(list[1])"
      ]
    },
    {
      "cell_type": "markdown",
      "id": "20e865f2",
      "metadata": {
        "id": "20e865f2"
      },
      "source": [
        "37. Write a Python program to find the sum of elements in a list."
      ]
    },
    {
      "cell_type": "code",
      "execution_count": 4,
      "id": "5ffe9813",
      "metadata": {
        "id": "5ffe9813",
        "colab": {
          "base_uri": "https://localhost:8080/"
        },
        "outputId": "38676108-fd14-446c-f147-2e6c8f332d44"
      },
      "outputs": [
        {
          "output_type": "stream",
          "name": "stdout",
          "text": [
            "45\n"
          ]
        }
      ],
      "source": [
        "list = [1, 2, 3, 4, 5, 6, 7, 8, 9]\n",
        "print(sum(list))"
      ]
    },
    {
      "cell_type": "markdown",
      "id": "2a7fb75a",
      "metadata": {
        "id": "2a7fb75a"
      },
      "source": [
        "38. Write a Python program to find the product of elements in a list."
      ]
    },
    {
      "cell_type": "code",
      "execution_count": 5,
      "id": "92ee7fcb",
      "metadata": {
        "id": "92ee7fcb",
        "colab": {
          "base_uri": "https://localhost:8080/"
        },
        "outputId": "eb921862-82f9-4e96-e504-4db41689a3d7"
      },
      "outputs": [
        {
          "output_type": "stream",
          "name": "stdout",
          "text": [
            "362880\n"
          ]
        }
      ],
      "source": [
        "list = [1, 2, 3, 4, 5, 6, 7, 8, 9]\n",
        "product=1\n",
        "for i in list:\n",
        "  product*=i\n",
        "print(product)"
      ]
    },
    {
      "cell_type": "markdown",
      "id": "65e48be7",
      "metadata": {
        "id": "65e48be7"
      },
      "source": [
        "39. Write a Python program to find the intersection of two lists."
      ]
    },
    {
      "cell_type": "code",
      "execution_count": 6,
      "id": "17c26d77",
      "metadata": {
        "id": "17c26d77",
        "colab": {
          "base_uri": "https://localhost:8080/"
        },
        "outputId": "6cd2a910-c38a-48bf-9ba8-b318815cf5f9"
      },
      "outputs": [
        {
          "output_type": "stream",
          "name": "stdout",
          "text": [
            "[2, 4, 6, 8]\n"
          ]
        }
      ],
      "source": [
        "list1 = [1, 2, 3, 4, 5, 6, 7, 8, 9]\n",
        "list2 = [2, 4, 6, 8, 10, 12, 14, 16, 18]\n",
        "intersection=[]\n",
        "for i in list1:\n",
        "  if i in list2:\n",
        "    intersection.append(i)\n",
        "print(intersection)"
      ]
    },
    {
      "cell_type": "markdown",
      "id": "430447a5",
      "metadata": {
        "id": "430447a5"
      },
      "source": [
        "40. Write a Python program to find the union of two lists."
      ]
    },
    {
      "cell_type": "code",
      "execution_count": 7,
      "id": "3e11cb6a",
      "metadata": {
        "id": "3e11cb6a",
        "colab": {
          "base_uri": "https://localhost:8080/"
        },
        "outputId": "61ea9df3-cca9-4215-949d-e41645df4bf5"
      },
      "outputs": [
        {
          "output_type": "stream",
          "name": "stdout",
          "text": [
            "[1, 2, 3, 4, 5, 6, 7, 8, 9, 10, 12, 14, 16, 18]\n"
          ]
        }
      ],
      "source": [
        "list1 = [1, 2, 3, 4, 5, 6, 7, 8, 9]\n",
        "list2 = [2, 4, 6, 8, 10, 12, 14, 16, 18]\n",
        "union=[]\n",
        "for i in list1:\n",
        "  if i not in union:\n",
        "    union.append(i)\n",
        "for i in list2:\n",
        "  if i not in union:\n",
        "    union.append(i)\n",
        "print(union)"
      ]
    },
    {
      "cell_type": "markdown",
      "id": "fd104f89",
      "metadata": {
        "id": "fd104f89"
      },
      "source": [
        "41. Write a Python program to find the difference of two lists."
      ]
    },
    {
      "cell_type": "code",
      "execution_count": 8,
      "id": "10ce275c",
      "metadata": {
        "id": "10ce275c",
        "colab": {
          "base_uri": "https://localhost:8080/"
        },
        "outputId": "ed3d6f98-4552-4282-9eeb-e17976c90bf2"
      },
      "outputs": [
        {
          "output_type": "stream",
          "name": "stdout",
          "text": [
            "[1, 3, 5, 7, 9]\n"
          ]
        }
      ],
      "source": [
        "list1 = [1, 2, 3, 4, 5, 6, 7, 8, 9]\n",
        "list2 = [2, 4, 6, 8, 10, 12, 14, 16, 18]\n",
        "difference=[]\n",
        "for i in list1:\n",
        "  if i not in list2:\n",
        "    difference.append(i)\n",
        "print(difference)"
      ]
    },
    {
      "cell_type": "markdown",
      "id": "cc4a2ccc",
      "metadata": {
        "id": "cc4a2ccc"
      },
      "source": [
        "42. Write a Python program to find the symmetric difference of two lists."
      ]
    },
    {
      "cell_type": "code",
      "execution_count": 20,
      "id": "599bf1d6",
      "metadata": {
        "id": "599bf1d6",
        "colab": {
          "base_uri": "https://localhost:8080/"
        },
        "outputId": "21552caf-30bb-4395-8adf-72c6d8da517f"
      },
      "outputs": [
        {
          "output_type": "stream",
          "name": "stdout",
          "text": [
            "[1, 3, 5, 7, 9, 10]\n",
            "[1, 3, 5, 7, 9, 10, 12]\n",
            "[1, 3, 5, 7, 9, 10, 12, 14]\n",
            "[1, 3, 5, 7, 9, 10, 12, 14, 16]\n",
            "[1, 3, 5, 7, 9, 10, 12, 14, 16, 18]\n"
          ]
        }
      ],
      "source": [
        "list1 = [1, 2, 3, 4, 5, 6, 7, 8, 9]\n",
        "list2 = [2, 4, 6, 8, 10, 12, 14, 16, 18]\n",
        "symmetric_difference=[]\n",
        "for i in list1:\n",
        "  if i not in list2:\n",
        "    symmetric_difference.append(i)\n",
        "for i in list2:\n",
        "  if i not in list1:\n",
        "    symmetric_difference.append(i)\n",
        "    print(symmetric_difference)"
      ]
    },
    {
      "cell_type": "markdown",
      "id": "65f2bf9b",
      "metadata": {
        "id": "65f2bf9b"
      },
      "source": [
        "43. Write a Python program to find the index of an element in a list."
      ]
    },
    {
      "cell_type": "code",
      "execution_count": 17,
      "id": "9bc39374",
      "metadata": {
        "id": "9bc39374",
        "colab": {
          "base_uri": "https://localhost:8080/"
        },
        "outputId": "ee852342-7c9b-4bfa-be60-2d52cb542fab"
      },
      "outputs": [
        {
          "output_type": "stream",
          "name": "stdout",
          "text": [
            "2\n",
            "1\n"
          ]
        }
      ],
      "source": [
        "list = [1, 2, 3, 4, 5, 6, 7, 8, 9]\n",
        "element=int(input())\n",
        "print(list.index(element))"
      ]
    },
    {
      "cell_type": "markdown",
      "id": "b665186c",
      "metadata": {
        "id": "b665186c"
      },
      "source": [
        "44. Write a Python program to find the frequency of each element in a list."
      ]
    },
    {
      "cell_type": "code",
      "execution_count": 19,
      "id": "e51669b1",
      "metadata": {
        "id": "e51669b1",
        "colab": {
          "base_uri": "https://localhost:8080/"
        },
        "outputId": "1209de46-a5dd-488a-d6ba-5508684da577"
      },
      "outputs": [
        {
          "output_type": "stream",
          "name": "stdout",
          "text": [
            "{1: 1, 2: 1, 3: 1, 4: 1, 5: 1, 6: 1, 7: 1, 8: 1, 9: 1}\n"
          ]
        }
      ],
      "source": [
        "list = [1, 2, 3, 4, 5, 6, 7, 8, 9]\n",
        "frequency={}\n",
        "for i in list:\n",
        "  if i in frequency:\n",
        "    frequency[i]+=1\n",
        "  else:\n",
        "    frequency[i]=1\n",
        "print(frequency)\n"
      ]
    },
    {
      "cell_type": "markdown",
      "id": "8228f50c",
      "metadata": {
        "id": "8228f50c"
      },
      "source": [
        "45. Write a Python program to check if a list is empty or not."
      ]
    },
    {
      "cell_type": "code",
      "execution_count": 21,
      "id": "c786a118",
      "metadata": {
        "id": "c786a118",
        "colab": {
          "base_uri": "https://localhost:8080/"
        },
        "outputId": "752442a1-28bb-43d5-b346-27cd6599fe06"
      },
      "outputs": [
        {
          "output_type": "stream",
          "name": "stdout",
          "text": [
            "not empty\n"
          ]
        }
      ],
      "source": [
        "list = [1, 2, 3, 4, 5, 6, 7, 8, 9]\n",
        "if len(list)==0:\n",
        "  print('empty')\n",
        "else:\n",
        "  print('not empty')"
      ]
    },
    {
      "cell_type": "markdown",
      "id": "0cd6004d",
      "metadata": {
        "id": "0cd6004d"
      },
      "source": [
        "46. Write a Python program to flatten a nested list."
      ]
    },
    {
      "cell_type": "code",
      "execution_count": 22,
      "id": "8f75d3a5",
      "metadata": {
        "id": "8f75d3a5",
        "colab": {
          "base_uri": "https://localhost:8080/"
        },
        "outputId": "1773862e-398b-49c7-8e76-bf0f425a42e0"
      },
      "outputs": [
        {
          "output_type": "stream",
          "name": "stdout",
          "text": [
            "[1, 2, 3, 4, 5, 6, 7, 8, 9]\n"
          ]
        }
      ],
      "source": [
        "list = [[1, 2, 3], [4, 5, 6], [7, 8, 9]]\n",
        "flatten=[]\n",
        "for i in list:\n",
        "  for j in i:\n",
        "    flatten.append(j)\n",
        "print(flatten)"
      ]
    },
    {
      "cell_type": "markdown",
      "id": "dae03af9",
      "metadata": {
        "id": "dae03af9"
      },
      "source": [
        "47. Write a Python program to find the length of a list."
      ]
    },
    {
      "cell_type": "code",
      "execution_count": 23,
      "id": "885e7120",
      "metadata": {
        "id": "885e7120",
        "colab": {
          "base_uri": "https://localhost:8080/"
        },
        "outputId": "010d6c3d-73a2-4acd-f5fa-d93e7aaed16c"
      },
      "outputs": [
        {
          "output_type": "stream",
          "name": "stdout",
          "text": [
            "9\n"
          ]
        }
      ],
      "source": [
        "length=0\n",
        "list = [1, 2, 3, 4, 5, 6, 7, 8, 9]\n",
        "for i in list:\n",
        "  length+=1\n",
        "print(length)"
      ]
    },
    {
      "cell_type": "markdown",
      "id": "03cc8634",
      "metadata": {
        "id": "03cc8634"
      },
      "source": [
        "48. Write a Python program to find the maximum and minimum element in a list."
      ]
    },
    {
      "cell_type": "code",
      "execution_count": 24,
      "id": "5175b84c",
      "metadata": {
        "id": "5175b84c",
        "colab": {
          "base_uri": "https://localhost:8080/"
        },
        "outputId": "3a8460f9-80ad-46e9-8e57-c3f4515e7c93"
      },
      "outputs": [
        {
          "output_type": "stream",
          "name": "stdout",
          "text": [
            "9\n",
            "1\n"
          ]
        }
      ],
      "source": [
        "list = [1, 2, 3, 4, 5, 6, 7, 8, 9]\n",
        "print(max(list))\n",
        "print(min(list))"
      ]
    },
    {
      "cell_type": "markdown",
      "id": "6bb7374a",
      "metadata": {
        "id": "6bb7374a"
      },
      "source": [
        "49. Write a Python program to find the cumulative sum of a list."
      ]
    },
    {
      "cell_type": "code",
      "execution_count": 26,
      "id": "2f6ad36e",
      "metadata": {
        "id": "2f6ad36e",
        "colab": {
          "base_uri": "https://localhost:8080/"
        },
        "outputId": "a421aa3a-77ff-48fd-d2a2-c3939710c6c9"
      },
      "outputs": [
        {
          "output_type": "stream",
          "name": "stdout",
          "text": [
            "[1]\n",
            "[1, 3]\n",
            "[1, 3, 6]\n",
            "[1, 3, 6, 10]\n",
            "[1, 3, 6, 10, 15]\n",
            "[1, 3, 6, 10, 15, 21]\n",
            "[1, 3, 6, 10, 15, 21, 28]\n",
            "[1, 3, 6, 10, 15, 21, 28, 36]\n",
            "[1, 3, 6, 10, 15, 21, 28, 36, 45]\n"
          ]
        }
      ],
      "source": [
        "list = [1, 2, 3, 4, 5, 6, 7, 8, 9]\n",
        "cumulative_sum=[]\n",
        "sum=0\n",
        "for i in list:\n",
        "  sum+=i\n",
        "  cumulative_sum.append(sum)\n",
        "  print(cumulative_sum)"
      ]
    },
    {
      "cell_type": "markdown",
      "id": "222b6a8a",
      "metadata": {
        "id": "222b6a8a"
      },
      "source": [
        "50. Write a Python program to create a matrix using nested lists."
      ]
    },
    {
      "cell_type": "code",
      "execution_count": 30,
      "id": "b53de014",
      "metadata": {
        "id": "b53de014",
        "colab": {
          "base_uri": "https://localhost:8080/",
          "height": 347
        },
        "outputId": "affae72b-6a87-425e-a7bb-4d1e7bdb80b0"
      },
      "outputs": [
        {
          "output_type": "stream",
          "name": "stdout",
          "text": [
            "Enter the number of rows: 3\n",
            "Enter the number of columns: 4\n",
            "Enter element at position (1, 1): 12\n",
            "Enter element at position (1, 2): 25\n",
            "Enter element at position (1, 3): 35\n",
            "Enter element at position (1, 4): 60\n",
            "Enter element at position (2, 1): 52\n",
            "Enter element at position (2, 2): 21\n",
            "Enter element at position (2, 3): 65\n",
            "Enter element at position (2, 4): 1\n",
            "Enter element at position (3, 1): 23\n",
            "Enter element at position (3, 2): 20\n",
            "Enter element at position (3, 3): 20\n",
            "Enter element at position (3, 4): 20\n",
            "Matrix:\n",
            "12 25 35 60\n",
            "52 21 65 1\n",
            "23 20 20 20\n"
          ]
        },
        {
          "output_type": "display_data",
          "data": {
            "text/plain": [
              "[[12, 25, 35, 60], [52, 21, 65, 1], [23, 20, 20, 20]]"
            ]
          },
          "metadata": {}
        }
      ],
      "source": [
        "def create_matrix(rows, cols):\n",
        "    matrix = []\n",
        "    for i in range(rows):\n",
        "        row = []\n",
        "        for j in range(cols):\n",
        "            element = int(input(f\"Enter element at position ({i+1}, {j+1}): \"))\n",
        "            row.append(element)\n",
        "        matrix.append(row)\n",
        "    return matrix\n",
        "def print_matrix(matrix):\n",
        "    for row in matrix:\n",
        "        print(\" \".join(map(str, row)))\n",
        "rows = int(input(\"Enter the number of rows: \"))\n",
        "cols = int(input(\"Enter the number of columns: \"))\n",
        "matrix = create_matrix(rows, cols)\n",
        "print(\"Matrix:\")\n",
        "print_matrix(matrix)\n",
        "display(matrix)\n"
      ]
    },
    {
      "cell_type": "markdown",
      "id": "e0657585",
      "metadata": {
        "id": "e0657585"
      },
      "source": [
        "51. Write a Python program to perform matrix addition."
      ]
    },
    {
      "cell_type": "code",
      "execution_count": null,
      "id": "964a1f8b",
      "metadata": {
        "id": "964a1f8b"
      },
      "outputs": [],
      "source": []
    },
    {
      "cell_type": "markdown",
      "id": "d266a735",
      "metadata": {
        "id": "d266a735"
      },
      "source": [
        "52. Write a Python program to perform matrix subtraction."
      ]
    },
    {
      "cell_type": "code",
      "execution_count": null,
      "id": "efe84403",
      "metadata": {
        "id": "efe84403"
      },
      "outputs": [],
      "source": []
    },
    {
      "cell_type": "markdown",
      "id": "b5b6a2d1",
      "metadata": {
        "id": "b5b6a2d1"
      },
      "source": [
        "53. Write a Python program to perform matrix multiplication."
      ]
    },
    {
      "cell_type": "code",
      "execution_count": null,
      "id": "8aca64f8",
      "metadata": {
        "id": "8aca64f8"
      },
      "outputs": [],
      "source": []
    },
    {
      "cell_type": "markdown",
      "id": "f2de0786",
      "metadata": {
        "id": "f2de0786"
      },
      "source": [
        "54. Write a Python program to find the transpose of a matrix."
      ]
    },
    {
      "cell_type": "code",
      "execution_count": null,
      "id": "91901b6a",
      "metadata": {
        "id": "91901b6a"
      },
      "outputs": [],
      "source": []
    },
    {
      "cell_type": "markdown",
      "id": "9d369bc4",
      "metadata": {
        "id": "9d369bc4"
      },
      "source": [
        "55. Write a Python program to find the inverse of a matrix."
      ]
    },
    {
      "cell_type": "code",
      "execution_count": null,
      "id": "9be41568",
      "metadata": {
        "id": "9be41568"
      },
      "outputs": [],
      "source": []
    },
    {
      "cell_type": "markdown",
      "id": "071fef7e",
      "metadata": {
        "id": "071fef7e"
      },
      "source": [
        "56. Write a Python program to implement bubble sort algorithm."
      ]
    },
    {
      "cell_type": "code",
      "execution_count": null,
      "id": "ffa789c6",
      "metadata": {
        "id": "ffa789c6"
      },
      "outputs": [],
      "source": []
    },
    {
      "cell_type": "markdown",
      "id": "fce334e9",
      "metadata": {
        "id": "fce334e9"
      },
      "source": [
        "57. Write a Python program to implement insertion sort algorithm."
      ]
    },
    {
      "cell_type": "code",
      "execution_count": null,
      "id": "9663f58b",
      "metadata": {
        "id": "9663f58b"
      },
      "outputs": [],
      "source": []
    },
    {
      "cell_type": "markdown",
      "id": "03f36f18",
      "metadata": {
        "id": "03f36f18"
      },
      "source": [
        "58. Write a Python program to implement selection sort algorithm."
      ]
    },
    {
      "cell_type": "code",
      "execution_count": null,
      "id": "d47603b9",
      "metadata": {
        "id": "d47603b9"
      },
      "outputs": [],
      "source": []
    },
    {
      "cell_type": "markdown",
      "id": "8a9be1f2",
      "metadata": {
        "id": "8a9be1f2"
      },
      "source": [
        "59. Write a Python program to implement merge sort algorithm."
      ]
    },
    {
      "cell_type": "code",
      "execution_count": null,
      "id": "5408e3ad",
      "metadata": {
        "id": "5408e3ad"
      },
      "outputs": [],
      "source": []
    },
    {
      "cell_type": "markdown",
      "id": "49d25334",
      "metadata": {
        "id": "49d25334"
      },
      "source": [
        "60. Write a Python program to implement quick sort algorithm."
      ]
    },
    {
      "cell_type": "code",
      "execution_count": null,
      "id": "55ebea33",
      "metadata": {
        "id": "55ebea33"
      },
      "outputs": [],
      "source": []
    },
    {
      "cell_type": "markdown",
      "source": [
        "##*Advanced* Coding Questions (61-100)"
      ],
      "metadata": {
        "id": "X_8f45JFo-4o"
      },
      "id": "X_8f45JFo-4o"
    },
    {
      "cell_type": "markdown",
      "id": "401c758d",
      "metadata": {
        "id": "401c758d"
      },
      "source": [
        "61. Write a Python program to implement linear search algorithm."
      ]
    },
    {
      "cell_type": "code",
      "execution_count": null,
      "id": "70eb96e2",
      "metadata": {
        "id": "70eb96e2"
      },
      "outputs": [],
      "source": []
    },
    {
      "cell_type": "markdown",
      "id": "9d72a96a",
      "metadata": {
        "id": "9d72a96a"
      },
      "source": [
        "62. Write a Python program to implement binary search algorithm."
      ]
    },
    {
      "cell_type": "code",
      "execution_count": null,
      "id": "d2959e6e",
      "metadata": {
        "id": "d2959e6e"
      },
      "outputs": [],
      "source": []
    },
    {
      "cell_type": "markdown",
      "id": "1d7c81ad",
      "metadata": {
        "id": "1d7c81ad"
      },
      "source": [
        "63. Write a Python program to implement depth-first search algorithm."
      ]
    },
    {
      "cell_type": "code",
      "execution_count": null,
      "id": "27706819",
      "metadata": {
        "id": "27706819"
      },
      "outputs": [],
      "source": []
    },
    {
      "cell_type": "markdown",
      "id": "9be2d764",
      "metadata": {
        "id": "9be2d764"
      },
      "source": [
        "64. Write a Python program to implement breadth-first search algorithm."
      ]
    },
    {
      "cell_type": "code",
      "execution_count": null,
      "id": "8aa98b3d",
      "metadata": {
        "id": "8aa98b3d"
      },
      "outputs": [],
      "source": []
    },
    {
      "cell_type": "markdown",
      "id": "8fe03da3",
      "metadata": {
        "id": "8fe03da3"
      },
      "source": [
        "65. Write a Python program to find the shortest path in a graph using Dijkstra's algorithm."
      ]
    },
    {
      "cell_type": "code",
      "execution_count": null,
      "id": "d58d5256",
      "metadata": {
        "id": "d58d5256"
      },
      "outputs": [],
      "source": []
    },
    {
      "cell_type": "markdown",
      "id": "b2c7df13",
      "metadata": {
        "id": "b2c7df13"
      },
      "source": [
        "66. Write a Python program to find the minimum spanning tree using Kruskal's algorithm."
      ]
    },
    {
      "cell_type": "code",
      "execution_count": null,
      "id": "5a739278",
      "metadata": {
        "id": "5a739278"
      },
      "outputs": [],
      "source": []
    },
    {
      "cell_type": "markdown",
      "id": "883df590",
      "metadata": {
        "id": "883df590"
      },
      "source": [
        "67. Write a Python program to find the minimum spanning tree using Prim's algorithm."
      ]
    },
    {
      "cell_type": "code",
      "execution_count": null,
      "id": "1776ca96",
      "metadata": {
        "id": "1776ca96"
      },
      "outputs": [],
      "source": []
    },
    {
      "cell_type": "markdown",
      "id": "cb7bcf26",
      "metadata": {
        "id": "cb7bcf26"
      },
      "source": [
        "68. Write a Python program to find the maximum flow in a network using Ford-Fulkerson algorithm."
      ]
    },
    {
      "cell_type": "code",
      "execution_count": null,
      "id": "993e87db",
      "metadata": {
        "id": "993e87db"
      },
      "outputs": [],
      "source": []
    },
    {
      "cell_type": "markdown",
      "id": "445ad7fe",
      "metadata": {
        "id": "445ad7fe"
      },
      "source": [
        "69. Write a Python program to find the longest common subsequence in two sequences."
      ]
    },
    {
      "cell_type": "code",
      "execution_count": null,
      "id": "4ba2da8e",
      "metadata": {
        "id": "4ba2da8e"
      },
      "outputs": [],
      "source": []
    },
    {
      "cell_type": "markdown",
      "id": "75054155",
      "metadata": {
        "id": "75054155"
      },
      "source": [
        "70. Write a Python program to find the longest increasing subsequence in a sequence."
      ]
    },
    {
      "cell_type": "code",
      "execution_count": null,
      "id": "8a2fbdf6",
      "metadata": {
        "id": "8a2fbdf6"
      },
      "outputs": [],
      "source": []
    },
    {
      "cell_type": "markdown",
      "id": "80dc7dc4",
      "metadata": {
        "id": "80dc7dc4"
      },
      "source": [
        "71. Write a Python program to solve the knapsack problem using dynamic programming."
      ]
    },
    {
      "cell_type": "code",
      "execution_count": null,
      "id": "a3ad5e24",
      "metadata": {
        "id": "a3ad5e24"
      },
      "outputs": [],
      "source": []
    },
    {
      "cell_type": "markdown",
      "id": "71526319",
      "metadata": {
        "id": "71526319"
      },
      "source": [
        "72. Write a Python program to solve the traveling salesman problem using dynamic programming."
      ]
    },
    {
      "cell_type": "code",
      "execution_count": null,
      "id": "8efdb175",
      "metadata": {
        "id": "8efdb175"
      },
      "outputs": [],
      "source": []
    },
    {
      "cell_type": "markdown",
      "id": "6ddc5558",
      "metadata": {
        "id": "6ddc5558"
      },
      "source": [
        "73. Write a Python program to find the maximum sum subarray using Kadane's algorithm."
      ]
    },
    {
      "cell_type": "code",
      "execution_count": null,
      "id": "109d5ad3",
      "metadata": {
        "id": "109d5ad3"
      },
      "outputs": [],
      "source": []
    },
    {
      "cell_type": "markdown",
      "id": "0c9fc456",
      "metadata": {
        "id": "0c9fc456"
      },
      "source": [
        "74. Write a Python program to find the median of two sorted arrays."
      ]
    },
    {
      "cell_type": "code",
      "execution_count": null,
      "id": "93bd7672",
      "metadata": {
        "id": "93bd7672"
      },
      "outputs": [],
      "source": []
    },
    {
      "cell_type": "markdown",
      "id": "f24bc58e",
      "metadata": {
        "id": "f24bc58e"
      },
      "source": [
        "75. Write a Python program to find the k-th smallest element in an array."
      ]
    },
    {
      "cell_type": "code",
      "execution_count": null,
      "id": "3b03bafa",
      "metadata": {
        "id": "3b03bafa"
      },
      "outputs": [],
      "source": []
    },
    {
      "cell_type": "markdown",
      "id": "f2d17b60",
      "metadata": {
        "id": "f2d17b60"
      },
      "source": [
        "76. Write a Python program to find the k-th largest element in an array."
      ]
    },
    {
      "cell_type": "code",
      "execution_count": null,
      "id": "3b58c085",
      "metadata": {
        "id": "3b58c085"
      },
      "outputs": [],
      "source": []
    },
    {
      "cell_type": "markdown",
      "id": "34072df5",
      "metadata": {
        "id": "34072df5"
      },
      "source": [
        "77. Write a Python program to implement the heap sort algorithm."
      ]
    },
    {
      "cell_type": "code",
      "execution_count": null,
      "id": "53591396",
      "metadata": {
        "id": "53591396"
      },
      "outputs": [],
      "source": []
    },
    {
      "cell_type": "markdown",
      "id": "d9e31617",
      "metadata": {
        "id": "d9e31617"
      },
      "source": [
        "78. Write a Python program to implement the radix sort algorithm."
      ]
    },
    {
      "cell_type": "code",
      "execution_count": null,
      "id": "03017849",
      "metadata": {
        "id": "03017849"
      },
      "outputs": [],
      "source": []
    },
    {
      "cell_type": "markdown",
      "id": "8f3ca34f",
      "metadata": {
        "id": "8f3ca34f"
      },
      "source": [
        "79. Write a Python program to implement the bucket sort algorithm."
      ]
    },
    {
      "cell_type": "code",
      "execution_count": null,
      "id": "08ad8e73",
      "metadata": {
        "id": "08ad8e73"
      },
      "outputs": [],
      "source": []
    },
    {
      "cell_type": "markdown",
      "id": "4f3b61b9",
      "metadata": {
        "id": "4f3b61b9"
      },
      "source": [
        "80. Write a Python program to implement the counting sort algorithm."
      ]
    },
    {
      "cell_type": "code",
      "execution_count": null,
      "id": "4ce955d9",
      "metadata": {
        "id": "4ce955d9"
      },
      "outputs": [],
      "source": []
    },
    {
      "cell_type": "markdown",
      "id": "877d296e",
      "metadata": {
        "id": "877d296e"
      },
      "source": [
        "81. Write a Python program to find the longest palindromic substring in a string."
      ]
    },
    {
      "cell_type": "code",
      "execution_count": null,
      "id": "ce89343e",
      "metadata": {
        "id": "ce89343e"
      },
      "outputs": [],
      "source": []
    },
    {
      "cell_type": "markdown",
      "id": "2315d5cb",
      "metadata": {
        "id": "2315d5cb"
      },
      "source": [
        "82. Write a Python program to find the minimum edit distance between two strings."
      ]
    },
    {
      "cell_type": "code",
      "execution_count": null,
      "id": "5d6d404b",
      "metadata": {
        "id": "5d6d404b"
      },
      "outputs": [],
      "source": []
    },
    {
      "cell_type": "markdown",
      "id": "10328a0c",
      "metadata": {
        "id": "10328a0c"
      },
      "source": [
        "83. Write a Python program to find the maximum product subarray in an array."
      ]
    },
    {
      "cell_type": "code",
      "execution_count": null,
      "id": "7f4b46b5",
      "metadata": {
        "id": "7f4b46b5"
      },
      "outputs": [],
      "source": []
    },
    {
      "cell_type": "markdown",
      "id": "d0e87796",
      "metadata": {
        "id": "d0e87796"
      },
      "source": [
        "84. Write a Python program to find the number of islands in a 2D grid."
      ]
    },
    {
      "cell_type": "code",
      "execution_count": null,
      "id": "940f7fd4",
      "metadata": {
        "id": "940f7fd4"
      },
      "outputs": [],
      "source": []
    },
    {
      "cell_type": "markdown",
      "id": "6f41fc0a",
      "metadata": {
        "id": "6f41fc0a"
      },
      "source": [
        "85. Write a Python program to find the maximum rectangle area in a 2D grid."
      ]
    },
    {
      "cell_type": "code",
      "execution_count": null,
      "id": "daf4732d",
      "metadata": {
        "id": "daf4732d"
      },
      "outputs": [],
      "source": []
    },
    {
      "cell_type": "markdown",
      "id": "77cb7dca",
      "metadata": {
        "id": "77cb7dca"
      },
      "source": [
        "86. Write a Python program to find the largest square area in a 2D grid."
      ]
    },
    {
      "cell_type": "code",
      "execution_count": null,
      "id": "ca670d6d",
      "metadata": {
        "id": "ca670d6d"
      },
      "outputs": [],
      "source": []
    },
    {
      "cell_type": "markdown",
      "id": "39933501",
      "metadata": {
        "id": "39933501"
      },
      "source": [
        "87. Write a Python program to solve the N-Queens problem."
      ]
    },
    {
      "cell_type": "code",
      "execution_count": null,
      "id": "ddf6a499",
      "metadata": {
        "id": "ddf6a499"
      },
      "outputs": [],
      "source": []
    },
    {
      "cell_type": "markdown",
      "id": "6b02be92",
      "metadata": {
        "id": "6b02be92"
      },
      "source": [
        "88. Write a Python program to solve the Sudoku puzzle."
      ]
    },
    {
      "cell_type": "code",
      "execution_count": null,
      "id": "7875e67d",
      "metadata": {
        "id": "7875e67d"
      },
      "outputs": [],
      "source": []
    },
    {
      "cell_type": "markdown",
      "id": "5c8e1a78",
      "metadata": {
        "id": "5c8e1a78"
      },
      "source": [
        "89. Write a Python program to implement the A* search algorithm."
      ]
    },
    {
      "cell_type": "code",
      "execution_count": null,
      "id": "7bb0afd7",
      "metadata": {
        "id": "7bb0afd7"
      },
      "outputs": [],
      "source": []
    },
    {
      "cell_type": "markdown",
      "id": "492d9f05",
      "metadata": {
        "id": "492d9f05"
      },
      "source": [
        "90. Write a Python program to solve the 0/1 knapsack problem using backtracking."
      ]
    },
    {
      "cell_type": "code",
      "execution_count": null,
      "id": "f81c304b",
      "metadata": {
        "id": "f81c304b"
      },
      "outputs": [],
      "source": []
    },
    {
      "cell_type": "markdown",
      "id": "cd76f9ce",
      "metadata": {
        "id": "cd76f9ce"
      },
      "source": [
        "91. Write a Python program to solve the rat in a maze problem using backtracking."
      ]
    },
    {
      "cell_type": "code",
      "execution_count": null,
      "id": "78321338",
      "metadata": {
        "id": "78321338"
      },
      "outputs": [],
      "source": []
    },
    {
      "cell_type": "markdown",
      "id": "1620e426",
      "metadata": {
        "id": "1620e426"
      },
      "source": [
        "92. Write a Python program to solve the subset sum problem using backtracking."
      ]
    },
    {
      "cell_type": "code",
      "execution_count": null,
      "id": "24e509e4",
      "metadata": {
        "id": "24e509e4"
      },
      "outputs": [],
      "source": []
    },
    {
      "cell_type": "markdown",
      "id": "4ea6bf60",
      "metadata": {
        "id": "4ea6bf60"
      },
      "source": [
        "93. Write a Python program to implement the Floyd-Warshall algorithm."
      ]
    },
    {
      "cell_type": "code",
      "execution_count": null,
      "id": "c98cf58e",
      "metadata": {
        "id": "c98cf58e"
      },
      "outputs": [],
      "source": []
    },
    {
      "cell_type": "markdown",
      "id": "d25c4215",
      "metadata": {
        "id": "d25c4215"
      },
      "source": [
        "94. Write a Python program to implement the Bellman-Ford algorithm."
      ]
    },
    {
      "cell_type": "code",
      "execution_count": null,
      "id": "8938ba93",
      "metadata": {
        "id": "8938ba93"
      },
      "outputs": [],
      "source": []
    },
    {
      "cell_type": "markdown",
      "id": "82be40c8",
      "metadata": {
        "id": "82be40c8"
      },
      "source": [
        "95. Write a Python program to find the strongly connected components in a graph."
      ]
    },
    {
      "cell_type": "code",
      "execution_count": null,
      "id": "363b7337",
      "metadata": {
        "id": "363b7337"
      },
      "outputs": [],
      "source": []
    },
    {
      "cell_type": "markdown",
      "id": "7fc0595a",
      "metadata": {
        "id": "7fc0595a"
      },
      "source": [
        "96. Write a Python program to find the articulation points in a graph."
      ]
    },
    {
      "cell_type": "code",
      "execution_count": null,
      "id": "5c60243b",
      "metadata": {
        "id": "5c60243b"
      },
      "outputs": [],
      "source": []
    },
    {
      "cell_type": "markdown",
      "id": "be79f697",
      "metadata": {
        "id": "be79f697"
      },
      "source": [
        "97. Write a Python program to find the bridges in a graph."
      ]
    },
    {
      "cell_type": "code",
      "execution_count": null,
      "id": "54772a36",
      "metadata": {
        "id": "54772a36"
      },
      "outputs": [],
      "source": []
    },
    {
      "cell_type": "markdown",
      "id": "ab13b951",
      "metadata": {
        "id": "ab13b951"
      },
      "source": [
        "98. Write a Python program to find the Eulerian path in a graph."
      ]
    },
    {
      "cell_type": "code",
      "execution_count": null,
      "id": "833474df",
      "metadata": {
        "id": "833474df"
      },
      "outputs": [],
      "source": []
    },
    {
      "cell_type": "markdown",
      "id": "ff3aeb6b",
      "metadata": {
        "id": "ff3aeb6b"
      },
      "source": [
        "99. Write a Python program to find the Hamiltonian path in a graph."
      ]
    },
    {
      "cell_type": "code",
      "execution_count": null,
      "id": "24831f53",
      "metadata": {
        "id": "24831f53"
      },
      "outputs": [],
      "source": []
    },
    {
      "cell_type": "markdown",
      "id": "05528f97",
      "metadata": {
        "id": "05528f97"
      },
      "source": [
        "100. Write a Python program to find the topological order of a directed acyclic graph."
      ]
    },
    {
      "cell_type": "code",
      "execution_count": null,
      "id": "b3cf865d",
      "metadata": {
        "id": "b3cf865d"
      },
      "outputs": [],
      "source": []
    }
  ],
  "metadata": {
    "colab": {
      "provenance": [],
      "include_colab_link": true
    },
    "language_info": {
      "name": "python"
    },
    "kernelspec": {
      "name": "python3",
      "display_name": "Python 3"
    }
  },
  "nbformat": 4,
  "nbformat_minor": 5
}