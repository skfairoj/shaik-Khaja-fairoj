{
  "cells": [
    {
      "cell_type": "markdown",
      "metadata": {
        "id": "view-in-github",
        "colab_type": "text"
      },
      "source": [
        "<a href=\"https://colab.research.google.com/github/skfairoj/shaik-Khaja-fairoj/blob/main/Copy_of_task_1__100_python_activities__100_python_exercices_questions(shaik_khaja_fairoj).ipynb\" target=\"_parent\"><img src=\"https://colab.research.google.com/assets/colab-badge.svg\" alt=\"Open In Colab\"/></a>"
      ]
    },
    {
      "cell_type": "markdown",
      "source": [
        "##Let’s tackle 100 coding problems from basics to advanced. Here you go:"
      ],
      "metadata": {
        "id": "vzCLvstxn82R"
      },
      "id": "vzCLvstxn82R"
    },
    {
      "cell_type": "markdown",
      "source": [
        "##Basic Coding Questions (1-30)"
      ],
      "metadata": {
        "id": "VaTmFUUon-bw"
      },
      "id": "VaTmFUUon-bw"
    },
    {
      "cell_type": "markdown",
      "id": "c4895b61",
      "metadata": {
        "id": "c4895b61"
      },
      "source": [
        "1. Write a Python program to print \"Hello, World!\""
      ]
    },
    {
      "cell_type": "code",
      "execution_count": null,
      "id": "80c3e7b2",
      "metadata": {
        "id": "80c3e7b2",
        "outputId": "ae059c65-9327-4458-a447-fa53eb67390d",
        "colab": {
          "base_uri": "https://localhost:8080/"
        }
      },
      "outputs": [
        {
          "output_type": "stream",
          "name": "stdout",
          "text": [
            "hello, world\n"
          ]
        }
      ],
      "source": [
        "print(\"hello, world\")"
      ]
    },
    {
      "cell_type": "markdown",
      "id": "2ebb77f5",
      "metadata": {
        "id": "2ebb77f5"
      },
      "source": [
        "2. Write a Python program to add two numbers."
      ]
    },
    {
      "cell_type": "code",
      "execution_count": null,
      "id": "7aadb870",
      "metadata": {
        "id": "7aadb870",
        "outputId": "efec3dad-2ee3-42a0-9287-e11056ae5b19",
        "colab": {
          "base_uri": "https://localhost:8080/"
        }
      },
      "outputs": [
        {
          "output_type": "stream",
          "name": "stdout",
          "text": [
            "25\n"
          ]
        }
      ],
      "source": [
        "x1=7\n",
        "x2=18\n",
        "y=x1+x2\n",
        "print(y)"
      ]
    },
    {
      "cell_type": "markdown",
      "id": "8f32c010",
      "metadata": {
        "id": "8f32c010"
      },
      "source": [
        "3. Write a Python program to find the square root of a number."
      ]
    },
    {
      "cell_type": "code",
      "execution_count": null,
      "id": "1076d3b0",
      "metadata": {
        "id": "1076d3b0",
        "outputId": "2d22d095-2985-4c31-c6ee-2290f01e31b2",
        "colab": {
          "base_uri": "https://localhost:8080/"
        }
      },
      "outputs": [
        {
          "output_type": "stream",
          "name": "stdout",
          "text": [
            "Enter a number:25\n",
            "625\n"
          ]
        }
      ],
      "source": [
        "square=int(input(\"Enter a number:\"))**2\n",
        "print(square)"
      ]
    },
    {
      "cell_type": "markdown",
      "id": "7f725f42",
      "metadata": {
        "id": "7f725f42"
      },
      "source": [
        "4. Write a Python program to swap two variables."
      ]
    },
    {
      "cell_type": "code",
      "execution_count": null,
      "id": "a230bb73",
      "metadata": {
        "id": "a230bb73",
        "outputId": "9e306552-fc1d-4e66-aa34-98c0785dba43",
        "colab": {
          "base_uri": "https://localhost:8080/"
        }
      },
      "outputs": [
        {
          "output_type": "stream",
          "name": "stdout",
          "text": [
            "even: 10\n",
            "odd: 15\n"
          ]
        }
      ],
      "source": [
        "even=15\n",
        "odd=10\n",
        "\n",
        "temp=even\n",
        "even=odd\n",
        "odd=temp\n",
        "print(\"even:\",even)\n",
        "print(\"odd:\",odd)"
      ]
    },
    {
      "cell_type": "markdown",
      "id": "f6ea5b17",
      "metadata": {
        "id": "f6ea5b17"
      },
      "source": [
        "5. Write a Python program to find the area of a triangle."
      ]
    },
    {
      "cell_type": "code",
      "execution_count": null,
      "id": "a769af6b",
      "metadata": {
        "id": "a769af6b",
        "outputId": "54e219fe-eac3-4f49-8a76-cf2edcc430c5",
        "colab": {
          "base_uri": "https://localhost:8080/"
        }
      },
      "outputs": [
        {
          "output_type": "stream",
          "name": "stdout",
          "text": [
            "enter the base value:6\n",
            "enter the the height value:9\n",
            "AOT: 27.0\n"
          ]
        }
      ],
      "source": [
        "Base=int(input(\"enter the base value:\"))\n",
        "Height=int(input(\"enter the the height value:\"))\n",
        "\n",
        "AOT=(Base*Height)/2\n",
        "print(\"AOT:\",AOT)"
      ]
    },
    {
      "cell_type": "markdown",
      "id": "d6c7f59f",
      "metadata": {
        "id": "d6c7f59f"
      },
      "source": [
        "6. Write a Python program to solve quadratic equations."
      ]
    },
    {
      "cell_type": "code",
      "execution_count": null,
      "id": "c6b908c9",
      "metadata": {
        "id": "c6b908c9",
        "colab": {
          "base_uri": "https://localhost:8080/"
        },
        "outputId": "df10c6f9-3d93-45f5-ca6e-2c62ba4bae68"
      },
      "outputs": [
        {
          "output_type": "stream",
          "name": "stdout",
          "text": [
            "Enter coefficient a: 10\n",
            "Enter coefficient b: 5\n",
            "Enter coefficient c: 6\n",
            "The roots are complex: -0.25 + 0.733143914930759i and -0.25 - 0.733143914930759i\n"
          ]
        }
      ],
      "source": [
        "import math\n",
        "\n",
        "def quadratic(a, b, c):\n",
        "    if a == 0:\n",
        "        return \"This is not a quadratic equation (a cannot be 0).\"\n",
        "    discriminant = b**2 - 4*a*c\n",
        "\n",
        "    if discriminant > 0:\n",
        "        root1 = (-b + math.sqrt(discriminant)) / (2*a)\n",
        "        root2 = (-b - math.sqrt(discriminant)) / (2*a)\n",
        "        return f\"The roots are real and distinct: {root1} and {root2}\"\n",
        "    elif discriminant == 0:\n",
        "        root = -b / (2*a)\n",
        "        return f\"The roots are real and equal: {root}\"\n",
        "    else:\n",
        "        real_part = -b / (2*a)\n",
        "        imaginary_part = math.sqrt(-discriminant) / (2*a)\n",
        "        return f\"The roots are complex: {real_part} + {imaginary_part}i and {real_part} - {imaginary_part}i\"\n",
        "\n",
        "a = float(input(\"Enter coefficient a: \"))\n",
        "b = float(input(\"Enter coefficient b: \"))\n",
        "c = float(input(\"Enter coefficient c: \"))\n",
        "\n",
        "print(quadratic(a, b, c))"
      ]
    },
    {
      "cell_type": "markdown",
      "id": "84d19ebd",
      "metadata": {
        "id": "84d19ebd"
      },
      "source": [
        "7. Write a Python program to generate a random number."
      ]
    },
    {
      "cell_type": "code",
      "execution_count": null,
      "id": "881853ce",
      "metadata": {
        "id": "881853ce",
        "colab": {
          "base_uri": "https://localhost:8080/"
        },
        "outputId": "fd6044f2-f028-4166-9606-a16a8dac16cc"
      },
      "outputs": [
        {
          "output_type": "stream",
          "name": "stdout",
          "text": [
            "Dice: 5\n"
          ]
        }
      ],
      "source": [
        "import random\n",
        "\n",
        "random_num = random.randint(1, 6)\n",
        "print(\"Dice:\",random_num)"
      ]
    },
    {
      "cell_type": "markdown",
      "id": "db927aaf",
      "metadata": {
        "id": "db927aaf"
      },
      "source": [
        "8. Write a Python program to convert kilometers to miles."
      ]
    },
    {
      "cell_type": "code",
      "execution_count": null,
      "id": "e321f860",
      "metadata": {
        "id": "e321f860",
        "colab": {
          "base_uri": "https://localhost:8080/"
        },
        "outputId": "8b2584e3-1d52-4ff9-fddc-97637aff69c2"
      },
      "outputs": [
        {
          "output_type": "stream",
          "name": "stdout",
          "text": [
            "enter the kilometers:10\n",
            "Miles: 6.2137119\n"
          ]
        }
      ],
      "source": [
        "kilometers = float(input(\"enter the kilometers:\"))\n",
        "miles = kilometers*0.62137119\n",
        "print(\"Miles:\",miles)"
      ]
    },
    {
      "cell_type": "markdown",
      "id": "17312243",
      "metadata": {
        "id": "17312243"
      },
      "source": [
        "9. Write a Python program to convert Celsius to Fahrenheit."
      ]
    },
    {
      "cell_type": "code",
      "execution_count": null,
      "id": "69e7f3f6",
      "metadata": {
        "id": "69e7f3f6",
        "colab": {
          "base_uri": "https://localhost:8080/"
        },
        "outputId": "5a751005-cd1e-469d-abeb-eddb5b3891d5"
      },
      "outputs": [
        {
          "output_type": "stream",
          "name": "stdout",
          "text": [
            "enter the celsius:98\n",
            "Fahrenheit: 208.4\n"
          ]
        }
      ],
      "source": [
        "celsius = float(input(\"enter the celsius:\"))\n",
        "fahrenheit = (celsius*1.8) + 32\n",
        "print(\"Fahrenheit:\",fahrenheit)"
      ]
    },
    {
      "cell_type": "markdown",
      "id": "fc8070c1",
      "metadata": {
        "id": "fc8070c1"
      },
      "source": [
        "10. Write a Python program to check if a number is positive, negative, or zero."
      ]
    },
    {
      "cell_type": "code",
      "execution_count": null,
      "id": "6cb704ea",
      "metadata": {
        "id": "6cb704ea",
        "colab": {
          "base_uri": "https://localhost:8080/"
        },
        "outputId": "a3d16032-5856-4f16-c512-7d70f1d8e47d"
      },
      "outputs": [
        {
          "output_type": "stream",
          "name": "stdout",
          "text": [
            "enter the number:1\n",
            "Positive\n"
          ]
        }
      ],
      "source": [
        "num = int(input(\"enter the number:\"))\n",
        "if num > 0:\n",
        "    print(\"Positive\")\n",
        "elif num < 0:\n",
        "    print(\"Negative\")\n",
        "else:\n",
        "    print(\"Zero\")"
      ]
    },
    {
      "cell_type": "markdown",
      "id": "5f6bf02f",
      "metadata": {
        "id": "5f6bf02f"
      },
      "source": [
        "11. Write a Python program to check if a number is odd or even."
      ]
    },
    {
      "cell_type": "code",
      "execution_count": null,
      "id": "f2212b4c",
      "metadata": {
        "id": "f2212b4c",
        "colab": {
          "base_uri": "https://localhost:8080/"
        },
        "outputId": "23a6ddb9-cccb-4afa-b8b2-acaefc31d99d"
      },
      "outputs": [
        {
          "output_type": "stream",
          "name": "stdout",
          "text": [
            "enter the num:6\n",
            "even\n"
          ]
        }
      ],
      "source": [
        "num=int(input(\"enter the num:\"))\n",
        "if num%2==0:\n",
        "  print(\"even\")\n",
        "else:\n",
        "  print(\"odd\")"
      ]
    },
    {
      "cell_type": "markdown",
      "id": "b83b3020",
      "metadata": {
        "id": "b83b3020"
      },
      "source": [
        "12. Write a Python program to check leap year."
      ]
    },
    {
      "cell_type": "code",
      "execution_count": null,
      "id": "a103a8b0",
      "metadata": {
        "id": "a103a8b0",
        "colab": {
          "base_uri": "https://localhost:8080/"
        },
        "outputId": "02335851-68ae-488a-eec3-e5809f77a012"
      },
      "outputs": [
        {
          "output_type": "stream",
          "name": "stdout",
          "text": [
            "enter the year:2027\n",
            "not a leap year\n"
          ]
        }
      ],
      "source": [
        "year = int(input(\"enter the year:\"))\n",
        "if  year % 4 == 0 & (year % 100 != 0 or year % 400 == 0):\n",
        "  print(\"leap year\")\n",
        "else:\n",
        "  print(\"not a leap year\")"
      ]
    },
    {
      "cell_type": "markdown",
      "id": "d265039e",
      "metadata": {
        "id": "d265039e"
      },
      "source": [
        "13. Write a Python program to find the largest among three numbers."
      ]
    },
    {
      "cell_type": "code",
      "execution_count": null,
      "id": "af8eed02",
      "metadata": {
        "id": "af8eed02",
        "colab": {
          "base_uri": "https://localhost:8080/"
        },
        "outputId": "a6599d8d-93cd-4283-e16a-7ce79838f99f"
      },
      "outputs": [
        {
          "output_type": "stream",
          "name": "stdout",
          "text": [
            "enter the num_1:55\n",
            "enter the num_2:151\n",
            "enter the num_3:35\n",
            "largest number is num2: 151\n"
          ]
        }
      ],
      "source": [
        "num1 = int(input(\"enter the num_1:\"))\n",
        "num2 = int(input(\"enter the num_2:\"))\n",
        "num3 = int(input(\"enter the num_3:\"))\n",
        "\n",
        "if num1 >= num2 and num1 >= num3:\n",
        "  print(\"largest number is num1:\",num1)\n",
        "elif num2 >= num1 and num2 >= num3:\n",
        "  print(\"largest number is num2:\",num2)\n",
        "else:\n",
        "  print(\"largest number is num3:\",num3)\n"
      ]
    },
    {
      "cell_type": "markdown",
      "id": "d1de0bf4",
      "metadata": {
        "id": "d1de0bf4"
      },
      "source": [
        "14. Write a Python program to check prime number."
      ]
    },
    {
      "cell_type": "code",
      "execution_count": null,
      "id": "b9f439c5",
      "metadata": {
        "id": "b9f439c5",
        "colab": {
          "base_uri": "https://localhost:8080/"
        },
        "outputId": "0f5c6643-e5d3-47f5-9b49-334f54d2baff"
      },
      "outputs": [
        {
          "output_type": "stream",
          "name": "stdout",
          "text": [
            "enter the number:7\n",
            "prime\n"
          ]
        }
      ],
      "source": [
        "num =  int(input(\"enter the number:\"))\n",
        "if num > 1:\n",
        "  for i in range(2, num):\n",
        "    if num % i == 0:\n",
        "      print(\"not a prime\")\n",
        "      break\n",
        "  else:\n",
        "    print(\"prime\")\n",
        "else:\n",
        "  print(\"not a prime\")\n",
        "\n"
      ]
    },
    {
      "cell_type": "markdown",
      "id": "fab44f8b",
      "metadata": {
        "id": "fab44f8b"
      },
      "source": [
        "15. Write a Python program to print all prime numbers in an interval."
      ]
    },
    {
      "cell_type": "code",
      "execution_count": null,
      "id": "1c20611d",
      "metadata": {
        "id": "1c20611d",
        "colab": {
          "base_uri": "https://localhost:8080/"
        },
        "outputId": "ce12a2e1-1281-4cd9-ba72-356d1c746060"
      },
      "outputs": [
        {
          "output_type": "stream",
          "name": "stdout",
          "text": [
            "enter the start:1\n",
            "enter the end:15\n",
            "1,not a prime\n",
            "2,prime\n",
            "3,prime\n",
            "4,not a prime\n",
            "5,prime\n",
            "6,not a prime\n",
            "7,prime\n",
            "8,not a prime\n",
            "9,not a prime\n",
            "10,not a prime\n",
            "11,prime\n",
            "12,not a prime\n",
            "13,prime\n",
            "14,not a prime\n",
            "15,not a prime\n"
          ]
        }
      ],
      "source": [
        "def prime(number):\n",
        "    if num > 1:\n",
        "     for i in range(2, num):\n",
        "        if num % i == 0:\n",
        "          print(f\"{number},not a prime\")\n",
        "          break\n",
        "     else:\n",
        "        print(f\"{number},prime\")\n",
        "    else:\n",
        "      print(f\"{number},not a prime\")\n",
        "\n",
        "start = int(input(\"enter the start:\"))\n",
        "end = int(input(\"enter the end:\"))\n",
        "\n",
        "for num in range(start, end + 1):\n",
        "  prime(num)"
      ]
    },
    {
      "cell_type": "markdown",
      "id": "5cd434ea",
      "metadata": {
        "id": "5cd434ea"
      },
      "source": [
        "16. Write a Python program to find the factorial of a number."
      ]
    },
    {
      "cell_type": "code",
      "execution_count": null,
      "id": "78fdb1c2",
      "metadata": {
        "id": "78fdb1c2",
        "colab": {
          "base_uri": "https://localhost:8080/"
        },
        "outputId": "298e2cd0-92bd-42ec-c038-882a3dc4a2be"
      },
      "outputs": [
        {
          "output_type": "stream",
          "name": "stdout",
          "text": [
            "entr the num:10\n",
            "Factorial: 3628800\n"
          ]
        }
      ],
      "source": [
        "import math\n",
        "num = int(input(\"entr the num:\"))\n",
        "factorial = math.factorial(num)\n",
        "print(\"Factorial:\",factorial)\n"
      ]
    },
    {
      "cell_type": "markdown",
      "id": "2adb819c",
      "metadata": {
        "id": "2adb819c"
      },
      "source": [
        "17. Write a Python program to display the multiplication table."
      ]
    },
    {
      "cell_type": "code",
      "execution_count": null,
      "id": "86f3c8f2",
      "metadata": {
        "id": "86f3c8f2",
        "colab": {
          "base_uri": "https://localhost:8080/"
        },
        "outputId": "61389169-e235-45fc-83be-4dd65878b01d"
      },
      "outputs": [
        {
          "output_type": "stream",
          "name": "stdout",
          "text": [
            "enter the num:6\n",
            "6*1=6\n",
            "6*2=12\n",
            "6*3=18\n",
            "6*4=24\n",
            "6*5=30\n",
            "6*6=36\n",
            "6*7=42\n",
            "6*8=48\n",
            "6*9=54\n",
            "6*10=60\n"
          ]
        }
      ],
      "source": [
        "num = int(input(\"enter the num:\"))\n",
        "for i in range(1, 11):\n",
        "  print(f\"{num}*{i}={num*i}\")"
      ]
    },
    {
      "cell_type": "markdown",
      "id": "00b1803e",
      "metadata": {
        "id": "00b1803e"
      },
      "source": [
        "18. Write a Python program to print the Fibonacci sequence."
      ]
    },
    {
      "cell_type": "code",
      "execution_count": null,
      "id": "0985ca23",
      "metadata": {
        "id": "0985ca23",
        "colab": {
          "base_uri": "https://localhost:8080/"
        },
        "outputId": "82082ea9-6bae-463f-a6ae-39e49c8c6194"
      },
      "outputs": [
        {
          "output_type": "stream",
          "name": "stdout",
          "text": [
            "enter the num:12\n",
            "0\n",
            "1\n",
            "1\n",
            "2\n",
            "3\n",
            "5\n",
            "8\n",
            "13\n",
            "21\n",
            "34\n",
            "55\n",
            "89\n"
          ]
        }
      ],
      "source": [
        "num=int(input(\"enter the num:\"))\n",
        "a, b = 0, 1\n",
        "for i in range(num):\n",
        "  print(a)\n",
        "  a,b=b,a+b"
      ]
    },
    {
      "cell_type": "markdown",
      "id": "189ea50f",
      "metadata": {
        "id": "189ea50f"
      },
      "source": [
        "19. Write a Python program to check Armstrong number."
      ]
    },
    {
      "cell_type": "code",
      "execution_count": null,
      "id": "31314453",
      "metadata": {
        "id": "31314453",
        "colab": {
          "base_uri": "https://localhost:8080/"
        },
        "outputId": "1dbfdc7f-b038-4239-b052-ecffc68b4f94"
      },
      "outputs": [
        {
          "output_type": "stream",
          "name": "stdout",
          "text": [
            "enter the num:153\n",
            "Armstrong\n"
          ]
        }
      ],
      "source": [
        "num = int(input(\"enter the num:\"))\n",
        "temp = num\n",
        "sum = 0\n",
        "while num != 0:\n",
        "  arm=num%10\n",
        "  sum=sum+(arm**3)\n",
        "  num=num//10\n",
        "if temp == sum:\n",
        "  print(\"Armstrong\")\n",
        "else:\n",
        "  print(\"Not Armstrong\")\n"
      ]
    },
    {
      "cell_type": "markdown",
      "id": "aaa5e50e",
      "metadata": {
        "id": "aaa5e50e"
      },
      "source": [
        "20. Write a Python program to find the sum of natural numbers."
      ]
    },
    {
      "cell_type": "code",
      "execution_count": null,
      "id": "3e8dfe88",
      "metadata": {
        "id": "3e8dfe88",
        "colab": {
          "base_uri": "https://localhost:8080/"
        },
        "outputId": "2b49d336-bb8e-426c-a51a-6f7ae59b328f"
      },
      "outputs": [
        {
          "output_type": "stream",
          "name": "stdout",
          "text": [
            "enter the num:18\n",
            "Sum: 171\n"
          ]
        }
      ],
      "source": [
        "num = int(input(\"enter the num:\"))\n",
        "if num < 0:\n",
        "  print(\"enter a positive number\")\n",
        "else:\n",
        "  sum = 0\n",
        "  while num > 0:\n",
        "    sum += num\n",
        "    num -= 1\n",
        "  print(\"Sum:\", sum)"
      ]
    },
    {
      "cell_type": "markdown",
      "id": "40765ef8",
      "metadata": {
        "id": "40765ef8"
      },
      "source": [
        "21. Write a Python program to find the factors of a number."
      ]
    },
    {
      "cell_type": "code",
      "execution_count": null,
      "id": "c47e05a4",
      "metadata": {
        "id": "c47e05a4",
        "colab": {
          "base_uri": "https://localhost:8080/"
        },
        "outputId": "e6283486-78f6-4c64-9e55-2ef42202b3a0"
      },
      "outputs": [
        {
          "output_type": "stream",
          "name": "stdout",
          "text": [
            "Enter a number: 7\n",
            "The factors of 7 are: [1, 7]\n"
          ]
        }
      ],
      "source": [
        "def factors(num):\n",
        "\n",
        "    factors = []\n",
        "    for i in range(1, num + 1):\n",
        "        if num % i == 0:\n",
        "            factors.append(i)\n",
        "    return factors\n",
        "\n",
        "number = int(input(\"Enter a number: \"))\n",
        "factors = factors(number)\n",
        "print(f\"The factors of {number} are: {factors}\")"
      ]
    },
    {
      "cell_type": "markdown",
      "id": "aeeb0164",
      "metadata": {
        "id": "aeeb0164"
      },
      "source": [
        "22. Write a Python program to convert decimal to binary, octal, and hexadecimal."
      ]
    },
    {
      "cell_type": "code",
      "execution_count": null,
      "id": "e9886bee",
      "metadata": {
        "id": "e9886bee",
        "colab": {
          "base_uri": "https://localhost:8080/"
        },
        "outputId": "a99e262f-d8ac-4afd-afd8-0796843ffdb3"
      },
      "outputs": [
        {
          "output_type": "stream",
          "name": "stdout",
          "text": [
            "enter the decimal:451\n",
            "binary: 0b111000011\n",
            "octal: 0o703\n",
            "hexadecimal: 0x1c3\n"
          ]
        }
      ],
      "source": [
        "dec=int(input(\"enter the decimal:\"))\n",
        "print(\"binary:\",bin(dec))\n",
        "print(\"octal:\",oct(dec))\n",
        "print(\"hexadecimal:\",hex(dec))"
      ]
    },
    {
      "cell_type": "markdown",
      "id": "3c87a213",
      "metadata": {
        "id": "3c87a213"
      },
      "source": [
        "23. Write a Python program to find ASCII value of a character."
      ]
    },
    {
      "cell_type": "code",
      "execution_count": null,
      "id": "14f60824",
      "metadata": {
        "id": "14f60824",
        "colab": {
          "base_uri": "https://localhost:8080/"
        },
        "outputId": "cf5845cc-ec74-4fbe-9b63-c9a7919d94b9"
      },
      "outputs": [
        {
          "output_type": "stream",
          "name": "stdout",
          "text": [
            "enter the char:a\n",
            "97\n"
          ]
        }
      ],
      "source": [
        "char=input(\"enter the char:\")\n",
        "print(ord(char))"
      ]
    },
    {
      "cell_type": "markdown",
      "id": "892d77a4",
      "metadata": {
        "id": "892d77a4"
      },
      "source": [
        "24. Write a Python program to find HCF or GCD."
      ]
    },
    {
      "cell_type": "code",
      "execution_count": null,
      "id": "5c2e3c92",
      "metadata": {
        "id": "5c2e3c92",
        "colab": {
          "base_uri": "https://localhost:8080/"
        },
        "outputId": "369a65cd-90c3-400a-ae9a-625880100734"
      },
      "outputs": [
        {
          "output_type": "stream",
          "name": "stdout",
          "text": [
            "enter the num1:49\n",
            "enter the num2:59\n",
            "HCF: 1\n"
          ]
        }
      ],
      "source": [
        "num1=int(input(\"enter the num1:\"))\n",
        "num2=int(input(\"enter the num2:\"))\n",
        "hcf=1\n",
        "for i in range(1,min(num1,num2)+1):\n",
        "  if num1%i==0 and num2%i==0:\n",
        "    hcf=i\n",
        "print(\"HCF:\",hcf)"
      ]
    },
    {
      "cell_type": "markdown",
      "id": "45e7c7ec",
      "metadata": {
        "id": "45e7c7ec"
      },
      "source": [
        "25. Write a Python program to find LCM."
      ]
    },
    {
      "cell_type": "code",
      "execution_count": null,
      "id": "4272f7a6",
      "metadata": {
        "id": "4272f7a6",
        "colab": {
          "base_uri": "https://localhost:8080/"
        },
        "outputId": "15b7ec80-2947-479a-a815-ecc094b906d6"
      },
      "outputs": [
        {
          "output_type": "stream",
          "name": "stdout",
          "text": [
            "enter the num1:7\n",
            "enter the num2:18\n",
            "126\n"
          ]
        }
      ],
      "source": [
        "num1=int(input(\"enter the num1:\"))\n",
        "num2=int(input(\"enter the num2:\"))\n",
        "if num1>num2:\n",
        "  greater=num1\n",
        "else:\n",
        "  greater=num2\n",
        "while True:\n",
        "  if greater%num1==0 and greater%num2==0:\n",
        "    lcm=greater\n",
        "    break\n",
        "  greater+=1\n",
        "print(lcm)"
      ]
    },
    {
      "cell_type": "markdown",
      "id": "d1ca75c0",
      "metadata": {
        "id": "d1ca75c0"
      },
      "source": [
        "26. Write a Python program to count the number of each vowel."
      ]
    },
    {
      "cell_type": "code",
      "execution_count": null,
      "id": "14a94e61",
      "metadata": {
        "id": "14a94e61",
        "colab": {
          "base_uri": "https://localhost:8080/"
        },
        "outputId": "8e8eab5d-a627-4d5e-a372-79c9830553d3"
      },
      "outputs": [
        {
          "output_type": "stream",
          "name": "stdout",
          "text": [
            "enter the num:SAI AJITH AVULA\n",
            "vowels: 7\n"
          ]
        }
      ],
      "source": [
        "num=input(\"enter the num:\")\n",
        "vowels=['a','e','i','o','u','A','E','I','O','U']\n",
        "count=0\n",
        "for i in num:\n",
        "  if i in vowels:\n",
        "    count+=1\n",
        "print(\"vowels:\",count)"
      ]
    },
    {
      "cell_type": "markdown",
      "id": "16b5cc09",
      "metadata": {
        "id": "16b5cc09"
      },
      "source": [
        "27. Write a Python program to find the sum of digits of a number."
      ]
    },
    {
      "cell_type": "code",
      "execution_count": null,
      "id": "791b2365",
      "metadata": {
        "id": "791b2365",
        "colab": {
          "base_uri": "https://localhost:8080/"
        },
        "outputId": "9a03023b-38b5-4860-c117-18857dd072e0"
      },
      "outputs": [
        {
          "output_type": "stream",
          "name": "stdout",
          "text": [
            "14796538\n",
            "43\n"
          ]
        }
      ],
      "source": [
        "num=input()\n",
        "sum=0\n",
        "for i in num:\n",
        "  sum+=int(i)\n",
        "print(sum)"
      ]
    },
    {
      "cell_type": "markdown",
      "id": "848a05ed",
      "metadata": {
        "id": "848a05ed"
      },
      "source": [
        "28. Write a Python program to find the reverse of a number."
      ]
    },
    {
      "cell_type": "code",
      "execution_count": null,
      "id": "bb88ed2c",
      "metadata": {
        "id": "bb88ed2c",
        "colab": {
          "base_uri": "https://localhost:8080/"
        },
        "outputId": "3120a38f-89b0-498c-9445-d76c3bb37f48"
      },
      "outputs": [
        {
          "output_type": "stream",
          "name": "stdout",
          "text": [
            "1919\n",
            "9191\n"
          ]
        }
      ],
      "source": [
        "num=input()\n",
        "print(int(num[::-1]))"
      ]
    },
    {
      "cell_type": "markdown",
      "id": "33b01807",
      "metadata": {
        "id": "33b01807"
      },
      "source": [
        "29. Write a Python program to check if a number is palindrome or not."
      ]
    },
    {
      "cell_type": "code",
      "execution_count": null,
      "id": "dbc7b695",
      "metadata": {
        "id": "dbc7b695",
        "colab": {
          "base_uri": "https://localhost:8080/"
        },
        "outputId": "041b9760-bc48-4132-9c73-33f6867b3a1d"
      },
      "outputs": [
        {
          "output_type": "stream",
          "name": "stdout",
          "text": [
            "151\n",
            "palindrome\n"
          ]
        }
      ],
      "source": [
        "num=input()\n",
        "if num==num[::-1]:\n",
        "  print(\"palindrome\")\n",
        "else:\n",
        "  print(\"not palindrome\")"
      ]
    },
    {
      "cell_type": "markdown",
      "id": "eb1bc881",
      "metadata": {
        "id": "eb1bc881"
      },
      "source": [
        "30. Write a Python program to print Pascal’s triangle."
      ]
    },
    {
      "cell_type": "code",
      "execution_count": null,
      "id": "7a624c89",
      "metadata": {
        "id": "7a624c89",
        "colab": {
          "base_uri": "https://localhost:8080/"
        },
        "outputId": "eb314895-b47e-41f0-e001-7e227bb3dcf7"
      },
      "outputs": [
        {
          "output_type": "stream",
          "name": "stdout",
          "text": [
            "Enter the number of rows for Pascal's Triangle: 10\n",
            "         1          \n",
            "        1 1         \n",
            "       1 2 1        \n",
            "      1 3 3 1       \n",
            "     1 4 6 4 1      \n",
            "   1 5 10 10 5 1    \n",
            "  1 6 15 20 15 6 1  \n",
            "1 7 21 35 35 21 7 1 \n",
            "1 8 28 56 70 56 28 8 1\n",
            "1 9 36 84 126 126 84 36 9 1\n"
          ]
        }
      ],
      "source": [
        "def print_pascals_triangle(n):\n",
        "    for i in range(n):\n",
        "        row = [1]\n",
        "        for j in range(1, i + 1):\n",
        "            row.append(row[j - 1] * (i - j + 1) // j)\n",
        "        print(\" \".join(map(str, row)).center(n * 2))\n",
        "rows = int(input(\"Enter the number of rows for Pascal's Triangle: \"))\n",
        "print_pascals_triangle(rows)"
      ]
    },
    {
      "cell_type": "markdown",
      "source": [
        "##Intermediate Coding Questions (31-60)"
      ],
      "metadata": {
        "id": "1wQiXVZaoV-9"
      },
      "id": "1wQiXVZaoV-9"
    },
    {
      "cell_type": "markdown",
      "id": "2071b16f",
      "metadata": {
        "id": "2071b16f"
      },
      "source": [
        "31. Write a Python program to sort a list in ascending order."
      ]
    },
    {
      "cell_type": "code",
      "execution_count": null,
      "id": "e0becc93",
      "metadata": {
        "id": "e0becc93",
        "colab": {
          "base_uri": "https://localhost:8080/"
        },
        "outputId": "0f40676d-b1c3-4815-c143-ad13f688f9b0"
      },
      "outputs": [
        {
          "output_type": "stream",
          "name": "stdout",
          "text": [
            "[1, 2, 3, 4, 5, 6, 7, 8, 9]\n"
          ]
        }
      ],
      "source": [
        "list=[1,2,3,4,5,6,7,8,9]\n",
        "list.sort()\n",
        "print(list)"
      ]
    },
    {
      "cell_type": "markdown",
      "id": "05f5ce04",
      "metadata": {
        "id": "05f5ce04"
      },
      "source": [
        "32. Write a Python program to sort a list in descending order."
      ]
    },
    {
      "cell_type": "code",
      "execution_count": null,
      "id": "3da284ea",
      "metadata": {
        "id": "3da284ea",
        "colab": {
          "base_uri": "https://localhost:8080/"
        },
        "outputId": "9231eee4-55dc-4c1a-a445-2952437d88ae"
      },
      "outputs": [
        {
          "output_type": "stream",
          "name": "stdout",
          "text": [
            "[9, 8, 7, 6, 5, 3, 2, 1, 0]\n"
          ]
        }
      ],
      "source": [
        "list=[1,2,3,0,5,6,7,8,9]\n",
        "list.sort(reverse=True)\n",
        "print(list)"
      ]
    },
    {
      "cell_type": "markdown",
      "id": "8fce7d72",
      "metadata": {
        "id": "8fce7d72"
      },
      "source": [
        "33. Write a Python program to remove duplicates from a list."
      ]
    },
    {
      "cell_type": "code",
      "execution_count": null,
      "id": "50c03983",
      "metadata": {
        "id": "50c03983",
        "colab": {
          "base_uri": "https://localhost:8080/"
        },
        "outputId": "1198ff9d-d89f-43c9-e362-216a1d283c08"
      },
      "outputs": [
        {
          "output_type": "stream",
          "name": "stdout",
          "text": [
            "[1, 2, 3, 4, 5]\n"
          ]
        }
      ],
      "source": [
        "def remove_duplicates(list):\n",
        "  new_list=[]\n",
        "  for i in list:\n",
        "    if i not in new_list:\n",
        "      new_list.append(i)\n",
        "  return new_list\n",
        "list=[1, 2, 2, 3, 4, 4, 5]\n",
        "print(remove_duplicates(list))"
      ]
    },
    {
      "cell_type": "markdown",
      "id": "278f619d",
      "metadata": {
        "id": "278f619d"
      },
      "source": [
        "34. Write a Python program to merge two lists."
      ]
    },
    {
      "cell_type": "code",
      "execution_count": null,
      "id": "7cd4ebd5",
      "metadata": {
        "id": "7cd4ebd5",
        "colab": {
          "base_uri": "https://localhost:8080/"
        },
        "outputId": "e0c1edf7-bcef-4ebc-ef72-5a3f37e09358"
      },
      "outputs": [
        {
          "output_type": "stream",
          "name": "stdout",
          "text": [
            "[1, 2, 3, 4, 5, 6, 7, 8, 9, 10]\n"
          ]
        }
      ],
      "source": [
        "list1=[1,2,3,4,5]\n",
        "list2=[6,7,8,9,10]\n",
        "merge=list1+list2\n",
        "print(merge)"
      ]
    },
    {
      "cell_type": "markdown",
      "id": "626557f9",
      "metadata": {
        "id": "626557f9"
      },
      "source": [
        "35. Write a Python program to find the second largest number in a list."
      ]
    },
    {
      "cell_type": "code",
      "execution_count": null,
      "id": "b6e8c5ce",
      "metadata": {
        "id": "b6e8c5ce",
        "colab": {
          "base_uri": "https://localhost:8080/"
        },
        "outputId": "7893d825-f736-4ec2-fe63-22443812987f"
      },
      "outputs": [
        {
          "output_type": "stream",
          "name": "stdout",
          "text": [
            "23\n"
          ]
        }
      ],
      "source": [
        "list=[1,7,12,18,23,5,31,8,3]\n",
        "list.sort(reverse=True)\n",
        "print(list[1])"
      ]
    },
    {
      "cell_type": "markdown",
      "id": "879eefd9",
      "metadata": {
        "id": "879eefd9"
      },
      "source": [
        "36. Write a Python program to find the second smallest number in a list."
      ]
    },
    {
      "cell_type": "code",
      "execution_count": null,
      "id": "5ebf0dcd",
      "metadata": {
        "id": "5ebf0dcd",
        "colab": {
          "base_uri": "https://localhost:8080/"
        },
        "outputId": "f726d62e-8818-4c89-ff27-c36bb8573310"
      },
      "outputs": [
        {
          "output_type": "stream",
          "name": "stdout",
          "text": [
            "7\n"
          ]
        }
      ],
      "source": [
        "list=[1,31,8,23,53,7,12,18]\n",
        "list.sort()\n",
        "print(list[1])"
      ]
    },
    {
      "cell_type": "markdown",
      "id": "20e865f2",
      "metadata": {
        "id": "20e865f2"
      },
      "source": [
        "37. Write a Python program to find the sum of elements in a list."
      ]
    },
    {
      "cell_type": "code",
      "execution_count": null,
      "id": "5ffe9813",
      "metadata": {
        "id": "5ffe9813",
        "colab": {
          "base_uri": "https://localhost:8080/"
        },
        "outputId": "5e5dc5f6-fdcc-456c-db05-833b5fe2e142"
      },
      "outputs": [
        {
          "output_type": "stream",
          "name": "stdout",
          "text": [
            "45\n"
          ]
        }
      ],
      "source": [
        "list=[1,2,3,4,5,6,7,8,9]\n",
        "sum=0\n",
        "for i in list:\n",
        "  sum+=i\n",
        "print(sum)"
      ]
    },
    {
      "cell_type": "markdown",
      "id": "2a7fb75a",
      "metadata": {
        "id": "2a7fb75a"
      },
      "source": [
        "38. Write a Python program to find the product of elements in a list."
      ]
    },
    {
      "cell_type": "code",
      "execution_count": null,
      "id": "92ee7fcb",
      "metadata": {
        "id": "92ee7fcb",
        "colab": {
          "base_uri": "https://localhost:8080/"
        },
        "outputId": "cb1d988f-fe60-48e8-d7e5-c1b5e5f00bed"
      },
      "outputs": [
        {
          "output_type": "stream",
          "name": "stdout",
          "text": [
            "362880\n"
          ]
        }
      ],
      "source": [
        "list=[1,2,3,4,5,6,7,8,9]\n",
        "product=1\n",
        "for i in list:\n",
        "  product*=i\n",
        "print(product)"
      ]
    },
    {
      "cell_type": "markdown",
      "id": "65e48be7",
      "metadata": {
        "id": "65e48be7"
      },
      "source": [
        "39. Write a Python program to find the intersection of two lists."
      ]
    },
    {
      "cell_type": "code",
      "execution_count": null,
      "id": "17c26d77",
      "metadata": {
        "id": "17c26d77",
        "colab": {
          "base_uri": "https://localhost:8080/"
        },
        "outputId": "4f52465b-dbe8-4260-9afc-26306bfce797"
      },
      "outputs": [
        {
          "output_type": "stream",
          "name": "stdout",
          "text": [
            "[3, 4, 5]\n"
          ]
        }
      ],
      "source": [
        "list1=[1,2,3,4,5]\n",
        "list2=[3,4,5,6,7]\n",
        "intersection=[]\n",
        "for i in list1:\n",
        "  if i in list2:\n",
        "    intersection.append(i)\n",
        "print(intersection)"
      ]
    },
    {
      "cell_type": "markdown",
      "id": "430447a5",
      "metadata": {
        "id": "430447a5"
      },
      "source": [
        "40. Write a Python program to find the union of two lists."
      ]
    },
    {
      "cell_type": "code",
      "execution_count": null,
      "id": "3e11cb6a",
      "metadata": {
        "id": "3e11cb6a",
        "colab": {
          "base_uri": "https://localhost:8080/"
        },
        "outputId": "60b1f264-ffca-452c-8eed-033cdbc6c94f"
      },
      "outputs": [
        {
          "output_type": "stream",
          "name": "stdout",
          "text": [
            "[1, 2, 3, 4, 5, 3, 4, 5, 6, 7]\n"
          ]
        }
      ],
      "source": [
        "list1=[1,2,3,4,5]\n",
        "list2=[3,4,5,6,7]\n",
        "union=list1+list2\n",
        "print(union)"
      ]
    },
    {
      "cell_type": "markdown",
      "id": "fd104f89",
      "metadata": {
        "id": "fd104f89"
      },
      "source": [
        "41. Write a Python program to find the difference of two lists."
      ]
    },
    {
      "cell_type": "code",
      "execution_count": null,
      "id": "10ce275c",
      "metadata": {
        "id": "10ce275c",
        "colab": {
          "base_uri": "https://localhost:8080/"
        },
        "outputId": "499abf20-124b-4c8c-fadd-0d46b171839c"
      },
      "outputs": [
        {
          "output_type": "stream",
          "name": "stdout",
          "text": [
            "[1, 2]\n"
          ]
        }
      ],
      "source": [
        "list=[1,2,3,4,5]\n",
        "list2=[3,4,5,6,7]\n",
        "difference=[]\n",
        "for i in list:\n",
        "  if i not in list2:\n",
        "    difference.append(i)\n",
        "print(difference)"
      ]
    },
    {
      "cell_type": "markdown",
      "id": "cc4a2ccc",
      "metadata": {
        "id": "cc4a2ccc"
      },
      "source": [
        "42. Write a Python program to find the symmetric difference of two lists."
      ]
    },
    {
      "cell_type": "code",
      "execution_count": null,
      "id": "599bf1d6",
      "metadata": {
        "id": "599bf1d6",
        "colab": {
          "base_uri": "https://localhost:8080/"
        },
        "outputId": "eb818fa3-8844-4cc3-d0b3-b95aeb33ba1d"
      },
      "outputs": [
        {
          "output_type": "stream",
          "name": "stdout",
          "text": [
            "[1, 2, 6, 7]\n"
          ]
        }
      ],
      "source": [
        "list1=[1,2,3,4,5]\n",
        "list2=[3,4,5,6,7]\n",
        "symmetric_difference=[]\n",
        "for i in list1:\n",
        "  if i not in list2:\n",
        "    symmetric_difference.append(i)\n",
        "for i in list2:\n",
        "  if i not in list1:\n",
        "    symmetric_difference.append(i)\n",
        "print(symmetric_difference)"
      ]
    },
    {
      "cell_type": "markdown",
      "id": "65f2bf9b",
      "metadata": {
        "id": "65f2bf9b"
      },
      "source": [
        "43. Write a Python program to find the index of an element in a list."
      ]
    },
    {
      "cell_type": "code",
      "execution_count": null,
      "id": "9bc39374",
      "metadata": {
        "id": "9bc39374",
        "colab": {
          "base_uri": "https://localhost:8080/"
        },
        "outputId": "84c9b01b-e35d-4851-ebee-2c2b65bc4af4"
      },
      "outputs": [
        {
          "output_type": "stream",
          "name": "stdout",
          "text": [
            "2\n"
          ]
        }
      ],
      "source": [
        "list=[1,2,3,4,5]\n",
        "print(list.index(3))"
      ]
    },
    {
      "cell_type": "markdown",
      "id": "b665186c",
      "metadata": {
        "id": "b665186c"
      },
      "source": [
        "44. Write a Python program to find the frequency of each element in a list."
      ]
    },
    {
      "cell_type": "code",
      "execution_count": null,
      "id": "e51669b1",
      "metadata": {
        "id": "e51669b1",
        "colab": {
          "base_uri": "https://localhost:8080/"
        },
        "outputId": "249060b8-7b4d-47ba-e878-e65a94e17fcf"
      },
      "outputs": [
        {
          "output_type": "stream",
          "name": "stdout",
          "text": [
            "{1: 2, 2: 2, 3: 2, 4: 2, 5: 2}\n"
          ]
        }
      ],
      "source": [
        "list=[1,2,3,4,5,1,2,3,4,5]\n",
        "frequency={}\n",
        "for i in list:\n",
        "  if i in frequency:\n",
        "    frequency[i]+=1\n",
        "  else:\n",
        "    frequency[i]=1\n",
        "print(frequency)"
      ]
    },
    {
      "cell_type": "markdown",
      "id": "8228f50c",
      "metadata": {
        "id": "8228f50c"
      },
      "source": [
        "45. Write a Python program to check if a list is empty or not."
      ]
    },
    {
      "cell_type": "code",
      "execution_count": null,
      "id": "c786a118",
      "metadata": {
        "id": "c786a118",
        "colab": {
          "base_uri": "https://localhost:8080/"
        },
        "outputId": "5643db76-28a2-4a04-e53c-f1dc55a95e0f"
      },
      "outputs": [
        {
          "output_type": "stream",
          "name": "stdout",
          "text": [
            "The list is empty.\n"
          ]
        }
      ],
      "source": [
        "def is_list_empty(my_list):\n",
        "    if not my_list:\n",
        "        return \"The list is empty.\"\n",
        "    else:\n",
        "        return \"The list is not empty.\"\n",
        "my_list = []\n",
        "print(is_list_empty(my_list))"
      ]
    },
    {
      "cell_type": "markdown",
      "id": "0cd6004d",
      "metadata": {
        "id": "0cd6004d"
      },
      "source": [
        "46. Write a Python program to flatten a nested list."
      ]
    },
    {
      "cell_type": "code",
      "execution_count": null,
      "id": "8f75d3a5",
      "metadata": {
        "id": "8f75d3a5",
        "colab": {
          "base_uri": "https://localhost:8080/"
        },
        "outputId": "d4768bbe-b427-4f22-8169-1db230c65c3c"
      },
      "outputs": [
        {
          "output_type": "stream",
          "name": "stdout",
          "text": [
            "[1, 2, 3, 4, 5, 6, 7, 8, 9]\n"
          ]
        }
      ],
      "source": [
        "list=[[1,2,3],[4,5,6],[7,8,9]]\n",
        "flatten=[]\n",
        "for i in list:\n",
        "  for j in i:\n",
        "    flatten.append(j)\n",
        "print(flatten)"
      ]
    },
    {
      "cell_type": "markdown",
      "id": "dae03af9",
      "metadata": {
        "id": "dae03af9"
      },
      "source": [
        "47. Write a Python program to find the length of a list."
      ]
    },
    {
      "cell_type": "code",
      "execution_count": null,
      "id": "885e7120",
      "metadata": {
        "id": "885e7120",
        "colab": {
          "base_uri": "https://localhost:8080/"
        },
        "outputId": "bc41e2b8-3d93-4166-cea8-a80196a565d1"
      },
      "outputs": [
        {
          "output_type": "stream",
          "name": "stdout",
          "text": [
            "9\n"
          ]
        }
      ],
      "source": [
        "len = __builtins__.len\n",
        "list=[1,2,3,4,5,6,7,8,9]\n",
        "print(len(list))"
      ]
    },
    {
      "cell_type": "markdown",
      "id": "03cc8634",
      "metadata": {
        "id": "03cc8634"
      },
      "source": [
        "48. Write a Python program to find the maximum and minimum element in a list."
      ]
    },
    {
      "cell_type": "code",
      "execution_count": null,
      "id": "5175b84c",
      "metadata": {
        "id": "5175b84c",
        "colab": {
          "base_uri": "https://localhost:8080/"
        },
        "outputId": "729f4ad9-ee5f-4892-8fee-c8cda5d3726a"
      },
      "outputs": [
        {
          "output_type": "stream",
          "name": "stdout",
          "text": [
            "max: 9\n",
            "min: 1\n"
          ]
        }
      ],
      "source": [
        "list=[1,2,3,4,5,6,7,8,9]\n",
        "print(\"max:\",max(list))\n",
        "print(\"min:\",min(list))"
      ]
    },
    {
      "cell_type": "markdown",
      "id": "6bb7374a",
      "metadata": {
        "id": "6bb7374a"
      },
      "source": [
        "49. Write a Python program to find the cumulative sum of a list."
      ]
    },
    {
      "cell_type": "code",
      "execution_count": null,
      "id": "2f6ad36e",
      "metadata": {
        "id": "2f6ad36e",
        "colab": {
          "base_uri": "https://localhost:8080/"
        },
        "outputId": "a42715fa-4390-410d-9f11-d26c931e3c3c"
      },
      "outputs": [
        {
          "output_type": "stream",
          "name": "stdout",
          "text": [
            "[1, 3, 6, 10, 15, 21, 28, 36, 45]\n"
          ]
        }
      ],
      "source": [
        "list=[1,2,3,4,5,6,7,8,9]\n",
        "cumulative_sum=[]\n",
        "sum=0\n",
        "for i in list:\n",
        "  sum+=i\n",
        "  cumulative_sum.append(sum)\n",
        "print(cumulative_sum)"
      ]
    },
    {
      "cell_type": "markdown",
      "id": "222b6a8a",
      "metadata": {
        "id": "222b6a8a"
      },
      "source": [
        "50. Write a Python program to create a matrix using nested lists."
      ]
    },
    {
      "cell_type": "code",
      "execution_count": null,
      "id": "b53de014",
      "metadata": {
        "id": "b53de014",
        "colab": {
          "base_uri": "https://localhost:8080/"
        },
        "outputId": "d81bac37-27c5-4ad3-e955-64714c99f0db"
      },
      "outputs": [
        {
          "output_type": "stream",
          "name": "stdout",
          "text": [
            "Enter the number of rows: 3\n",
            "Enter the number of columns: 3\n",
            "Enter value for element [0][0]: 12\n",
            "Enter value for element [0][1]: 25\n",
            "Enter value for element [0][2]: 65\n",
            "Enter value for element [1][0]: 24\n",
            "Enter value for element [1][1]: 35\n",
            "Enter value for element [1][2]: 17\n",
            "Enter value for element [2][0]: 65\n",
            "Enter value for element [2][1]: 45\n",
            "Enter value for element [2][2]: 33\n",
            "Matrix:\n",
            "12 25 65\n",
            "24 35 17\n",
            "65 45 33\n"
          ]
        }
      ],
      "source": [
        "def create_matrix(rows, cols):\n",
        "    matrix = []\n",
        "    for i in range(rows):\n",
        "        row = []\n",
        "        for j in range(cols):\n",
        "            value = int(input(f\"Enter value for element [{i}][{j}]: \"))\n",
        "            row.append(value)\n",
        "        matrix.append(row)\n",
        "    return matrix\n",
        "\n",
        "def display_matrix(matrix):\n",
        "    for row in matrix:\n",
        "        print(\" \".join(map(str, row)))\n",
        "\n",
        "rows = int(input(\"Enter the number of rows: \"))\n",
        "cols = int(input(\"Enter the number of columns: \"))\n",
        "matrix = create_matrix(rows, cols)\n",
        "\n",
        "print(\"Matrix:\")\n",
        "display_matrix(matrix)"
      ]
    },
    {
      "cell_type": "markdown",
      "id": "e0657585",
      "metadata": {
        "id": "e0657585"
      },
      "source": [
        "51. Write a Python program to perform matrix addition."
      ]
    },
    {
      "cell_type": "code",
      "execution_count": null,
      "id": "964a1f8b",
      "metadata": {
        "id": "964a1f8b",
        "colab": {
          "base_uri": "https://localhost:8080/"
        },
        "outputId": "37382bb3-4c06-42f0-a54a-f4251cb28d5c"
      },
      "outputs": [
        {
          "output_type": "stream",
          "name": "stdout",
          "text": [
            "Enter the number of rows: 2\n",
            "Enter the number of columns: 2\n",
            "Enter values for Matrix 1:\n",
            "Enter value for element [0][0]: 12\n",
            "Enter value for element [0][1]: 45\n",
            "Enter value for element [1][0]: 23\n",
            "Enter value for element [1][1]: 14\n",
            "Enter values for Matrix 2:\n",
            "Enter value for element [0][0]: 14\n",
            "Enter value for element [0][1]: 25\n",
            "Enter value for element [1][0]: 9\n",
            "Enter value for element [1][1]: 13\n",
            "Resultant Matrix:\n",
            "26 70\n",
            "32 27\n"
          ]
        }
      ],
      "source": [
        "def add_matrices(matrix1, matrix2):\n",
        "    result = []\n",
        "    for i in range(len(matrix1)):\n",
        "        row = []\n",
        "        for j in range(len(matrix1[0])):\n",
        "            row.append(matrix1[i][j] + matrix2[i][j])\n",
        "        result.append(row)\n",
        "    return result\n",
        "\n",
        "def display_matrix(matrix):\n",
        "    for row in matrix:\n",
        "        print(\" \".join(map(str, row)))\n",
        "\n",
        "rows = int(input(\"Enter the number of rows: \"))\n",
        "cols = int(input(\"Enter the number of columns: \"))\n",
        "\n",
        "print(\"Enter values for Matrix 1:\")\n",
        "matrix1 = [[int(input(f\"Enter value for element [{i}][{j}]: \")) for j in range(cols)] for i in range(rows)]\n",
        "\n",
        "print(\"Enter values for Matrix 2:\")\n",
        "matrix2 = [[int(input(f\"Enter value for element [{i}][{j}]: \")) for j in range(cols)] for i in range(rows)]\n",
        "\n",
        "result = add_matrices(matrix1, matrix2)\n",
        "\n",
        "print(\"Resultant Matrix:\")\n",
        "display_matrix(result)"
      ]
    },
    {
      "cell_type": "markdown",
      "id": "d266a735",
      "metadata": {
        "id": "d266a735"
      },
      "source": [
        "52. Write a Python program to perform matrix subtraction."
      ]
    },
    {
      "cell_type": "code",
      "execution_count": null,
      "id": "efe84403",
      "metadata": {
        "id": "efe84403",
        "colab": {
          "base_uri": "https://localhost:8080/"
        },
        "outputId": "b8de8ca1-97a8-4b39-c253-68bba248d684"
      },
      "outputs": [
        {
          "output_type": "stream",
          "name": "stdout",
          "text": [
            "Enter the number of rows: 2\n",
            "Enter the number of columns: 2\n",
            "Enter values for Matrix 1:\n",
            "Enter value for element [0][0]: 1\n",
            "Enter value for element [0][1]: 2\n",
            "Enter value for element [1][0]: 2\n",
            "Enter value for element [1][1]: 1\n",
            "Enter values for Matrix 2:\n",
            "Enter value for element [0][0]: 1\n",
            "Enter value for element [0][1]: 3\n",
            "Enter value for element [1][0]: 3\n",
            "Enter value for element [1][1]: 1\n",
            "Resultant Matrix (Matrix1 - Matrix2):\n",
            "0 -1\n",
            "-1 0\n"
          ]
        }
      ],
      "source": [
        "def subtract_matrices(matrix1, matrix2):\n",
        "    result = []\n",
        "    for i in range(len(matrix1)):\n",
        "        row = []\n",
        "        for j in range(len(matrix1[0])):\n",
        "            row.append(matrix1[i][j] - matrix2[i][j])\n",
        "        result.append(row)\n",
        "    return result\n",
        "\n",
        "def display_matrix(matrix):\n",
        "    for row in matrix:\n",
        "        print(\" \".join(map(str, row)))\n",
        "22\n",
        "rows = int(input(\"Enter the number of rows: \"))\n",
        "cols = int(input(\"Enter the number of columns: \"))\n",
        "\n",
        "print(\"Enter values for Matrix 1:\")\n",
        "matrix1 = [[int(input(f\"Enter value for element [{i}][{j}]: \")) for j in range(cols)] for i in range(rows)]\n",
        "\n",
        "print(\"Enter values for Matrix 2:\")\n",
        "matrix2 = [[int(input(f\"Enter value for element [{i}][{j}]: \")) for j in range(cols)] for i in range(rows)]\n",
        "\n",
        "result = subtract_matrices(matrix1, matrix2)\n",
        "\n",
        "print(\"Resultant Matrix (Matrix1 - Matrix2):\")\n",
        "display_matrix(result)"
      ]
    },
    {
      "cell_type": "markdown",
      "id": "b5b6a2d1",
      "metadata": {
        "id": "b5b6a2d1"
      },
      "source": [
        "53. Write a Python program to perform matrix multiplication."
      ]
    },
    {
      "cell_type": "code",
      "execution_count": null,
      "id": "8aca64f8",
      "metadata": {
        "id": "8aca64f8",
        "colab": {
          "base_uri": "https://localhost:8080/"
        },
        "outputId": "0a0394eb-bdb8-4c18-859c-c1b2ef5f3763"
      },
      "outputs": [
        {
          "output_type": "stream",
          "name": "stdout",
          "text": [
            "Resultant Matrix:\n",
            "[30, 24, 18]\n",
            "[84, 69, 54]\n",
            "[138, 114, 90]\n"
          ]
        }
      ],
      "source": [
        "def matrix_multiply(A, B):\n",
        "\n",
        "    rows_A, cols_A = len(A), len(A[0])\n",
        "    rows_B, cols_B = len(B), len(B[0])\n",
        "\n",
        "    if cols_A != rows_B:\n",
        "        raise ValueError(\"Number of columns in Matrix A must be equal to the number of rows in Matrix B.\")\n",
        "\n",
        "    result = [[0 for _ in range(cols_B)] for _ in range(rows_A)]\n",
        "\n",
        "    for i in range(rows_A):\n",
        "        for j in range(cols_B):\n",
        "            for k in range(cols_A):\n",
        "                result[i][j] += A[i][k] * B[k][j]\n",
        "\n",
        "    return result\n",
        "\n",
        "matrix_A = [\n",
        "    [1, 2, 3],\n",
        "    [4, 5, 6],\n",
        "    [7, 8, 9]\n",
        "]\n",
        "\n",
        "matrix_B = [\n",
        "    [9, 8, 7],\n",
        "    [6, 5, 4],\n",
        "    [3, 2, 1]\n",
        "]\n",
        "\n",
        "product = matrix_multiply(matrix_A, matrix_B)\n",
        "print(\"Resultant Matrix:\")\n",
        "for row in product:\n",
        "    print(row)"
      ]
    },
    {
      "cell_type": "markdown",
      "id": "f2de0786",
      "metadata": {
        "id": "f2de0786"
      },
      "source": [
        "54. Write a Python program to find the transpose of a matrix."
      ]
    },
    {
      "cell_type": "code",
      "execution_count": null,
      "id": "91901b6a",
      "metadata": {
        "id": "91901b6a",
        "colab": {
          "base_uri": "https://localhost:8080/"
        },
        "outputId": "277ee1c3-e3f3-4b32-886c-2a09ec60ffc7"
      },
      "outputs": [
        {
          "output_type": "stream",
          "name": "stdout",
          "text": [
            "Original Matrix:\n",
            "[1, 2, 3]\n",
            "[4, 5, 6]\n",
            "[7, 8, 9]\n",
            "\n",
            "Transpose Matrix:\n",
            "[1, 4, 7]\n",
            "[2, 5, 8]\n",
            "[3, 6, 9]\n"
          ]
        }
      ],
      "source": [
        "def transpose_matrix(matrix):\n",
        "    rows = len(matrix)\n",
        "    cols = len(matrix[0])\n",
        "\n",
        "    transpose = [[0 for _ in range(rows)] for _ in range(cols)]\n",
        "\n",
        "    for i in range(rows):\n",
        "        for j in range(cols):\n",
        "            transpose[j][i] = matrix[i][j]\n",
        "\n",
        "    return transpose\n",
        "\n",
        "matrix = [\n",
        "    [1, 2, 3],\n",
        "    [4, 5, 6],\n",
        "    [7, 8, 9]\n",
        "]\n",
        "\n",
        "transpose = transpose_matrix(matrix)\n",
        "print(\"Original Matrix:\")\n",
        "for row in matrix:\n",
        "    print(row)\n",
        "print(\"\\nTranspose Matrix:\")\n",
        "for row in transpose:\n",
        "    print(row)"
      ]
    },
    {
      "cell_type": "markdown",
      "id": "9d369bc4",
      "metadata": {
        "id": "9d369bc4"
      },
      "source": [
        "55. Write a Python program to find the inverse of a matrix."
      ]
    },
    {
      "cell_type": "code",
      "execution_count": null,
      "id": "9be41568",
      "metadata": {
        "id": "9be41568",
        "colab": {
          "base_uri": "https://localhost:8080/"
        },
        "outputId": "903add2d-550b-4c26-c730-ac2a48d2d7cd"
      },
      "outputs": [
        {
          "output_type": "stream",
          "name": "stdout",
          "text": [
            "Original Matrix:\n",
            "[[1 2 3]\n",
            " [0 1 4]\n",
            " [5 6 0]]\n",
            "\n",
            "Inverse Matrix:\n",
            "[[-24.  18.   5.]\n",
            " [ 20. -15.  -4.]\n",
            " [ -5.   4.   1.]]\n"
          ]
        }
      ],
      "source": [
        "import numpy as np\n",
        "\n",
        "def inverse_matrix(matrix):\n",
        "    try:\n",
        "        inverse = np.linalg.inv(matrix)\n",
        "        return inverse\n",
        "    except np.linalg.LinAlgError:\n",
        "        return \"Matrix is singular and cannot be inverted.\"\n",
        "\n",
        "matrix = np.array([\n",
        "    [1, 2, 3],\n",
        "    [0, 1, 4],\n",
        "    [5, 6, 0]\n",
        "])\n",
        "\n",
        "result = inverse_matrix(matrix)\n",
        "print(\"Original Matrix:\")\n",
        "print(matrix)\n",
        "print(\"\\nInverse Matrix:\")\n",
        "print(result)"
      ]
    },
    {
      "cell_type": "markdown",
      "id": "071fef7e",
      "metadata": {
        "id": "071fef7e"
      },
      "source": [
        "56. Write a Python program to implement bubble sort algorithm."
      ]
    },
    {
      "cell_type": "code",
      "execution_count": null,
      "id": "ffa789c6",
      "metadata": {
        "id": "ffa789c6",
        "colab": {
          "base_uri": "https://localhost:8080/"
        },
        "outputId": "908435f0-e851-4fe3-cd24-36c49096fba8"
      },
      "outputs": [
        {
          "output_type": "stream",
          "name": "stdout",
          "text": [
            "Original Array: [64, 34, 25, 12, 22, 11, 90]\n",
            "Sorted Array: [11, 12, 22, 25, 34, 64, 90]\n"
          ]
        }
      ],
      "source": [
        "def bubble_sort(arr):\n",
        "    n = len(arr)\n",
        "    for i in range(n):\n",
        "        swapped = False\n",
        "        for j in range(0, n-i-1):\n",
        "            if arr[j] > arr[j+1]:\n",
        "                arr[j], arr[j+1] = arr[j+1], arr[j]\n",
        "                swapped = True\n",
        "        if not swapped:\n",
        "            break\n",
        "    return arr\n",
        "\n",
        "array = [64, 34, 25, 12, 22, 11, 90]\n",
        "\n",
        "print(\"Original Array:\", array)\n",
        "\n",
        "sorted_array = bubble_sort(array)\n",
        "print(\"Sorted Array:\", sorted_array)"
      ]
    },
    {
      "cell_type": "markdown",
      "id": "fce334e9",
      "metadata": {
        "id": "fce334e9"
      },
      "source": [
        "57. Write a Python program to implement insertion sort algorithm."
      ]
    },
    {
      "cell_type": "code",
      "execution_count": null,
      "id": "9663f58b",
      "metadata": {
        "id": "9663f58b",
        "colab": {
          "base_uri": "https://localhost:8080/"
        },
        "outputId": "8d72c6c0-9769-4957-fb25-f5fff7f60671"
      },
      "outputs": [
        {
          "output_type": "stream",
          "name": "stdout",
          "text": [
            "Original Array: [12, 11, 13, 5, 6]\n",
            "Sorted Array: [5, 6, 11, 12, 13]\n"
          ]
        }
      ],
      "source": [
        "def insertion_sort(arr):\n",
        "    for i in range(1, len(arr)):\n",
        "        key = arr[i]\n",
        "        j = i - 1\n",
        "        while j >= 0 and arr[j] > key:\n",
        "            arr[j + 1] = arr[j]\n",
        "            j -= 1\n",
        "        arr[j + 1] = key\n",
        "    return arr\n",
        "array = [12, 11, 13, 5, 6]\n",
        "\n",
        "print(\"Original Array:\", array)\n",
        "\n",
        "sorted_array = insertion_sort(array)\n",
        "print(\"Sorted Array:\", sorted_array)"
      ]
    },
    {
      "cell_type": "markdown",
      "id": "03f36f18",
      "metadata": {
        "id": "03f36f18"
      },
      "source": [
        "58. Write a Python program to implement selection sort algorithm."
      ]
    },
    {
      "cell_type": "code",
      "execution_count": null,
      "id": "d47603b9",
      "metadata": {
        "id": "d47603b9",
        "colab": {
          "base_uri": "https://localhost:8080/"
        },
        "outputId": "06037706-e3b2-402c-dba3-335488180913"
      },
      "outputs": [
        {
          "output_type": "stream",
          "name": "stdout",
          "text": [
            "Original Array: [64, 25, 12, 22, 11]\n",
            "Sorted Array: [11, 12, 22, 25, 64]\n"
          ]
        }
      ],
      "source": [
        "def selection_sort(arr):\n",
        "    n = len(arr)\n",
        "    for i in range(n):\n",
        "        min_index = i\n",
        "        for j in range(i + 1, n):\n",
        "            if arr[j] < arr[min_index]:\n",
        "                min_index = j\n",
        "        arr[i], arr[min_index] = arr[min_index], arr[i]\n",
        "    return arr\n",
        "\n",
        "array = [64, 25, 12, 22, 11]\n",
        "\n",
        "print(\"Original Array:\", array)\n",
        "\n",
        "sorted_array = selection_sort(array)\n",
        "print(\"Sorted Array:\", sorted_array)"
      ]
    },
    {
      "cell_type": "markdown",
      "id": "8a9be1f2",
      "metadata": {
        "id": "8a9be1f2"
      },
      "source": [
        "59. Write a Python program to implement merge sort algorithm."
      ]
    },
    {
      "cell_type": "code",
      "execution_count": null,
      "id": "5408e3ad",
      "metadata": {
        "id": "5408e3ad",
        "colab": {
          "base_uri": "https://localhost:8080/"
        },
        "outputId": "06105253-5af2-4697-cce7-941ed93c6b04"
      },
      "outputs": [
        {
          "output_type": "stream",
          "name": "stdout",
          "text": [
            "Original Array: [38, 27, 43, 3, 9, 82, 10]\n",
            "Sorted Array: [3, 9, 10, 27, 38, 43, 82]\n"
          ]
        }
      ],
      "source": [
        "def merge(left, right):\n",
        "    merged = []\n",
        "    i = j = 0\n",
        "\n",
        "    while i < len(left) and j < len(right):\n",
        "        if left[i] < right[j]:\n",
        "            merged.append(left[i])\n",
        "            i += 1\n",
        "        else:\n",
        "            merged.append(right[j])\n",
        "            j += 1\n",
        "\n",
        "    merged.extend(left[i:])\n",
        "    merged.extend(right[j:])\n",
        "    return merged\n",
        "\n",
        "def merge_sort(arr):\n",
        "    if len(arr) <= 1:\n",
        "        return arr\n",
        "\n",
        "    mid = len(arr) // 2\n",
        "    left = merge_sort(arr[:mid])\n",
        "    right = merge_sort(arr[mid:])\n",
        "\n",
        "    return merge(left, right)\n",
        "\n",
        "array = [38, 27, 43, 3, 9, 82, 10]\n",
        "\n",
        "print(\"Original Array:\", array)\n",
        "\n",
        "sorted_array = merge_sort(array)\n",
        "print(\"Sorted Array:\", sorted_array)"
      ]
    },
    {
      "cell_type": "markdown",
      "id": "49d25334",
      "metadata": {
        "id": "49d25334"
      },
      "source": [
        "60. Write a Python program to implement quick sort algorithm."
      ]
    },
    {
      "cell_type": "code",
      "execution_count": null,
      "id": "55ebea33",
      "metadata": {
        "id": "55ebea33",
        "colab": {
          "base_uri": "https://localhost:8080/"
        },
        "outputId": "0ca6095c-ccbf-4d7b-94d7-4c3fe9106fc0"
      },
      "outputs": [
        {
          "output_type": "stream",
          "name": "stdout",
          "text": [
            "Original Array: [10, 7, 8, 9, 1, 5]\n",
            "Sorted Array: [1, 5, 7, 8, 9, 10]\n"
          ]
        }
      ],
      "source": [
        "def quick_sort(arr):\n",
        "    if len(arr) <= 1:\n",
        "        return arr\n",
        "\n",
        "    pivot = arr[len(arr) // 2]\n",
        "\n",
        "    less = [x for x in arr if x < pivot]\n",
        "    equal = [x for x in arr if x == pivot]\n",
        "    greater = [x for x in arr if x > pivot]\n",
        "\n",
        "    return quick_sort(less) + equal + quick_sort(greater)\n",
        "\n",
        "array = [10, 7, 8, 9, 1, 5]\n",
        "\n",
        "print(\"Original Array:\", array)\n",
        "\n",
        "sorted_array = quick_sort(array)\n",
        "print(\"Sorted Array:\", sorted_array)"
      ]
    },
    {
      "cell_type": "markdown",
      "source": [
        "##*Advanced* Coding Questions (61-100)"
      ],
      "metadata": {
        "id": "X_8f45JFo-4o"
      },
      "id": "X_8f45JFo-4o"
    },
    {
      "cell_type": "markdown",
      "id": "401c758d",
      "metadata": {
        "id": "401c758d"
      },
      "source": [
        "61. Write a Python program to implement linear search algorithm."
      ]
    },
    {
      "cell_type": "code",
      "execution_count": null,
      "id": "70eb96e2",
      "metadata": {
        "id": "70eb96e2",
        "colab": {
          "base_uri": "https://localhost:8080/"
        },
        "outputId": "1a640e90-6efb-43e5-d7c5-f5471848db85"
      },
      "outputs": [
        {
          "output_type": "stream",
          "name": "stdout",
          "text": [
            "Array: [10, 23, 45, 70, 11, 15]\n",
            "Target Element: 45\n",
            "Element found at index: 2\n"
          ]
        }
      ],
      "source": [
        "def linear_search(arr, target):\n",
        "    for index in range(len(arr)):\n",
        "        if arr[index] == target:\n",
        "            return index\n",
        "    return -1\n",
        "\n",
        "array = [10, 23, 45, 70, 11, 15]\n",
        "target = 45\n",
        "\n",
        "print(\"Array:\", array)\n",
        "print(\"Target Element:\", target)\n",
        "\n",
        "result = linear_search(array, target)\n",
        "\n",
        "if result != -1:\n",
        "    print(f\"Element found at index: {result}\")\n",
        "else:\n",
        "    print(\"Element not found in the array\")"
      ]
    },
    {
      "cell_type": "markdown",
      "id": "9d72a96a",
      "metadata": {
        "id": "9d72a96a"
      },
      "source": [
        "62. Write a Python program to implement binary search algorithm."
      ]
    },
    {
      "cell_type": "code",
      "source": [
        "def binary_search(arr, target):\n",
        "    left, right = 0, len(arr) - 1\n",
        "\n",
        "    while left <= right:\n",
        "        mid = left + (right - left) // 2\n",
        "        if arr[mid] == target:\n",
        "            return mid\n",
        "        elif arr[mid] > target:\n",
        "            right = mid - 1\n",
        "        else:\n",
        "            left = mid + 1\n",
        "    return -1\n",
        "\n",
        "array = [2, 4, 6, 8, 10, 12, 14, 16, 18, 20]\n",
        "target = 14\n",
        "\n",
        "print(\"Array:\", array)\n",
        "print(\"Target Element:\", target)\n",
        "\n",
        "result = binary_search(array, target)\n",
        "\n",
        "if result != -1:\n",
        "    print(f\"Element found at index: {result}\")\n",
        "else:\n",
        "    print(\"Element not found in the array\")"
      ],
      "metadata": {
        "colab": {
          "base_uri": "https://localhost:8080/"
        },
        "id": "btGlT-TVI1DQ",
        "outputId": "199c8031-8fc0-47af-cb62-2bb740bf59fd"
      },
      "id": "btGlT-TVI1DQ",
      "execution_count": null,
      "outputs": [
        {
          "output_type": "stream",
          "name": "stdout",
          "text": [
            "Array: [2, 4, 6, 8, 10, 12, 14, 16, 18, 20]\n",
            "Target Element: 14\n",
            "Element found at index: 6\n"
          ]
        }
      ]
    },
    {
      "cell_type": "markdown",
      "id": "1d7c81ad",
      "metadata": {
        "id": "1d7c81ad"
      },
      "source": [
        "63. Write a Python program to implement depth-first search algorithm."
      ]
    },
    {
      "cell_type": "code",
      "source": [
        "def depth_first_search(graph, start, visited=None):\n",
        "    if visited is None:\n",
        "        visited = set()\n",
        "    visited.add(start)\n",
        "    print(start, end=\" \")\n",
        "\n",
        "    for neighbor in graph[start]:\n",
        "        if neighbor not in visited:\n",
        "            depth_first_search(graph, neighbor, visited)\n",
        "\n",
        "graph = {\n",
        "    'A': ['B', 'C'],\n",
        "    'B': ['D', 'E'],\n",
        "    'C': ['F'],\n",
        "    'D': [],\n",
        "    'E': ['F'],\n",
        "    'F': []\n",
        "}\n",
        "\n",
        "print(\"Depth-First Search traversal:\")\n",
        "depth_first_search(graph, 'A')"
      ],
      "metadata": {
        "colab": {
          "base_uri": "https://localhost:8080/"
        },
        "id": "KgBdlrnpJVlW",
        "outputId": "4b7c56ee-d327-4fb2-f7dc-8bf1f475ffe4"
      },
      "id": "KgBdlrnpJVlW",
      "execution_count": null,
      "outputs": [
        {
          "output_type": "stream",
          "name": "stdout",
          "text": [
            "Depth-First Search traversal:\n",
            "A B D E F C "
          ]
        }
      ]
    },
    {
      "cell_type": "markdown",
      "id": "9be2d764",
      "metadata": {
        "id": "9be2d764"
      },
      "source": [
        "64. Write a Python program to implement breadth-first search algorithm."
      ]
    },
    {
      "cell_type": "code",
      "execution_count": null,
      "id": "8aa98b3d",
      "metadata": {
        "id": "8aa98b3d",
        "colab": {
          "base_uri": "https://localhost:8080/"
        },
        "outputId": "6be297be-4a24-48e5-a43b-ea2fbdc75301"
      },
      "outputs": [
        {
          "output_type": "stream",
          "name": "stdout",
          "text": [
            "Breadth-First Search traversal:\n",
            "A B C D E F G "
          ]
        }
      ],
      "source": [
        "from collections import deque\n",
        "\n",
        "def breadth_first_search(graph, start):\n",
        "    visited = set()\n",
        "    queue = deque([start])\n",
        "\n",
        "    visited.add(start)\n",
        "    while queue:\n",
        "        vertex = queue.popleft()\n",
        "        print(vertex, end=\" \")\n",
        "\n",
        "        for neighbor in graph[vertex]:\n",
        "            if neighbor not in visited:\n",
        "                visited.add(neighbor)\n",
        "                queue.append(neighbor)\n",
        "\n",
        "graph = {\n",
        "    'A': ['B', 'C'],\n",
        "    'B': ['D', 'E'],\n",
        "    'C': ['F', 'G'],\n",
        "    'D': [],\n",
        "    'E': ['F'],\n",
        "    'F': [],\n",
        "    'G': []\n",
        "}\n",
        "\n",
        "print(\"Breadth-First Search traversal:\")\n",
        "breadth_first_search(graph, 'A')"
      ]
    },
    {
      "cell_type": "markdown",
      "id": "8fe03da3",
      "metadata": {
        "id": "8fe03da3"
      },
      "source": [
        "65. Write a Python program to find the shortest path in a graph using Dijkstra's algorithm."
      ]
    },
    {
      "cell_type": "code",
      "execution_count": null,
      "id": "d58d5256",
      "metadata": {
        "id": "d58d5256",
        "colab": {
          "base_uri": "https://localhost:8080/"
        },
        "outputId": "8f836d75-1e81-443f-9b36-2d5569f48381"
      },
      "outputs": [
        {
          "output_type": "stream",
          "name": "stdout",
          "text": [
            "Shortest Path Distances: {'A': 0, 'B': 1, 'C': 3, 'D': 4}\n"
          ]
        }
      ],
      "source": [
        "import heapq\n",
        "\n",
        "def dijkstra(graph, start):\n",
        "    distances = {node: float('inf') for node in graph}\n",
        "    distances[start] = 0\n",
        "    priority_queue = [(0, start)]\n",
        "\n",
        "    while priority_queue:\n",
        "        current_distance, current_node = heapq.heappop(priority_queue)\n",
        "\n",
        "        if current_distance > distances[current_node]:\n",
        "            continue\n",
        "\n",
        "        for neighbor, weight in graph[current_node]:\n",
        "            distance = current_distance + weight\n",
        "\n",
        "            if distance < distances[neighbor]:\n",
        "                distances[neighbor] = distance\n",
        "                heapq.heappush(priority_queue, (distance, neighbor))\n",
        "\n",
        "    return distances\n",
        "\n",
        "graph = {\n",
        "    'A': [('B', 1), ('C', 4)],\n",
        "    'B': [('C', 2), ('D', 5)],\n",
        "    'C': [('D', 1)],\n",
        "    'D': []\n",
        "}\n",
        "\n",
        "start = 'A'\n",
        "print(\"Shortest Path Distances:\", dijkstra(graph, start))"
      ]
    },
    {
      "cell_type": "markdown",
      "id": "b2c7df13",
      "metadata": {
        "id": "b2c7df13"
      },
      "source": [
        "66. Write a Python program to find the minimum spanning tree using Kruskal's algorithm."
      ]
    },
    {
      "cell_type": "code",
      "execution_count": null,
      "id": "5a739278",
      "metadata": {
        "id": "5a739278"
      },
      "outputs": [],
      "source": [
        "class Edge:\n",
        "    def __init__(self, source, target, weight):\n",
        "        self.source = source\n",
        "        self.target = target\n",
        "        self.weight = weight\n",
        "\n",
        "def kruskal(edges, num_nodes):\n",
        "    parent = {i: i for i in range(num_nodes)}\n",
        "    def find(node):\n",
        "        if parent[node] != node:\n",
        "            parent[node] = find(parent[node])\n",
        "        return parent[node]\n",
        "\n",
        "    def union(node1, node2):\n",
        "        root1, root2 = find(node1), find(node2)\n",
        "        if root1 != root2:\n",
        "            parent[root2] = root1\n",
        "\n",
        "    edges.sort(key=lambda edge: edge.weight)\n",
        "    mst = []\n",
        "\n",
        "    for edge in edges:\n",
        "        if find(edge.source) != find(edge.target):\n",
        "            union(edge.source, edge.target)\n",
        "            mst.append(edge)\n",
        "\n",
        "    return mst\n",
        "\n",
        "edges = [\n",
        "    Edge(0, 1, 1), Edge(0, 2, 4), Edge(1, 2, 2),\n",
        "    Edge(1, 3, 7), Edge(2, 3, 3)\n",
        "]\n",
        "mst = kruskal(edges, 4)\n",
        "print(\"Minimum Spanning Tree:\")\n",
        "for edge in mst:\n",
        "    print(f\"Edge from {edge.source} to {edge.target} with weight {edge.weight}\")"
      ]
    },
    {
      "cell_type": "markdown",
      "id": "883df590",
      "metadata": {
        "id": "883df590"
      },
      "source": [
        "67. Write a Python program to find the minimum spanning tree using Prim's algorithm."
      ]
    },
    {
      "cell_type": "code",
      "execution_count": null,
      "id": "1776ca96",
      "metadata": {
        "id": "1776ca96"
      },
      "outputs": [],
      "source": [
        "import heapq\n",
        "\n",
        "def prim(graph, start):\n",
        "    visited = set()\n",
        "    mst = []\n",
        "    edges = [(0, start, start)]\n",
        "\n",
        "    while edges:\n",
        "        weight, source, destination = heapq.heappop(edges)\n",
        "        if destination not in visited:\n",
        "            visited.add(destination)\n",
        "            mst.append((source, destination, weight))\n",
        "\n",
        "            for neighbor, weight in graph[destination]:\n",
        "                if neighbor not in visited:\n",
        "                    heapq.heappush(edges, (weight, destination, neighbor))\n",
        "\n",
        "    return mst\n",
        "\n",
        "graph = {\n",
        "    'A': [('B', 1), ('C', 4)],\n",
        "    'B': [('A', 1), ('C', 2), ('D', 5)],\n",
        "    'C': [('A', 4), ('B', 2), ('D', 1)],\n",
        "    'D': [('B', 5), ('C', 1)]\n",
        "}\n",
        "\n",
        "print(\"Minimum Spanning Tree:\", prim(graph, 'A'))"
      ]
    },
    {
      "cell_type": "markdown",
      "id": "cb7bcf26",
      "metadata": {
        "id": "cb7bcf26"
      },
      "source": [
        "68. Write a Python program to find the maximum flow in a network using Ford-Fulkerson algorithm."
      ]
    },
    {
      "cell_type": "code",
      "execution_count": null,
      "id": "993e87db",
      "metadata": {
        "id": "993e87db",
        "colab": {
          "base_uri": "https://localhost:8080/"
        },
        "outputId": "4daee5ca-6326-4566-e0ed-4ac6c59b5a35"
      },
      "outputs": [
        {
          "output_type": "stream",
          "name": "stdout",
          "text": [
            "Maximum Flow: 19\n"
          ]
        }
      ],
      "source": [
        "from collections import defaultdict\n",
        "\n",
        "class Graph:\n",
        "    def __init__(self):\n",
        "        self.graph = defaultdict(lambda: defaultdict(int))\n",
        "\n",
        "    def add_edge(self, u, v, capacity):\n",
        "        self.graph[u][v] = capacity\n",
        "\n",
        "    def bfs(self, source, sink, parent):\n",
        "        visited = set()\n",
        "        queue = [source]\n",
        "        visited.add(source)\n",
        "\n",
        "        while queue:\n",
        "            u = queue.pop(0)\n",
        "\n",
        "            for v, capacity in self.graph[u].items():\n",
        "                if v not in visited and capacity > 0:\n",
        "                    queue.append(v)\n",
        "                    visited.add(v)\n",
        "                    parent[v] = u\n",
        "                    if v == sink:\n",
        "                        return True\n",
        "\n",
        "        return False\n",
        "\n",
        "    def ford_fulkerson(self, source, sink):\n",
        "        parent = {}\n",
        "        max_flow = 0\n",
        "\n",
        "        while self.bfs(source, sink, parent):\n",
        "            path_flow = float('Inf')\n",
        "            s = sink\n",
        "\n",
        "            while s != source:\n",
        "                path_flow = min(path_flow, self.graph[parent[s]][s])\n",
        "                s = parent[s]\n",
        "\n",
        "            max_flow += path_flow\n",
        "            v = sink\n",
        "\n",
        "            while v != source:\n",
        "                u = parent[v]\n",
        "                self.graph[u][v] -= path_flow\n",
        "                self.graph[v][u] += path_flow\n",
        "                v = u\n",
        "\n",
        "        return max_flow\n",
        "\n",
        "graph = Graph()\n",
        "graph.add_edge('A', 'B', 16)\n",
        "graph.add_edge('A', 'C', 13)\n",
        "graph.add_edge('B', 'C', 10)\n",
        "graph.add_edge('B', 'D', 12)\n",
        "graph.add_edge('C', 'B', 4)\n",
        "graph.add_edge('C', 'E', 14)\n",
        "graph.add_edge('D', 'E', 9)\n",
        "graph.add_edge('D', 'F', 20)\n",
        "graph.add_edge('E', 'F', 7)\n",
        "\n",
        "print(\"Maximum Flow:\", graph.ford_fulkerson('A', 'F'))"
      ]
    },
    {
      "cell_type": "markdown",
      "id": "445ad7fe",
      "metadata": {
        "id": "445ad7fe"
      },
      "source": [
        "69. Write a Python program to find the longest common subsequence in two sequences."
      ]
    },
    {
      "cell_type": "code",
      "execution_count": null,
      "id": "4ba2da8e",
      "metadata": {
        "id": "4ba2da8e",
        "colab": {
          "base_uri": "https://localhost:8080/"
        },
        "outputId": "4b3623ad-2525-4bff-c7c8-d40d02a9f2d7"
      },
      "outputs": [
        {
          "output_type": "stream",
          "name": "stdout",
          "text": [
            "Longest Common Subsequence: GTAB\n"
          ]
        }
      ],
      "source": [
        "def longest_common_subsequence(X, Y):\n",
        "    m, n = len(X), len(Y)\n",
        "    dp = [[0] * (n + 1) for _ in range(m + 1)]\n",
        "\n",
        "    for i in range(1, m + 1):\n",
        "        for j in range(1, n + 1):\n",
        "            if X[i - 1] == Y[j - 1]:\n",
        "                dp[i][j] = dp[i - 1][j - 1] + 1\n",
        "            else:\n",
        "                dp[i][j] = max(dp[i - 1][j], dp[i][j - 1])\n",
        "\n",
        "    lcs = []\n",
        "    i, j = m, n\n",
        "    while i > 0 and j > 0:\n",
        "        if X[i - 1] == Y[j - 1]:\n",
        "            lcs.append(X[i - 1])\n",
        "            i -= 1\n",
        "            j -= 1\n",
        "        elif dp[i - 1][j] > dp[i][j - 1]:\n",
        "            i -= 1\n",
        "        else:\n",
        "            j -= 1\n",
        "\n",
        "    return ''.join(reversed(lcs))\n",
        "\n",
        "X = \"AGGTAB\"\n",
        "Y = \"GXTXAYB\"\n",
        "print(\"Longest Common Subsequence:\", longest_common_subsequence(X, Y))"
      ]
    },
    {
      "cell_type": "markdown",
      "id": "75054155",
      "metadata": {
        "id": "75054155"
      },
      "source": [
        "70. Write a Python program to find the longest increasing subsequence in a sequence."
      ]
    },
    {
      "cell_type": "code",
      "execution_count": null,
      "id": "8a2fbdf6",
      "metadata": {
        "id": "8a2fbdf6",
        "colab": {
          "base_uri": "https://localhost:8080/"
        },
        "outputId": "9baddee4-24ad-4b9b-8b33-4af1ae034839"
      },
      "outputs": [
        {
          "output_type": "stream",
          "name": "stdout",
          "text": [
            "Longest Increasing Subsequence Length: 6\n"
          ]
        }
      ],
      "source": [
        "def longest_increasing_subsequence(arr):\n",
        "    n = len(arr)\n",
        "    dp = [1] * n\n",
        "\n",
        "    for i in range(1, n):\n",
        "        for j in range(i):\n",
        "            if arr[i] > arr[j]:\n",
        "                dp[i] = max(dp[i], dp[j] + 1)\n",
        "\n",
        "    return max(dp)\n",
        "\n",
        "sequence = [10, 22, 9, 33, 21, 50, 41, 60, 80]\n",
        "print(\"Longest Increasing Subsequence Length:\", longest_increasing_subsequence(sequence))"
      ]
    },
    {
      "cell_type": "markdown",
      "id": "80dc7dc4",
      "metadata": {
        "id": "80dc7dc4"
      },
      "source": [
        "71. Write a Python program to solve the knapsack problem using dynamic programming."
      ]
    },
    {
      "cell_type": "code",
      "execution_count": null,
      "id": "a3ad5e24",
      "metadata": {
        "id": "a3ad5e24",
        "colab": {
          "base_uri": "https://localhost:8080/"
        },
        "outputId": "2c09595d-212d-4e91-8431-8388f6eb89d1"
      },
      "outputs": [
        {
          "output_type": "stream",
          "name": "stdout",
          "text": [
            "Maximum value in Knapsack: 220\n"
          ]
        }
      ],
      "source": [
        "def knapsack(values, weights, capacity):\n",
        "    n = len(values)\n",
        "    dp = [[0] * (capacity + 1) for _ in range(n + 1)]\n",
        "\n",
        "    for i in range(1, n + 1):\n",
        "        for w in range(1, capacity + 1):\n",
        "            if weights[i - 1] <= w:\n",
        "                dp[i][w] = max(dp[i - 1][w], dp[i - 1][w - weights[i - 1]] + values[i - 1])\n",
        "            else:\n",
        "                dp[i][w] = dp[i - 1][w]\n",
        "\n",
        "    return dp[n][capacity]\n",
        "\n",
        "values = [60, 100, 120]\n",
        "weights = [10, 20, 30]\n",
        "capacity = 50\n",
        "print(\"Maximum value in Knapsack:\", knapsack(values, weights, capacity))"
      ]
    },
    {
      "cell_type": "markdown",
      "id": "71526319",
      "metadata": {
        "id": "71526319"
      },
      "source": [
        "72. Write a Python program to solve the traveling salesman problem using dynamic programming."
      ]
    },
    {
      "cell_type": "code",
      "execution_count": null,
      "id": "8efdb175",
      "metadata": {
        "id": "8efdb175",
        "colab": {
          "base_uri": "https://localhost:8080/"
        },
        "outputId": "49fa5a5b-286a-4bb3-9e4a-5622cb860a8a"
      },
      "outputs": [
        {
          "output_type": "stream",
          "name": "stdout",
          "text": [
            "Minimum cost of TSP: 80\n"
          ]
        }
      ],
      "source": [
        "from itertools import permutations\n",
        "\n",
        "def traveling_salesman(graph, start):\n",
        "    n = len(graph)\n",
        "    vertices = [i for i in range(n) if i != start]\n",
        "\n",
        "    min_cost = float('inf')\n",
        "    for perm in permutations(vertices):\n",
        "        current_cost = 0\n",
        "        k = start\n",
        "        for j in perm:\n",
        "            current_cost += graph[k][j]\n",
        "            k = j\n",
        "        current_cost += graph[k][start]\n",
        "        min_cost = min(min_cost, current_cost)\n",
        "\n",
        "    return min_cost\n",
        "\n",
        "graph = [[0, 10, 15, 20],\n",
        "         [10, 0, 35, 25],\n",
        "         [15, 35, 0, 30],\n",
        "         [20, 25, 30, 0]]\n",
        "start = 0\n",
        "print(\"Minimum cost of TSP:\", traveling_salesman(graph, start))"
      ]
    },
    {
      "cell_type": "markdown",
      "id": "6ddc5558",
      "metadata": {
        "id": "6ddc5558"
      },
      "source": [
        "73. Write a Python program to find the maximum sum subarray using Kadane's algorithm."
      ]
    },
    {
      "cell_type": "code",
      "execution_count": null,
      "id": "109d5ad3",
      "metadata": {
        "id": "109d5ad3",
        "colab": {
          "base_uri": "https://localhost:8080/"
        },
        "outputId": "97ea8501-69de-4257-93f3-30a7d31b3afd"
      },
      "outputs": [
        {
          "output_type": "stream",
          "name": "stdout",
          "text": [
            "Maximum Sum Subarray: 7\n"
          ]
        }
      ],
      "source": [
        "def kadane(arr):\n",
        "    max_sum = float('-inf')\n",
        "    current_sum = 0\n",
        "\n",
        "    for num in arr:\n",
        "        current_sum = max(num, current_sum + num)\n",
        "        max_sum = max(max_sum, current_sum)\n",
        "\n",
        "    return max_sum\n",
        "\n",
        "array = [-2, -3, 4, -1, -2, 1, 5, -3]\n",
        "print(\"Maximum Sum Subarray:\", kadane(array))"
      ]
    },
    {
      "cell_type": "markdown",
      "id": "0c9fc456",
      "metadata": {
        "id": "0c9fc456"
      },
      "source": [
        "74. Write a Python program to find the median of two sorted arrays."
      ]
    },
    {
      "cell_type": "code",
      "execution_count": null,
      "id": "93bd7672",
      "metadata": {
        "id": "93bd7672",
        "colab": {
          "base_uri": "https://localhost:8080/"
        },
        "outputId": "0f48511b-92dc-49d9-c1da-62224a1192f8"
      },
      "outputs": [
        {
          "output_type": "stream",
          "name": "stdout",
          "text": [
            "Median of Two Sorted Arrays: 2\n"
          ]
        }
      ],
      "source": [
        "def find_median_sorted_arrays(nums1, nums2):\n",
        "    merged = sorted(nums1 + nums2)\n",
        "    n = len(merged)\n",
        "    if n % 2 == 1:\n",
        "        return merged[n // 2]\n",
        "    else:\n",
        "        return (merged[n // 2 - 1] + merged[n // 2]) / 2\n",
        "\n",
        "nums1 = [1, 3]\n",
        "nums2 = [2]\n",
        "print(\"Median of Two Sorted Arrays:\", find_median_sorted_arrays(nums1, nums2))"
      ]
    },
    {
      "cell_type": "markdown",
      "id": "f24bc58e",
      "metadata": {
        "id": "f24bc58e"
      },
      "source": [
        "75. Write a Python program to find the k-th smallest element in an array."
      ]
    },
    {
      "cell_type": "code",
      "execution_count": null,
      "id": "3b03bafa",
      "metadata": {
        "id": "3b03bafa",
        "colab": {
          "base_uri": "https://localhost:8080/"
        },
        "outputId": "cdc9e69f-9344-44b0-eef4-6c381e6025e7"
      },
      "outputs": [
        {
          "output_type": "stream",
          "name": "stdout",
          "text": [
            "3-th Smallest Element: 7\n"
          ]
        }
      ],
      "source": [
        "def kth_smallest(arr, k):\n",
        "    arr.sort()\n",
        "    return arr[k - 1]\n",
        "\n",
        "array = [7, 10, 4, 3, 20, 15]\n",
        "k = 3\n",
        "print(f\"{k}-th Smallest Element:\", kth_smallest(array, k))"
      ]
    },
    {
      "cell_type": "markdown",
      "id": "f2d17b60",
      "metadata": {
        "id": "f2d17b60"
      },
      "source": [
        "76. Write a Python program to find the k-th largest element in an array."
      ]
    },
    {
      "cell_type": "code",
      "execution_count": null,
      "id": "3b58c085",
      "metadata": {
        "id": "3b58c085",
        "colab": {
          "base_uri": "https://localhost:8080/"
        },
        "outputId": "98c0be48-93ec-487a-878e-8964b0bb7a4a"
      },
      "outputs": [
        {
          "output_type": "stream",
          "name": "stdout",
          "text": [
            "2-th Largest Element: 15\n"
          ]
        }
      ],
      "source": [
        "def kth_largest(arr, k):\n",
        "    arr.sort(reverse=True)\n",
        "    return arr[k - 1]\n",
        "\n",
        "array = [7, 10, 4, 3, 20, 15]\n",
        "k = 2\n",
        "print(f\"{k}-th Largest Element:\", kth_largest(array, k))"
      ]
    },
    {
      "cell_type": "markdown",
      "id": "34072df5",
      "metadata": {
        "id": "34072df5"
      },
      "source": [
        "77. Write a Python program to implement the heap sort algorithm."
      ]
    },
    {
      "cell_type": "code",
      "execution_count": null,
      "id": "53591396",
      "metadata": {
        "id": "53591396",
        "colab": {
          "base_uri": "https://localhost:8080/"
        },
        "outputId": "737eaa4b-1e59-4019-de61-6e5e40be259d"
      },
      "outputs": [
        {
          "output_type": "stream",
          "name": "stdout",
          "text": [
            "Sorted Array: [5, 6, 7, 11, 12, 13]\n"
          ]
        }
      ],
      "source": [
        "def heapify(arr, n, i):\n",
        "    largest = i\n",
        "    left = 2 * i + 1\n",
        "    right = 2 * i + 2\n",
        "\n",
        "    if left < n and arr[left] > arr[largest]:\n",
        "        largest = left\n",
        "    if right < n and arr[right] > arr[largest]:\n",
        "        largest = right\n",
        "    if largest != i:\n",
        "        arr[i], arr[largest] = arr[largest], arr[i]\n",
        "        heapify(arr, n, largest)\n",
        "\n",
        "def heap_sort(arr):\n",
        "    n = len(arr)\n",
        "    for i in range(n // 2 - 1, -1, -1):\n",
        "        heapify(arr, n, i)\n",
        "    for i in range(n - 1, 0, -1):\n",
        "        arr[i], arr[0] = arr[0], arr[i]\n",
        "        heapify(arr, i, 0)\n",
        "\n",
        "array = [12, 11, 13, 5, 6, 7]\n",
        "heap_sort(array)\n",
        "print(\"Sorted Array:\", array)"
      ]
    },
    {
      "cell_type": "markdown",
      "id": "d9e31617",
      "metadata": {
        "id": "d9e31617"
      },
      "source": [
        "78. Write a Python program to implement the radix sort algorithm."
      ]
    },
    {
      "cell_type": "code",
      "execution_count": null,
      "id": "03017849",
      "metadata": {
        "id": "03017849",
        "colab": {
          "base_uri": "https://localhost:8080/"
        },
        "outputId": "3425de62-1c54-4553-e0b0-4fd4c85ad520"
      },
      "outputs": [
        {
          "output_type": "stream",
          "name": "stdout",
          "text": [
            "Sorted Array: [2, 24, 45, 66, 75, 90, 170, 802]\n"
          ]
        }
      ],
      "source": [
        "def counting_sort(arr, exp):\n",
        "    n = len(arr)\n",
        "    output = [0] * n\n",
        "    count = [0] * 10\n",
        "\n",
        "    for i in range(n):\n",
        "        index = arr[i] // exp\n",
        "        count[index % 10] += 1\n",
        "\n",
        "    for i in range(1, 10):\n",
        "        count[i] += count[i - 1]\n",
        "\n",
        "    for i in range(n - 1, -1, -1):\n",
        "        index = arr[i] // exp\n",
        "        output[count[index % 10] - 1] = arr[i]\n",
        "        count[index % 10] -= 1\n",
        "\n",
        "    for i in range(n):\n",
        "        arr[i] = output[i]\n",
        "\n",
        "def radix_sort(arr):\n",
        "    max_num = max(arr)\n",
        "    exp = 1\n",
        "    while max_num // exp > 0:\n",
        "        counting_sort(arr, exp)\n",
        "        exp *= 10\n",
        "\n",
        "array = [170, 45, 75, 90, 802, 24, 2, 66]\n",
        "radix_sort(array)\n",
        "print(\"Sorted Array:\", array)"
      ]
    },
    {
      "cell_type": "markdown",
      "id": "8f3ca34f",
      "metadata": {
        "id": "8f3ca34f"
      },
      "source": [
        "79. Write a Python program to implement the bucket sort algorithm."
      ]
    },
    {
      "cell_type": "code",
      "execution_count": null,
      "id": "08ad8e73",
      "metadata": {
        "id": "08ad8e73",
        "colab": {
          "base_uri": "https://localhost:8080/"
        },
        "outputId": "66d164f5-c7d3-422d-8e39-9f23256b1cf6"
      },
      "outputs": [
        {
          "output_type": "stream",
          "name": "stdout",
          "text": [
            "Sorted Array: [0.23, 0.25, 0.32, 0.35, 0.42, 0.47, 0.52]\n"
          ]
        }
      ],
      "source": [
        "def bucket_sort(arr):\n",
        "    buckets = [[] for _ in range(len(arr))]\n",
        "    for num in arr:\n",
        "        index = int(num * len(arr))\n",
        "        buckets[index].append(num)\n",
        "\n",
        "    for bucket in buckets:\n",
        "        bucket.sort()\n",
        "\n",
        "    sorted_arr = []\n",
        "    for bucket in buckets:\n",
        "        sorted_arr.extend(bucket)\n",
        "    return sorted_arr\n",
        "\n",
        "array = [0.42, 0.32, 0.23, 0.52, 0.25, 0.47, 0.35]\n",
        "print(\"Sorted Array:\", bucket_sort(array))"
      ]
    },
    {
      "cell_type": "markdown",
      "id": "4f3b61b9",
      "metadata": {
        "id": "4f3b61b9"
      },
      "source": [
        "80. Write a Python program to implement the counting sort algorithm."
      ]
    },
    {
      "cell_type": "code",
      "execution_count": null,
      "id": "4ce955d9",
      "metadata": {
        "id": "4ce955d9",
        "colab": {
          "base_uri": "https://localhost:8080/"
        },
        "outputId": "d852def7-ebde-4748-c9c4-d190893f6543"
      },
      "outputs": [
        {
          "output_type": "stream",
          "name": "stdout",
          "text": [
            "Sorted Array: [1, 2, 2, 3, 3, 4, 8]\n"
          ]
        }
      ],
      "source": [
        "def counting_sort(arr):\n",
        "    max_val = max(arr)\n",
        "    count = [0] * (max_val + 1)\n",
        "\n",
        "    for num in arr:\n",
        "        count[num] += 1\n",
        "\n",
        "    sorted_arr = []\n",
        "    for i, freq in enumerate(count):\n",
        "        sorted_arr.extend([i] * freq)\n",
        "\n",
        "    return sorted_arr\n",
        "\n",
        "array = [4, 2, 2, 8, 3, 3, 1]\n",
        "print(\"Sorted Array:\", counting_sort(array))"
      ]
    },
    {
      "cell_type": "markdown",
      "id": "877d296e",
      "metadata": {
        "id": "877d296e"
      },
      "source": [
        "81. Write a Python program to find the longest palindromic substring in a string."
      ]
    },
    {
      "cell_type": "code",
      "execution_count": null,
      "id": "ce89343e",
      "metadata": {
        "id": "ce89343e",
        "colab": {
          "base_uri": "https://localhost:8080/"
        },
        "outputId": "cf1194d6-cd17-4285-b422-9a2a3cd8ca77"
      },
      "outputs": [
        {
          "output_type": "stream",
          "name": "stdout",
          "text": [
            "Longest Palindromic Substring: bab\n"
          ]
        }
      ],
      "source": [
        "def longest_palindromic_substring(s):\n",
        "    n = len(s)\n",
        "    start, max_length = 0, 1\n",
        "\n",
        "    for i in range(n):\n",
        "        low, high = i - 1, i + 1\n",
        "\n",
        "        while high < n and s[high] == s[i]:\n",
        "            high += 1\n",
        "        while low >= 0 and s[low] == s[i]:\n",
        "            low -= 1\n",
        "\n",
        "        while low >= 0 and high < n and s[low] == s[high]:\n",
        "            low -= 1\n",
        "            high += 1\n",
        "\n",
        "        length = high - low - 1\n",
        "        if length > max_length:\n",
        "            max_length = length\n",
        "            start = low + 1\n",
        "\n",
        "    return s[start:start + max_length]\n",
        "\n",
        "s = \"babad\"\n",
        "print(\"Longest Palindromic Substring:\", longest_palindromic_substring(s))"
      ]
    },
    {
      "cell_type": "markdown",
      "id": "2315d5cb",
      "metadata": {
        "id": "2315d5cb"
      },
      "source": [
        "82. Write a Python program to find the minimum edit distance between two strings."
      ]
    },
    {
      "cell_type": "code",
      "execution_count": null,
      "id": "5d6d404b",
      "metadata": {
        "id": "5d6d404b",
        "colab": {
          "base_uri": "https://localhost:8080/"
        },
        "outputId": "8a6234db-d4f4-4277-968c-14b688fb9142"
      },
      "outputs": [
        {
          "output_type": "stream",
          "name": "stdout",
          "text": [
            "Minimum Edit Distance: 3\n"
          ]
        }
      ],
      "source": [
        "def edit_distance(str1, str2):\n",
        "    m, n = len(str1), len(str2)\n",
        "    dp = [[0] * (n + 1) for _ in range(m + 1)]\n",
        "\n",
        "    for i in range(m + 1):\n",
        "        for j in range(n + 1):\n",
        "            if i == 0:\n",
        "                dp[i][j] = j\n",
        "            elif j == 0:\n",
        "                dp[i][j] = i\n",
        "            elif str1[i - 1] == str2[j - 1]:\n",
        "                dp[i][j] = dp[i - 1][j - 1]\n",
        "            else:\n",
        "                dp[i][j] = 1 + min(dp[i - 1][j], dp[i][j - 1], dp[i - 1][j - 1])\n",
        "\n",
        "    return dp[m][n]\n",
        "\n",
        "str1 = \"sunday\"\n",
        "str2 = \"saturday\"\n",
        "print(\"Minimum Edit Distance:\", edit_distance(str1, str2))"
      ]
    },
    {
      "cell_type": "markdown",
      "id": "10328a0c",
      "metadata": {
        "id": "10328a0c"
      },
      "source": [
        "83. Write a Python program to find the maximum product subarray in an array."
      ]
    },
    {
      "cell_type": "code",
      "execution_count": null,
      "id": "7f4b46b5",
      "metadata": {
        "id": "7f4b46b5",
        "colab": {
          "base_uri": "https://localhost:8080/"
        },
        "outputId": "ec7db167-ddc4-4f41-d61c-f77e60fcf769"
      },
      "outputs": [
        {
          "output_type": "stream",
          "name": "stdout",
          "text": [
            "Maximum Product Subarray: 6\n"
          ]
        }
      ],
      "source": [
        "def max_product_subarray(nums):\n",
        "    max_product = min_product = result = nums[0]\n",
        "\n",
        "    for num in nums[1:]:\n",
        "        temp_max = max(num, max_product * num, min_product * num)\n",
        "        min_product = min(num, max_product * num, min_product * num)\n",
        "        max_product = temp_max\n",
        "\n",
        "        result = max(result, max_product)\n",
        "\n",
        "    return result\n",
        "\n",
        "array = [2, 3, -2, 4]\n",
        "print(\"Maximum Product Subarray:\", max_product_subarray(array))"
      ]
    },
    {
      "cell_type": "markdown",
      "id": "d0e87796",
      "metadata": {
        "id": "d0e87796"
      },
      "source": [
        "84. Write a Python program to find the number of islands in a 2D grid."
      ]
    },
    {
      "cell_type": "code",
      "execution_count": null,
      "id": "940f7fd4",
      "metadata": {
        "id": "940f7fd4",
        "colab": {
          "base_uri": "https://localhost:8080/"
        },
        "outputId": "9cd75dee-c95f-4952-d444-71cb3f60bbe9"
      },
      "outputs": [
        {
          "output_type": "stream",
          "name": "stdout",
          "text": [
            "Number of Islands: 2\n"
          ]
        }
      ],
      "source": [
        "def num_islands(grid):\n",
        "    def dfs(x, y):\n",
        "        if x < 0 or y < 0 or x >= len(grid) or y >= len(grid[0]) or grid[x][y] == '0':\n",
        "            return\n",
        "        grid[x][y] = '0'\n",
        "        dfs(x - 1, y)\n",
        "        dfs(x + 1, y)\n",
        "        dfs(x, y - 1)\n",
        "        dfs(x, y + 1)\n",
        "\n",
        "    count = 0\n",
        "    for i in range(len(grid)):\n",
        "        for j in range(len(grid[0])):\n",
        "            if grid[i][j] == '1':\n",
        "                dfs(i, j)\n",
        "                count += 1\n",
        "\n",
        "    return count\n",
        "\n",
        "grid = [\n",
        "    [\"1\", \"1\", \"1\", \"0\", \"0\"],\n",
        "    [\"1\", \"1\", \"0\", \"0\", \"0\"],\n",
        "    [\"0\", \"0\", \"0\", \"1\", \"1\"],\n",
        "    [\"0\", \"0\", \"0\", \"1\", \"1\"]\n",
        "]\n",
        "print(\"Number of Islands:\", num_islands(grid))"
      ]
    },
    {
      "cell_type": "markdown",
      "id": "6f41fc0a",
      "metadata": {
        "id": "6f41fc0a"
      },
      "source": [
        "85. Write a Python program to find the maximum rectangle area in a 2D grid."
      ]
    },
    {
      "cell_type": "code",
      "execution_count": null,
      "id": "daf4732d",
      "metadata": {
        "id": "daf4732d",
        "colab": {
          "base_uri": "https://localhost:8080/"
        },
        "outputId": "f003d936-0543-4996-8ef5-299189fc77ce"
      },
      "outputs": [
        {
          "output_type": "stream",
          "name": "stdout",
          "text": [
            "Maximum Rectangle Area: 6\n"
          ]
        }
      ],
      "source": [
        "def maximal_rectangle(matrix):\n",
        "    def largest_histogram_area(heights):\n",
        "        stack, max_area = [], 0\n",
        "        heights.append(0)\n",
        "\n",
        "        for i, h in enumerate(heights):\n",
        "            while stack and heights[stack[-1]] >= h:\n",
        "                height = heights[stack.pop()]\n",
        "                width = i if not stack else i - stack[-1] - 1\n",
        "                max_area = max(max_area, height * width)\n",
        "            stack.append(i)\n",
        "\n",
        "        heights.pop()\n",
        "        return max_area\n",
        "\n",
        "    if not matrix:\n",
        "        return 0\n",
        "\n",
        "    max_area = 0\n",
        "    heights = [0] * len(matrix[0])\n",
        "\n",
        "    for row in matrix:\n",
        "        for i, value in enumerate(row):\n",
        "            heights[i] = heights[i] + 1 if value == \"1\" else 0\n",
        "        max_area = max(max_area, largest_histogram_area(heights))\n",
        "\n",
        "    return max_area\n",
        "\n",
        "matrix = [\n",
        "    [\"1\", \"0\", \"1\", \"0\", \"0\"],\n",
        "    [\"1\", \"0\", \"1\", \"1\", \"1\"],\n",
        "    [\"1\", \"1\", \"1\", \"1\", \"1\"],\n",
        "    [\"1\", \"0\", \"0\", \"1\", \"0\"]\n",
        "]\n",
        "print(\"Maximum Rectangle Area:\", maximal_rectangle(matrix))"
      ]
    },
    {
      "cell_type": "markdown",
      "id": "77cb7dca",
      "metadata": {
        "id": "77cb7dca"
      },
      "source": [
        "86. Write a Python program to find the largest square area in a 2D grid."
      ]
    },
    {
      "cell_type": "code",
      "execution_count": null,
      "id": "ca670d6d",
      "metadata": {
        "id": "ca670d6d",
        "colab": {
          "base_uri": "https://localhost:8080/"
        },
        "outputId": "5cb1ff47-e7f7-4578-a6d6-28e02a9c0524"
      },
      "outputs": [
        {
          "output_type": "stream",
          "name": "stdout",
          "text": [
            "Largest Square Area: 4\n"
          ]
        }
      ],
      "source": [
        "def maximal_square(matrix):\n",
        "    if not matrix:\n",
        "        return 0\n",
        "\n",
        "    dp = [[0] * (len(matrix[0]) + 1) for _ in range(len(matrix) + 1)]\n",
        "    max_side = 0\n",
        "\n",
        "    for i in range(1, len(dp)):\n",
        "        for j in range(1, len(dp[0])):\n",
        "            if matrix[i - 1][j - 1] == \"1\":\n",
        "                dp[i][j] = min(dp[i - 1][j], dp[i][j - 1], dp[i - 1][j - 1]) + 1\n",
        "                max_side = max(max_side, dp[i][j])\n",
        "\n",
        "    return max_side ** 2\n",
        "\n",
        "matrix = [\n",
        "    [\"1\", \"0\", \"1\", \"0\", \"0\"],\n",
        "    [\"1\", \"0\", \"1\", \"1\", \"1\"],\n",
        "    [\"1\", \"1\", \"1\", \"1\", \"1\"],\n",
        "    [\"1\", \"0\", \"0\", \"1\", \"0\"]\n",
        "]\n",
        "print(\"Largest Square Area:\", maximal_square(matrix))"
      ]
    },
    {
      "cell_type": "markdown",
      "id": "39933501",
      "metadata": {
        "id": "39933501"
      },
      "source": [
        "87. Write a Python program to solve the N-Queens problem."
      ]
    },
    {
      "cell_type": "code",
      "execution_count": null,
      "id": "ddf6a499",
      "metadata": {
        "id": "ddf6a499",
        "colab": {
          "base_uri": "https://localhost:8080/"
        },
        "outputId": "b03486e2-e427-4647-b116-ae9e5af5d012"
      },
      "outputs": [
        {
          "output_type": "stream",
          "name": "stdout",
          "text": [
            "N-Queens Solutions: [[1, 3, 0, 2], [2, 0, 3, 1]]\n"
          ]
        }
      ],
      "source": [
        "def solve_n_queens(n):\n",
        "    def is_safe(board, row, col):\n",
        "        for i in range(row):\n",
        "            if board[i] == col or \\\n",
        "               board[i] - i == col - row or \\\n",
        "               board[i] + i == col + row:\n",
        "                return False\n",
        "        return True\n",
        "\n",
        "    def solve(row):\n",
        "        if row == n:\n",
        "            result.append(board[:])\n",
        "        else:\n",
        "            for col in range(n):\n",
        "                if is_safe(board, row, col):\n",
        "                    board[row] = col\n",
        "                    solve(row + 1)\n",
        "\n",
        "    result = []\n",
        "    board = [-1] * n\n",
        "    solve(0)\n",
        "    return result\n",
        "\n",
        "solutions = solve_n_queens(4)\n",
        "print(\"N-Queens Solutions:\", solutions)"
      ]
    },
    {
      "cell_type": "markdown",
      "id": "6b02be92",
      "metadata": {
        "id": "6b02be92"
      },
      "source": [
        "88. Write a Python program to solve the Sudoku puzzle."
      ]
    },
    {
      "cell_type": "code",
      "execution_count": null,
      "id": "7875e67d",
      "metadata": {
        "id": "7875e67d",
        "colab": {
          "base_uri": "https://localhost:8080/"
        },
        "outputId": "f3f48a77-589c-4115-a8fd-5dcc48fc2801"
      },
      "outputs": [
        {
          "output_type": "stream",
          "name": "stdout",
          "text": [
            "Solved Sudoku:\n",
            "['5', '3', '4', '6', '7', '8', '9', '1', '2']\n",
            "['6', '7', '2', '1', '9', '5', '3', '4', '8']\n",
            "['1', '9', '8', '3', '4', '2', '5', '6', '7']\n",
            "['8', '5', '9', '7', '6', '1', '4', '2', '3']\n",
            "['4', '2', '6', '8', '5', '3', '7', '9', '1']\n",
            "['7', '1', '3', '9', '2', '4', '8', '5', '6']\n",
            "['9', '6', '1', '5', '3', '7', '2', '8', '4']\n",
            "['2', '8', '7', '4', '1', '9', '6', '3', '5']\n",
            "['3', '4', '5', '2', '8', '6', '1', '7', '9']\n"
          ]
        }
      ],
      "source": [
        "def solve_sudoku(board):\n",
        "    def is_valid(num, row, col):\n",
        "        for i in range(9):\n",
        "            if board[row][i] == num or board[i][col] == num or \\\n",
        "               board[row // 3 * 3 + i // 3][col // 3 * 3 + i % 3] == num:\n",
        "                return False\n",
        "        return True\n",
        "\n",
        "    def solve():\n",
        "        for row in range(9):\n",
        "            for col in range(9):\n",
        "                if board[row][col] == \".\":\n",
        "                    for num in \"123456789\":\n",
        "                        if is_valid(num, row, col):\n",
        "                            board[row][col] = num\n",
        "                            if solve():\n",
        "                                return True\n",
        "                            board[row][col] = \".\"\n",
        "                    return False\n",
        "        return True\n",
        "\n",
        "    solve()\n",
        "\n",
        "example_board = [\n",
        "    [5, 3, 0, 0, 7, 0, 0, 0, 0],\n",
        "    [6, 0, 0, 1, 9, 5, 0, 0, 0],\n",
        "    [0, 9, 8, 0, 0, 0, 0, 6, 0],\n",
        "    [8, 0, 0, 0, 6, 0, 0, 0, 3],\n",
        "    [4, 0, 0, 8, 0, 3, 0, 0, 1],\n",
        "    [7, 0, 0, 0, 2, 0, 0, 0, 6],\n",
        "    [0, 6, 0, 0, 0, 0, 2, 8, 0],\n",
        "    [0, 0, 0, 4, 1, 9, 0, 0, 5],\n",
        "    [0, 0, 0, 0, 8, 0, 0, 7, 9]\n",
        "]\n",
        "\n",
        "solve_sudoku(board)\n",
        "\n",
        "print(\"Solved Sudoku:\")\n",
        "for row in board:\n",
        "    print(row)"
      ]
    },
    {
      "cell_type": "markdown",
      "id": "5c8e1a78",
      "metadata": {
        "id": "5c8e1a78"
      },
      "source": [
        "89. Write a Python program to implement the A* search algorithm."
      ]
    },
    {
      "cell_type": "code",
      "execution_count": null,
      "id": "7bb0afd7",
      "metadata": {
        "id": "7bb0afd7",
        "colab": {
          "base_uri": "https://localhost:8080/"
        },
        "outputId": "27ed1ccb-50d3-4009-ffd8-09e2b4d58db4"
      },
      "outputs": [
        {
          "output_type": "stream",
          "name": "stdout",
          "text": [
            "Path using A* Search: ['A', 'B', 'E', 'G']\n"
          ]
        }
      ],
      "source": [
        "from heapq import heappop, heappush\n",
        "\n",
        "def a_star_search(graph, start, goal, heuristic):\n",
        "    open_set = []\n",
        "    heappush(open_set, (0, start))\n",
        "    came_from = {}\n",
        "    g_score = {node: float('inf') for node in graph}\n",
        "    g_score[start] = 0\n",
        "    f_score = {node: float('inf') for node in graph}\n",
        "    f_score[start] = heuristic[start]\n",
        "\n",
        "    while open_set:\n",
        "        _, current = heappop(open_set)\n",
        "\n",
        "        if current == goal:\n",
        "            path = []\n",
        "            while current in came_from:\n",
        "                path.append(current)\n",
        "                current = came_from[current]\n",
        "            path.append(start)\n",
        "            return path[::-1]\n",
        "\n",
        "        for neighbor, cost in graph[current]:\n",
        "            tentative_g_score = g_score[current] + cost\n",
        "            if tentative_g_score < g_score[neighbor]:\n",
        "                came_from[neighbor] = current\n",
        "                g_score[neighbor] = tentative_g_score\n",
        "                f_score[neighbor] = tentative_g_score + heuristic[neighbor]\n",
        "                heappush(open_set, (f_score[neighbor], neighbor))\n",
        "\n",
        "    return None\n",
        "\n",
        "graph = {\n",
        "    'A': [('B', 1), ('C', 3)],\n",
        "    'B': [('D', 3), ('E', 1)],\n",
        "    'C': [('E', 1)],\n",
        "    'D': [('G', 4)],\n",
        "    'E': [('G', 2)],\n",
        "    'G': []\n",
        "}\n",
        "\n",
        "heuristic = {\n",
        "    'A': 6, 'B': 4, 'C': 4, 'D': 2, 'E': 2, 'G': 0\n",
        "}\n",
        "\n",
        "start, goal = 'A', 'G'\n",
        "path = a_star_search(graph, start, goal, heuristic)\n",
        "print(\"Path using A* Search:\", path)"
      ]
    },
    {
      "cell_type": "markdown",
      "id": "492d9f05",
      "metadata": {
        "id": "492d9f05"
      },
      "source": [
        "90. Write a Python program to solve the 0/1 knapsack problem using backtracking."
      ]
    },
    {
      "cell_type": "code",
      "execution_count": null,
      "id": "f81c304b",
      "metadata": {
        "id": "f81c304b",
        "colab": {
          "base_uri": "https://localhost:8080/"
        },
        "outputId": "9577e8cd-c2d5-4cf9-e5d4-6bd6f37167e4"
      },
      "outputs": [
        {
          "output_type": "stream",
          "name": "stdout",
          "text": [
            "Maximum value in Knapsack: 220\n"
          ]
        }
      ],
      "source": [
        "def knapsack_backtracking(weights, values, capacity, n):\n",
        "    if n == 0 or capacity == 0:\n",
        "        return 0\n",
        "\n",
        "    if weights[n - 1] > capacity:\n",
        "        return knapsack_backtracking(weights, values, capacity, n - 1)\n",
        "\n",
        "    include = values[n - 1] + knapsack_backtracking(weights, values, capacity - weights[n - 1], n - 1)\n",
        "    exclude = knapsack_backtracking(weights, values, capacity, n - 1)\n",
        "\n",
        "    return max(include, exclude)\n",
        "\n",
        "weights = [10, 20, 30]\n",
        "values = [60, 100, 120]\n",
        "capacity = 50\n",
        "print(\"Maximum value in Knapsack:\", knapsack_backtracking(weights, values, capacity, len(values)))"
      ]
    },
    {
      "cell_type": "markdown",
      "id": "cd76f9ce",
      "metadata": {
        "id": "cd76f9ce"
      },
      "source": [
        "91. Write a Python program to solve the rat in a maze problem using backtracking."
      ]
    },
    {
      "cell_type": "code",
      "execution_count": null,
      "id": "78321338",
      "metadata": {
        "id": "78321338",
        "colab": {
          "base_uri": "https://localhost:8080/"
        },
        "outputId": "198b96da-0358-4dba-fee2-ff082ecf26ea"
      },
      "outputs": [
        {
          "output_type": "stream",
          "name": "stdout",
          "text": [
            "[1, 0, 0, 0]\n",
            "[1, 1, 0, 0]\n",
            "[0, 1, 0, 0]\n",
            "[0, 1, 1, 1]\n"
          ]
        }
      ],
      "source": [
        "def solve_maze(maze):\n",
        "    def is_safe(x, y):\n",
        "        return 0 <= x < len(maze) and 0 <= y < len(maze[0]) and maze[x][y] == 1\n",
        "\n",
        "    def solve(x, y):\n",
        "        if x == len(maze) - 1 and y == len(maze[0]) - 1:\n",
        "            solution[x][y] = 1\n",
        "            return True\n",
        "\n",
        "        if is_safe(x, y):\n",
        "            solution[x][y] = 1\n",
        "\n",
        "            if solve(x + 1, y):\n",
        "                return True\n",
        "            if solve(x, y + 1):\n",
        "                return True\n",
        "\n",
        "            solution[x][y] = 0\n",
        "        return False\n",
        "\n",
        "    solution = [[0] * len(maze[0]) for _ in range(len(maze))]\n",
        "    if solve(0, 0):\n",
        "        for row in solution:\n",
        "            print(row)\n",
        "    else:\n",
        "        print(\"No solution exists\")\n",
        "\n",
        "maze = [\n",
        "    [1, 0, 0, 0],\n",
        "    [1, 1, 0, 1],\n",
        "    [0, 1, 0, 0],\n",
        "    [1, 1, 1, 1]\n",
        "]\n",
        "solve_maze(maze)"
      ]
    },
    {
      "cell_type": "markdown",
      "id": "1620e426",
      "metadata": {
        "id": "1620e426"
      },
      "source": [
        "92. Write a Python program to solve the subset sum problem using backtracking."
      ]
    },
    {
      "cell_type": "code",
      "execution_count": null,
      "id": "24e509e4",
      "metadata": {
        "id": "24e509e4",
        "colab": {
          "base_uri": "https://localhost:8080/"
        },
        "outputId": "569ca427-3012-48cd-d050-90adf25c1a80"
      },
      "outputs": [
        {
          "output_type": "stream",
          "name": "stdout",
          "text": [
            "Subset sum exists: True\n"
          ]
        }
      ],
      "source": [
        "def subset_sum(nums, target):\n",
        "    def backtrack(index, current_sum):\n",
        "        if current_sum == target:\n",
        "            return True\n",
        "        if index >= len(nums) or current_sum > target:\n",
        "            return False\n",
        "\n",
        "        include = backtrack(index + 1, current_sum + nums[index])\n",
        "        exclude = backtrack(index + 1, current_sum)\n",
        "\n",
        "        return include or exclude\n",
        "\n",
        "    return backtrack(0, 0)\n",
        "\n",
        "nums = [3, 34, 4, 12, 5, 2]\n",
        "target = 9\n",
        "print(\"Subset sum exists:\", subset_sum(nums, target))"
      ]
    },
    {
      "cell_type": "markdown",
      "id": "4ea6bf60",
      "metadata": {
        "id": "4ea6bf60"
      },
      "source": [
        "93. Write a Python program to implement the Floyd-Warshall algorithm."
      ]
    },
    {
      "cell_type": "code",
      "execution_count": null,
      "id": "c98cf58e",
      "metadata": {
        "id": "c98cf58e",
        "colab": {
          "base_uri": "https://localhost:8080/"
        },
        "outputId": "b9587128-838b-4b00-fc5f-4a552a936ace"
      },
      "outputs": [
        {
          "output_type": "stream",
          "name": "stdout",
          "text": [
            "[0, 3, 5, 6]\n",
            "[5, 0, 2, 3]\n",
            "[3, 6, 0, 1]\n",
            "[2, 5, 7, 0]\n"
          ]
        }
      ],
      "source": [
        "def floyd_warshall(graph):\n",
        "    n = len(graph)\n",
        "    dist = [[graph[i][j] for j in range(n)] for i in range(n)]\n",
        "\n",
        "    for k in range(n):\n",
        "        for i in range(n):\n",
        "            for j in range(n):\n",
        "                dist[i][j] = min(dist[i][j], dist[i][k] + dist[k][j])\n",
        "\n",
        "    return dist\n",
        "\n",
        "graph = [\n",
        "    [0, 3, float('inf'), 7],\n",
        "    [8, 0, 2, float('inf')],\n",
        "    [5, float('inf'), 0, 1],\n",
        "    [2, float('inf'), float('inf'), 0]\n",
        "]\n",
        "result = floyd_warshall(graph)\n",
        "for row in result:\n",
        "    print(row)"
      ]
    },
    {
      "cell_type": "markdown",
      "id": "d25c4215",
      "metadata": {
        "id": "d25c4215"
      },
      "source": [
        "94. Write a Python program to implement the Bellman-Ford algorithm."
      ]
    },
    {
      "cell_type": "code",
      "execution_count": null,
      "id": "8938ba93",
      "metadata": {
        "id": "8938ba93",
        "colab": {
          "base_uri": "https://localhost:8080/"
        },
        "outputId": "ac8c3a20-c6e8-492c-84d3-beaca3710318"
      },
      "outputs": [
        {
          "output_type": "stream",
          "name": "stdout",
          "text": [
            "Shortest distances: [0, -1, 2, -2, 1]\n"
          ]
        }
      ],
      "source": [
        "def bellman_ford(graph, start, vertices):\n",
        "    distance = [float('inf')] * vertices\n",
        "    distance[start] = 0\n",
        "\n",
        "    for _ in range(vertices - 1):\n",
        "        for u, v, weight in graph:\n",
        "            if distance[u] + weight < distance[v]:\n",
        "                distance[v] = distance[u] + weight\n",
        "\n",
        "    for u, v, weight in graph:\n",
        "        if distance[u] + weight < distance[v]:\n",
        "            print(\"Graph contains a negative weight cycle\")\n",
        "            return\n",
        "\n",
        "    return distance\n",
        "\n",
        "graph = [\n",
        "    (0, 1, -1), (0, 2, 4),\n",
        "    (1, 2, 3), (1, 3, 2),\n",
        "    (1, 4, 2), (3, 2, 5),\n",
        "    (3, 1, 1), (4, 3, -3)\n",
        "]\n",
        "vertices = 5\n",
        "start = 0\n",
        "print(\"Shortest distances:\", bellman_ford(graph, start, vertices))"
      ]
    },
    {
      "cell_type": "markdown",
      "id": "82be40c8",
      "metadata": {
        "id": "82be40c8"
      },
      "source": [
        "95. Write a Python program to find the strongly connected components in a graph."
      ]
    },
    {
      "cell_type": "code",
      "execution_count": null,
      "id": "363b7337",
      "metadata": {
        "id": "363b7337",
        "colab": {
          "base_uri": "https://localhost:8080/"
        },
        "outputId": "2440998c-6c4f-4e4e-8359-6afff58caa69"
      },
      "outputs": [
        {
          "output_type": "stream",
          "name": "stdout",
          "text": [
            "Strongly Connected Components:\n",
            "Component 1: [0, 1, 2]\n",
            "Component 2: [3]\n",
            "Component 3: [4, 5, 6]\n",
            "Component 4: [7]\n"
          ]
        }
      ],
      "source": [
        "from collections import defaultdict\n",
        "\n",
        "def kosaraju(graph):\n",
        "    visited = set()\n",
        "    order = []\n",
        "\n",
        "    def dfs(node):\n",
        "        stack = [(node, False)]\n",
        "        while stack:\n",
        "            v, processed = stack.pop()\n",
        "            if processed:\n",
        "                order.append(v)\n",
        "                continue\n",
        "            if v in visited:\n",
        "                continue\n",
        "            visited.add(v)\n",
        "            stack.append((v, True))\n",
        "            for neighbor in graph.get(v, []):\n",
        "                if neighbor not in visited:\n",
        "                    stack.append((neighbor, False))\n",
        "\n",
        "    for node in graph:\n",
        "        if node not in visited:\n",
        "            dfs(node)\n",
        "    reversed_graph = defaultdict(__builtins__.list)\n",
        "    for u in graph:\n",
        "        for v in graph[u]:\n",
        "            reversed_graph[v].append(u)\n",
        "    visited = set()\n",
        "    sccs = []\n",
        "\n",
        "    for node in reversed(order):\n",
        "        if node not in visited:\n",
        "            stack = [node]\n",
        "            visited.add(node)\n",
        "            component = []\n",
        "            while stack:\n",
        "                v = stack.pop()\n",
        "                component.append(v)\n",
        "                for neighbor in reversed_graph.get(v, []):\n",
        "                    if neighbor not in visited:\n",
        "                        visited.add(neighbor)\n",
        "                        stack.append(neighbor)\n",
        "            sccs.append(component)\n",
        "\n",
        "    return sccs\n",
        "\n",
        "if __name__ == \"__main__\":\n",
        "    graph = {\n",
        "        0: [1],\n",
        "        1: [2],\n",
        "        2: [0, 3],\n",
        "        3: [4],\n",
        "        4: [5, 7],\n",
        "        5: [6],\n",
        "        6: [4, 7],\n",
        "        7: []\n",
        "    }\n",
        "\n",
        "    components = kosaraju(graph)\n",
        "    print(\"Strongly Connected Components:\")\n",
        "    for i, scc in enumerate(components, 1):\n",
        "        print(f\"Component {i}: {sorted(scc)}\")"
      ]
    },
    {
      "cell_type": "markdown",
      "id": "7fc0595a",
      "metadata": {
        "id": "7fc0595a"
      },
      "source": [
        "96. Write a Python program to find the articulation points in a graph."
      ]
    },
    {
      "cell_type": "code",
      "execution_count": null,
      "id": "5c60243b",
      "metadata": {
        "id": "5c60243b",
        "colab": {
          "base_uri": "https://localhost:8080/"
        },
        "outputId": "ff8138ea-6b58-4d7b-9f9a-c316651ab16d"
      },
      "outputs": [
        {
          "output_type": "stream",
          "name": "stdout",
          "text": [
            "Articulation Points: {1, 3}\n"
          ]
        }
      ],
      "source": [
        "from collections import defaultdict\n",
        "\n",
        "def find_articulation_points(graph, vertices):\n",
        "    def dfs(node, parent, time):\n",
        "        visited[node] = True\n",
        "        discovery[node] = low[node] = time\n",
        "        children = 0\n",
        "\n",
        "        for neighbor in graph[node]:\n",
        "            if not visited[neighbor]:\n",
        "                children += 1\n",
        "                parent[neighbor] = node\n",
        "                dfs(neighbor, parent, time + 1)\n",
        "\n",
        "                low[node] = min(low[node], low[neighbor])\n",
        "\n",
        "                if parent[node] is None and children > 1:\n",
        "                    articulation_points.add(node)\n",
        "                if parent[node] is not None and low[neighbor] >= discovery[node]:\n",
        "                    articulation_points.add(node)\n",
        "            elif neighbor != parent[node]:\n",
        "                low[node] = min(low[node], discovery[neighbor])\n",
        "\n",
        "    visited = [False] * vertices\n",
        "    discovery = [float('inf')] * vertices\n",
        "    low = [float('inf')] * vertices\n",
        "    parent = [None] * vertices\n",
        "    articulation_points = set()\n",
        "\n",
        "    for i in range(vertices):\n",
        "        if not visited[i]:\n",
        "            dfs(i, parent, 0)\n",
        "\n",
        "    return articulation_points\n",
        "\n",
        "graph = {\n",
        "    0: [1, 2],\n",
        "    1: [0, 2, 3],\n",
        "    2: [0, 1],\n",
        "    3: [1, 4],\n",
        "    4: [3]\n",
        "}\n",
        "vertices = 5\n",
        "print(\"Articulation Points:\", find_articulation_points(graph, vertices))"
      ]
    },
    {
      "cell_type": "markdown",
      "id": "be79f697",
      "metadata": {
        "id": "be79f697"
      },
      "source": [
        "97. Write a Python program to find the bridges in a graph."
      ]
    },
    {
      "cell_type": "code",
      "execution_count": null,
      "id": "54772a36",
      "metadata": {
        "id": "54772a36",
        "colab": {
          "base_uri": "https://localhost:8080/"
        },
        "outputId": "42b8e91e-a899-4986-9f17-df119626aee8"
      },
      "outputs": [
        {
          "output_type": "stream",
          "name": "stdout",
          "text": [
            "Bridges: [(3, 4), (1, 3)]\n"
          ]
        }
      ],
      "source": [
        "from collections import defaultdict\n",
        "\n",
        "def find_bridges(graph, vertices):\n",
        "    def dfs(node, parent, time):\n",
        "        visited[node] = True\n",
        "        discovery[node] = low[node] = time\n",
        "\n",
        "        for neighbor in graph[node]:\n",
        "            if not visited[neighbor]:\n",
        "                parent[neighbor] = node\n",
        "                dfs(neighbor, parent, time + 1)\n",
        "\n",
        "                low[node] = min(low[node], low[neighbor])\n",
        "\n",
        "                if low[neighbor] > discovery[node]:\n",
        "                    bridges.append((node, neighbor))\n",
        "            elif neighbor != parent[node]:\n",
        "                low[node] = min(low[node], discovery[neighbor])\n",
        "\n",
        "    visited = [False] * vertices\n",
        "    discovery = [float('inf')] * vertices\n",
        "    low = [float('inf')] * vertices\n",
        "    parent = [None] * vertices\n",
        "    bridges = []\n",
        "\n",
        "    for i in range(vertices):\n",
        "        if not visited[i]:\n",
        "            dfs(i, parent, 0)\n",
        "\n",
        "    return bridges\n",
        "\n",
        "graph = {\n",
        "    0: [1, 2],\n",
        "    1: [0, 2, 3],\n",
        "    2: [0, 1],\n",
        "    3: [1, 4],\n",
        "    4: [3]\n",
        "}\n",
        "vertices = 5\n",
        "print(\"Bridges:\", find_bridges(graph, vertices))"
      ]
    },
    {
      "cell_type": "markdown",
      "id": "ab13b951",
      "metadata": {
        "id": "ab13b951"
      },
      "source": [
        "98. Write a Python program to find the Eulerian path in a graph."
      ]
    },
    {
      "cell_type": "code",
      "execution_count": null,
      "id": "833474df",
      "metadata": {
        "id": "833474df",
        "colab": {
          "base_uri": "https://localhost:8080/"
        },
        "outputId": "01f7ec9a-7307-4656-aa05-d74573e3d3a1"
      },
      "outputs": [
        {
          "output_type": "stream",
          "name": "stdout",
          "text": [
            "Eulerian Path: [3, 2, 0, 1, 2]\n"
          ]
        }
      ],
      "source": [
        "def find_eulerian_path(graph):\n",
        "    odd_degree_nodes = [node for node in graph if len(graph[node]) % 2 != 0]\n",
        "    if len(odd_degree_nodes) > 2:\n",
        "        return None\n",
        "\n",
        "    path = []\n",
        "    stack = [odd_degree_nodes[0] if odd_degree_nodes else next(iter(graph))]\n",
        "\n",
        "    while stack:\n",
        "        u = stack[-1]\n",
        "        if graph[u]:\n",
        "            v = graph[u].pop()\n",
        "            graph[v].remove(u)\n",
        "            stack.append(v)\n",
        "        else:\n",
        "            path.append(stack.pop())\n",
        "\n",
        "    return path\n",
        "\n",
        "graph = {\n",
        "    0: [1, 2],\n",
        "    1: [0, 2],\n",
        "    2: [0, 1, 3],\n",
        "    3: [2]\n",
        "}\n",
        "print(\"Eulerian Path:\", find_eulerian_path(graph))"
      ]
    },
    {
      "cell_type": "markdown",
      "id": "ff3aeb6b",
      "metadata": {
        "id": "ff3aeb6b"
      },
      "source": [
        "99. Write a Python program to find the Hamiltonian path in a graph."
      ]
    },
    {
      "cell_type": "code",
      "execution_count": null,
      "id": "24831f53",
      "metadata": {
        "id": "24831f53",
        "colab": {
          "base_uri": "https://localhost:8080/"
        },
        "outputId": "52eef6df-4bee-4f91-fbb0-ff550ff113e9"
      },
      "outputs": [
        {
          "output_type": "stream",
          "name": "stdout",
          "text": [
            "Hamiltonian Path: [0, 1, 3, 2]\n"
          ]
        }
      ],
      "source": [
        "def hamiltonian_path(graph, path, visited, vertices):\n",
        "    if len(path) == vertices:\n",
        "        return path\n",
        "\n",
        "    for neighbor in graph[path[-1]]:\n",
        "        if neighbor not in visited:\n",
        "            visited.add(neighbor)\n",
        "            path.append(neighbor)\n",
        "\n",
        "            result = hamiltonian_path(graph, path, visited, vertices)\n",
        "            if result:\n",
        "                return result\n",
        "\n",
        "            path.pop()\n",
        "            visited.remove(neighbor)\n",
        "\n",
        "    return None\n",
        "\n",
        "graph = {\n",
        "    0: [1, 2],\n",
        "    1: [0, 3],\n",
        "    2: [0, 3],\n",
        "    3: [1, 2]\n",
        "}\n",
        "vertices = 4\n",
        "path = hamiltonian_path(graph, [0], set([0]), vertices)\n",
        "print(\"Hamiltonian Path:\", path if path else \"No path found\")"
      ]
    },
    {
      "cell_type": "markdown",
      "id": "05528f97",
      "metadata": {
        "id": "05528f97"
      },
      "source": [
        "100. Write a Python program to find the topological order of a directed acyclic graph."
      ]
    },
    {
      "cell_type": "code",
      "execution_count": null,
      "id": "b3cf865d",
      "metadata": {
        "id": "b3cf865d",
        "colab": {
          "base_uri": "https://localhost:8080/"
        },
        "outputId": "75a2484f-3308-4baf-af08-593974945ded"
      },
      "outputs": [
        {
          "output_type": "stream",
          "name": "stdout",
          "text": [
            "Topological Order: [4, 5, 0, 2, 3, 1]\n"
          ]
        }
      ],
      "source": [
        "def topological_sort(graph):\n",
        "    def dfs(node):\n",
        "        visited.add(node)\n",
        "        for neighbor in graph[node]:\n",
        "            if neighbor not in visited:\n",
        "                dfs(neighbor)\n",
        "        stack.append(node)\n",
        "\n",
        "    visited = set()\n",
        "    stack = []\n",
        "\n",
        "    for node in graph:\n",
        "        if node not in visited:\n",
        "            dfs(node)\n",
        "\n",
        "    return stack[::-1]\n",
        "\n",
        "graph = {\n",
        "    5: [2, 0],\n",
        "    4: [0, 1],\n",
        "    2: [3],\n",
        "    3: [1],\n",
        "    0: [],\n",
        "    1: []\n",
        "}\n",
        "print(\"Topological Order:\", topological_sort(graph))"
      ]
    }
  ],
  "metadata": {
    "colab": {
      "provenance": [],
      "include_colab_link": true
    },
    "language_info": {
      "name": "python"
    },
    "kernelspec": {
      "name": "python3",
      "display_name": "Python 3"
    }
  },
  "nbformat": 4,
  "nbformat_minor": 5
}